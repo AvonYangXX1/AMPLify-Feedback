{
  "cells": [
    {
      "cell_type": "code",
      "execution_count": 1,
      "metadata": {
        "colab": {
          "base_uri": "https://localhost:8080/"
        },
        "id": "lxv6974K_ego",
        "outputId": "7bad430e-7f06-4294-8de8-da7b88d6ad0f"
      },
      "outputs": [
        {
          "output_type": "stream",
          "name": "stdout",
          "text": [
            "Cloning into 'AMPLify-Feedback'...\n",
            "remote: Enumerating objects: 381, done.\u001b[K\n",
            "remote: Counting objects: 100% (30/30), done.\u001b[K\n",
            "remote: Compressing objects: 100% (24/24), done.\u001b[K\n",
            "remote: Total 381 (delta 14), reused 16 (delta 6), pack-reused 351\u001b[K\n",
            "Receiving objects: 100% (381/381), 100.02 MiB | 28.10 MiB/s, done.\n",
            "Resolving deltas: 100% (181/181), done.\n",
            "Updating files: 100% (72/72), done.\n"
          ]
        }
      ],
      "source": [
        "!git clone https://github.com/AvonYangXX1/AMPLify-Feedback.git\n",
        "import tensorflow as tf\n",
        "import numpy as np"
      ]
    },
    {
      "cell_type": "markdown",
      "metadata": {
        "id": "Z_d_FJl4_egq"
      },
      "source": [
        "## Microbial Species"
      ]
    },
    {
      "cell_type": "code",
      "execution_count": 2,
      "metadata": {
        "id": "iF5PkP8v_egr"
      },
      "outputs": [],
      "source": [
        "species_vocal = np.load(\"AMPLify-Feedback/model_weights/SpeciesTV_vocal.npy\")\n",
        "species_decoder = tf.keras.layers.StringLookup(vocabulary=species_vocal[1:], invert=True, oov_token='')"
      ]
    },
    {
      "cell_type": "markdown",
      "metadata": {
        "id": "FHuiRNI1_egs"
      },
      "source": [
        "### Example:"
      ]
    },
    {
      "cell_type": "code",
      "execution_count": 3,
      "metadata": {
        "id": "3IZNq7lH_egs"
      },
      "outputs": [],
      "source": [
        "bacterium = np.zeros(326)\n",
        "bacterium[1] = 1 #Pick the first bacteria\n",
        "bacterium = bacterium.reshape(1,326)"
      ]
    },
    {
      "cell_type": "code",
      "execution_count": 4,
      "metadata": {
        "colab": {
          "base_uri": "https://localhost:8080/"
        },
        "id": "96XO8fG6_egs",
        "outputId": "a7949f8e-c213-4e5c-c216-f3cf44ba5854"
      },
      "outputs": [
        {
          "output_type": "execute_result",
          "data": {
            "text/plain": [
              "array(['Bacillus_subtilis'], dtype='<U17')"
            ]
          },
          "metadata": {},
          "execution_count": 4
        }
      ],
      "source": [
        "species_decoder( tf.math.argmax(bacterium, axis=1) ).numpy().astype('str')"
      ]
    },
    {
      "cell_type": "markdown",
      "metadata": {
        "id": "AfZn2EO9_egs"
      },
      "source": [
        "## Peptide Sequence"
      ]
    },
    {
      "cell_type": "code",
      "execution_count": 11,
      "metadata": {
        "id": "YPyDcRrd_egs"
      },
      "outputs": [],
      "source": [
        "aa_vocal = np.load(\"AMPLify-Feedback/model_weights/SeqTV_vocal.npy\")\n",
        "pep_decoder = tf.keras.layers.StringLookup(vocabulary=aa_vocal[1:], invert=True, oov_token='')"
      ]
    },
    {
      "cell_type": "markdown",
      "metadata": {
        "id": "wB53BF6C_egt"
      },
      "source": [
        "### Example:"
      ]
    },
    {
      "cell_type": "code",
      "execution_count": 6,
      "metadata": {
        "id": "XlGSdb_s_egt"
      },
      "outputs": [],
      "source": [
        "generator = tf.keras.models.load_model('AMPLify-Feedback/model_weights/PeptideGenerator.keras')"
      ]
    },
    {
      "cell_type": "code",
      "execution_count": 13,
      "metadata": {
        "id": "y7KjuecA_egt"
      },
      "outputs": [],
      "source": [
        "noise = np.random.normal(0, 1, (1, 10))\n",
        "generated_sequence = generator.predict([noise, bacterium], verbose=0)"
      ]
    },
    {
      "cell_type": "code",
      "execution_count": 14,
      "metadata": {
        "colab": {
          "base_uri": "https://localhost:8080/"
        },
        "id": "3j-ALQeB_egu",
        "outputId": "f865bf51-3ce2-40ab-fd0b-49174b4108a0"
      },
      "outputs": [
        {
          "output_type": "execute_result",
          "data": {
            "text/plain": [
              "['GKKVLGKLPK']"
            ]
          },
          "metadata": {},
          "execution_count": 14
        }
      ],
      "source": [
        "chars_array = pep_decoder(tf.math.argmax(generated_sequence, axis=2)).numpy().astype('str')\n",
        "[\"\".join(chars) for chars in chars_array]"
      ]
    }
  ],
  "metadata": {
    "kernelspec": {
      "display_name": "Python 3",
      "language": "python",
      "name": "python3"
    },
    "language_info": {
      "codemirror_mode": {
        "name": "ipython",
        "version": 3
      },
      "file_extension": ".py",
      "mimetype": "text/x-python",
      "name": "python",
      "nbconvert_exporter": "python",
      "pygments_lexer": "ipython3",
      "version": "3.8.5"
    },
    "colab": {
      "provenance": []
    }
  },
  "nbformat": 4,
  "nbformat_minor": 0
}