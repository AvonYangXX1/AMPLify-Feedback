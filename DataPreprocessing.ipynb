{
 "cells": [
  {
   "cell_type": "code",
   "execution_count": 1,
   "metadata": {},
   "outputs": [
    {
     "name": "stderr",
     "output_type": "stream",
     "text": [
      "/Users/miaojiazheng/Downloads/anaconda3/lib/python3.8/site-packages/pandas/core/computation/expressions.py:20: UserWarning: Pandas requires version '2.7.3' or newer of 'numexpr' (version '2.7.1' currently installed).\n",
      "  from pandas.core.computation.check import NUMEXPR_INSTALLED\n"
     ]
    }
   ],
   "source": [
    "import numpy as np\n",
    "import pandas as pd\n",
    "import seaborn as sns\n",
    "import tensorflow as tf\n",
    "import pickle\n",
    "import random\n",
    "from sklearn.model_selection import train_test_split, KFold"
   ]
  },
  {
   "cell_type": "code",
   "execution_count": 2,
   "metadata": {},
   "outputs": [],
   "source": [
    "pos = pd.read_csv(\"source_data/AMP0_data.csv\")"
   ]
  },
  {
   "cell_type": "code",
   "execution_count": 3,
   "metadata": {},
   "outputs": [],
   "source": [
    "neg = []\n",
    "for dataset in [\"train\",\"test\"]:\n",
    "    file = open(\"source_data/AMPlify_non_AMP/AMPlify_non_AMP_{}_imbalanced.fa\".format(dataset),\"r\")\n",
    "    for line in file:\n",
    "        if line[0] != \">\":\n",
    "            neg.append(line.split(\"\\n\")[0])\n",
    "    file.close()"
   ]
  },
  {
   "cell_type": "code",
   "execution_count": 4,
   "metadata": {},
   "outputs": [],
   "source": [
    "neglength = pd.Series(neg).apply(lambda x: len(x))\n",
    "poslength = pos.drop_duplicates([\"DBAASP ID\"])[\"Sequence\"].apply(lambda x: len(x))"
   ]
  },
  {
   "cell_type": "code",
   "execution_count": 5,
   "metadata": {},
   "outputs": [
    {
     "data": {
      "text/plain": [
       "<Axes: xlabel='Sequence', ylabel='Count'>"
      ]
     },
     "execution_count": 5,
     "metadata": {},
     "output_type": "execute_result"
    },
    {
     "data": {
      "image/png": "[encoded data removed]",
      "text/plain": [
       "<Figure size 432x288 with 1 Axes>"
      ]
     },
     "metadata": {
      "needs_background": "light"
     },
     "output_type": "display_data"
    }
   ],
   "source": [
    "sns.histplot(neglength, color=\"blue\")\n",
    "sns.histplot(poslength, color=\"red\")"
   ]
  },
  {
   "cell_type": "code",
   "execution_count": 6,
   "metadata": {},
   "outputs": [],
   "source": [
    "# transform = lambda x: 0.5+(0.5/(1+np.exp((x-105)/20)))\n",
    "# mic = np.array([i for i in range(1000)])\n",
    "# y = transform(mic)\n",
    "# sns.lineplot(mic, y)"
   ]
  },
  {
   "cell_type": "code",
   "execution_count": 7,
   "metadata": {},
   "outputs": [],
   "source": [
    "pos_seq = pos[\"Sequence\"].values\n",
    "pos_label = pos['MIC (?g/mL )'].apply(lambda x: np.log2(x+1)).values\n",
    "pos_state = pos[\"Target species\"].apply(lambda x: x.replace(\" \", \"_\"))\n",
    "# neg_seq = pd.Series(neg).sample(n=len(pos_seq), replace=True, random_state=8701).values\n",
    "# neg_state = pos_state.sample(n=len(pos_seq), replace=True, random_state=8701).values\n",
    "# neg_label = np.zeros(len(pos_seq))\n",
    "# state = np.concatenate([pos_state.values, neg_state])\n",
    "# label = np.concatenate([pos_label, neg_label])\n",
    "# label = label.reshape(label.shape[0], 1)\n",
    "# seq = np.concatenate([pos_seq, neg_seq])"
   ]
  },
  {
   "cell_type": "code",
   "execution_count": 8,
   "metadata": {},
   "outputs": [
    {
     "data": {
      "text/plain": [
       "array([1.27310934, 8.15159386, 7.2932424 , ..., 6.19857651, 3.45943162,\n",
       "       6.65821148])"
      ]
     },
     "execution_count": 8,
     "metadata": {},
     "output_type": "execute_result"
    }
   ],
   "source": [
    "pos_label"
   ]
  },
  {
   "cell_type": "code",
   "execution_count": 9,
   "metadata": {},
   "outputs": [
    {
     "data": {
      "text/plain": [
       "<Axes: ylabel='Count'>"
      ]
     },
     "execution_count": 9,
     "metadata": {},
     "output_type": "execute_result"
    },
    {
     "data": {
      "image/png": "[encoded data removed]",
      "text/plain": [
       "<Figure size 432x288 with 1 Axes>"
      ]
     },
     "metadata": {
      "needs_background": "light"
     },
     "output_type": "display_data"
    }
   ],
   "source": [
    "sns.histplot(pos_label)"
   ]
  },
  {
   "cell_type": "code",
   "execution_count": 10,
   "metadata": {},
   "outputs": [],
   "source": [
    "species = pos_state.drop_duplicates().tolist()\n",
    "SpeciesTV = tf.keras.layers.TextVectorization(standardize=None, split=\"whitespace\", vocabulary=species,\n",
    "                                          output_mode=\"multi_hot\", name=\"SpeciesTextVectorizer\")\n",
    "SeqTV = tf.keras.layers.TextVectorization(max_tokens=50, standardize=None, split=\"character\", \n",
    "                                          pad_to_max_tokens=True,\n",
    "                                          output_sequence_length=max(poslength), \n",
    "                                          output_mode=\"int\", name=\"SeqTextVectorizer\")"
   ]
  },
  {
   "cell_type": "code",
   "execution_count": 11,
   "metadata": {},
   "outputs": [],
   "source": [
    "enc_state = SpeciesTV(pos_state).numpy()\n",
    "SeqTV.adapt(pos_seq)\n",
    "enc_seq = SeqTV(pos_seq).numpy()"
   ]
  },
  {
   "cell_type": "code",
   "execution_count": 12,
   "metadata": {},
   "outputs": [
    {
     "data": {
      "text/plain": [
       "(30712, 190)"
      ]
     },
     "execution_count": 12,
     "metadata": {},
     "output_type": "execute_result"
    }
   ],
   "source": [
    "enc_seq.shape"
   ]
  },
  {
   "cell_type": "code",
   "execution_count": 13,
   "metadata": {},
   "outputs": [],
   "source": [
    "gan_data = np.unique(pos_seq).tolist() + neg\n",
    "random.seed(8701)\n",
    "random.shuffle(gan_data)\n",
    "gan_data = SeqTV(gan_data)"
   ]
  },
  {
   "cell_type": "code",
   "execution_count": 14,
   "metadata": {},
   "outputs": [
    {
     "data": {
      "text/plain": [
       "TensorShape([133584, 190])"
      ]
     },
     "execution_count": 14,
     "metadata": {},
     "output_type": "execute_result"
    }
   ],
   "source": [
    "gan_data.shape"
   ]
  },
  {
   "cell_type": "code",
   "execution_count": 18,
   "metadata": {},
   "outputs": [],
   "source": [
    "num_group = 12\n",
    "size = 133584/num_group\n",
    "for i in range(num_group):\n",
    "    start = int(size * i)\n",
    "    end = int(size * (i+1))\n",
    "    np.save(f\"processed_data/gan_train_data/group_{i}\", gan_data[start:end])"
   ]
  },
  {
   "cell_type": "code",
   "execution_count": 19,
   "metadata": {},
   "outputs": [],
   "source": [
    "np.save(\"model_weights/SeqTV_vocal.npy\", np.array(SeqTV.get_vocabulary()))\n",
    "np.save(\"model_weights/SpeciesTV_vocal.npy\", np.array(SpeciesTV.get_vocabulary()))"
   ]
  },
  {
   "cell_type": "code",
   "execution_count": 20,
   "metadata": {},
   "outputs": [],
   "source": [
    "kf = KFold(n_splits=5, shuffle=True, random_state=8701)"
   ]
  },
  {
   "cell_type": "code",
   "execution_count": 21,
   "metadata": {},
   "outputs": [],
   "source": [
    "enc_seq = np.expand_dims(enc_seq, 2).astype(\"float32\")\n",
    "enc_state = enc_state.astype(\"float32\")\n",
    "pos_label = np.expand_dims(pos_label, 1).astype(\"float32\")"
   ]
  },
  {
   "cell_type": "code",
   "execution_count": 22,
   "metadata": {},
   "outputs": [],
   "source": [
    "_, (cv_index, val_index) = list(enumerate(kf.split(pos_seq)))[0]\n",
    "seq_cv = enc_seq[cv_index]\n",
    "state_cv = enc_state[cv_index]\n",
    "label_cv = pos_label[cv_index]\n",
    "seq_test = enc_seq[val_index]\n",
    "state_test = enc_state[val_index]\n",
    "label_test = pos_label[val_index]"
   ]
  },
  {
   "cell_type": "code",
   "execution_count": 23,
   "metadata": {},
   "outputs": [],
   "source": [
    "np.save(\"processed_data/test/seq_test\", seq_test)\n",
    "np.save(\"processed_data/test/state_test\", state_test)\n",
    "np.save(\"processed_data/test/label_test\", label_test)\n",
    "np.save(\"processed_data/test/seq_cv\", seq_cv)\n",
    "np.save(\"processed_data/test/state_cv\", state_cv)\n",
    "np.save(\"processed_data/test/label_cv\", label_cv)\n",
    "np.save(\"processed_data/test/seq_whole\", enc_seq)\n",
    "np.save(\"processed_data/test/state_whole\", enc_state)\n",
    "np.save(\"processed_data/test/label_whole\", pos_label)"
   ]
  },
  {
   "cell_type": "code",
   "execution_count": 24,
   "metadata": {},
   "outputs": [],
   "source": [
    "for i, (train_index, val_index) in enumerate(kf.split(seq_cv)):\n",
    "    seq_train = seq_cv[train_index]\n",
    "    state_train = state_cv[train_index]\n",
    "    label_train = label_cv[train_index]\n",
    "    seq_val = seq_cv[val_index]\n",
    "    state_val = state_cv[val_index]\n",
    "    label_val = label_cv[val_index]\n",
    "    np.save(\"processed_data/cv/seq_train_{}\".format(i), seq_train)\n",
    "    np.save(\"processed_data/cv/state_train_{}\".format(i), state_train)\n",
    "    np.save(\"processed_data/cv/label_train_{}\".format(i), label_train)\n",
    "    np.save(\"processed_data/cv/seq_val_{}\".format(i), seq_val)\n",
    "    np.save(\"processed_data/cv/state_val_{}\".format(i), state_val)\n",
    "    np.save(\"processed_data/cv/label_val_{}\".format(i), label_val)"
   ]
  },
  {
   "cell_type": "code",
   "execution_count": null,
   "metadata": {},
   "outputs": [],
   "source": []
  }
 ],
 "metadata": {
  "kernelspec": {
   "display_name": "Python 3",
   "language": "python",
   "name": "python3"
  },
  "language_info": {
   "codemirror_mode": {
    "name": "ipython",
    "version": 3
   },
   "file_extension": ".py",
   "mimetype": "text/x-python",
   "name": "python",
   "nbconvert_exporter": "python",
   "pygments_lexer": "ipython3",
   "version": "3.8.5"
  }
 },
 "nbformat": 4,
 "nbformat_minor": 4
}
