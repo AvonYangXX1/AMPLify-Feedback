{
 "cells": [
  {
   "cell_type": "code",
   "execution_count": 1,
   "metadata": {},
   "outputs": [
    {
     "name": "stderr",
     "output_type": "stream",
     "text": [
      "/Users/miaojiazheng/Downloads/anaconda3/lib/python3.8/site-packages/pandas/core/computation/expressions.py:20: UserWarning: Pandas requires version '2.7.3' or newer of 'numexpr' (version '2.7.1' currently installed).\n",
      "  from pandas.core.computation.check import NUMEXPR_INSTALLED\n"
     ]
    }
   ],
   "source": [
    "import numpy as np\n",
    "import pandas as pd\n",
    "import seaborn as sns\n",
    "import tensorflow as tf\n",
    "import pickle\n",
    "import random\n",
    "from sklearn.model_selection import train_test_split, KFold"
   ]
  },
  {
   "cell_type": "code",
   "execution_count": 2,
   "metadata": {},
   "outputs": [],
   "source": [
    "pos = pd.read_csv(\"source_data/AMP0_data.csv\")"
   ]
  },
  {
   "cell_type": "code",
   "execution_count": 3,
   "metadata": {},
   "outputs": [],
   "source": [
    "# neg = []\n",
    "# for dataset in [\"train\",\"test\"]:\n",
    "#     file = open(\"source_data/AMPlify_non_AMP/AMPlify_non_AMP_{}_balanced.fa\".format(dataset),\"r\")\n",
    "#     for line in file:\n",
    "#         if line[0] != \">\":\n",
    "#             neg.append(line.split(\"\\n\")[0])\n",
    "#     file.close()"
   ]
  },
  {
   "cell_type": "code",
   "execution_count": 3,
   "metadata": {},
   "outputs": [],
   "source": [
    "# neglength = pd.Series(neg).apply(lambda x: len(x))\n",
    "poslength = pos.drop_duplicates([\"DBAASP ID\"])[\"Sequence\"].apply(lambda x: len(x))"
   ]
  },
  {
   "cell_type": "code",
   "execution_count": 4,
   "metadata": {},
   "outputs": [
    {
     "data": {
      "text/plain": [
       "<Axes: xlabel='Sequence', ylabel='Count'>"
      ]
     },
     "execution_count": 4,
     "metadata": {},
     "output_type": "execute_result"
    },
    {
     "data": {
      "image/png": "[encoded data removed]",
      "text/plain": [
       "<Figure size 432x288 with 1 Axes>"
      ]
     },
     "metadata": {
      "needs_background": "light"
     },
     "output_type": "display_data"
    }
   ],
   "source": [
    "# sns.histplot(neglength, color=\"blue\")\n",
    "sns.histplot(poslength, color=\"red\")"
   ]
  },
  {
   "cell_type": "code",
   "execution_count": 6,
   "metadata": {},
   "outputs": [],
   "source": [
    "# transform = lambda x: 0.5+(0.5/(1+np.exp((x-105)/20)))\n",
    "# mic = np.array([i for i in range(1000)])\n",
    "# y = transform(mic)\n",
    "# sns.lineplot(mic, y)"
   ]
  },
  {
   "cell_type": "code",
   "execution_count": 5,
   "metadata": {},
   "outputs": [],
   "source": [
    "pos_seq = pos[\"Sequence\"].values\n",
    "pos_label = pos['MIC (?g/mL )'].apply(lambda x: x*1000).values\n",
    "pos_state = pos[\"Target species\"].apply(lambda x: x.replace(\" \", \"_\"))\n",
    "# neg_seq = pd.Series(neg).sample(n=len(pos_seq), replace=True, random_state=8701).values\n",
    "# neg_state = pos_state.sample(n=len(pos_seq), replace=True, random_state=8701).values\n",
    "# neg_label = np.zeros(len(pos_seq))\n",
    "# state = np.concatenate([pos_state.values, neg_state])\n",
    "# label = np.concatenate([pos_label, neg_label])\n",
    "# label = label.reshape(label.shape[0], 1)\n",
    "# seq = np.concatenate([pos_seq, neg_seq])"
   ]
  },
  {
   "cell_type": "code",
   "execution_count": 7,
   "metadata": {},
   "outputs": [
    {
     "data": {
      "text/plain": [
       "array([  1416.81885, 283363.77   , 155850.0735 , ...,  72444.1925 ,\n",
       "        10000.     , 100000.     ])"
      ]
     },
     "execution_count": 7,
     "metadata": {},
     "output_type": "execute_result"
    }
   ],
   "source": [
    "pos_label"
   ]
  },
  {
   "cell_type": "code",
   "execution_count": 6,
   "metadata": {},
   "outputs": [
    {
     "data": {
      "text/plain": [
       "<Axes: ylabel='Count'>"
      ]
     },
     "execution_count": 6,
     "metadata": {},
     "output_type": "execute_result"
    },
    {
     "data": {
      "image/png": "[encoded data removed]",
      "text/plain": [
       "<Figure size 432x288 with 1 Axes>"
      ]
     },
     "metadata": {
      "needs_background": "light"
     },
     "output_type": "display_data"
    }
   ],
   "source": [
    "sns.histplot(pos_label)"
   ]
  },
  {
   "cell_type": "code",
   "execution_count": 8,
   "metadata": {},
   "outputs": [],
   "source": [
    "species = pos_state.drop_duplicates().tolist()\n",
    "SpeciesTV = tf.keras.layers.TextVectorization(standardize=None, split=\"whitespace\", vocabulary=species,\n",
    "                                          output_mode=\"multi_hot\", name=\"SpeciesTextVectorizer\")\n",
    "SeqTV = tf.keras.layers.TextVectorization(max_tokens=200, standardize=None, split=\"character\", pad_to_max_tokens=True,\n",
    "                                          output_mode=\"int\", name=\"SeqTextVectorizer\")"
   ]
  },
  {
   "cell_type": "code",
   "execution_count": 9,
   "metadata": {},
   "outputs": [],
   "source": [
    "enc_state = SpeciesTV(pos_state).numpy()\n",
    "SeqTV.adapt(pos_seq)\n",
    "enc_seq = SeqTV(pos_seq).numpy()"
   ]
  },
  {
   "cell_type": "code",
   "execution_count": 10,
   "metadata": {},
   "outputs": [],
   "source": [
    "pickle.dump({'config': SpeciesTV.get_config(),\n",
    "             'weights': SpeciesTV.get_weights()}\n",
    "            , open(\"model_weights/SpeciesTextVectorizer.pkl\", \"wb\"))\n",
    "\n",
    "pickle.dump({'config': SeqTV.get_config(),\n",
    "             'weights': SeqTV.get_weights()}\n",
    "            , open(\"model_weights/SeqTextVectorizer.pkl\", \"wb\"))"
   ]
  },
  {
   "cell_type": "code",
   "execution_count": 11,
   "metadata": {},
   "outputs": [],
   "source": [
    "kf = KFold(n_splits=5, shuffle=True, random_state=8701)"
   ]
  },
  {
   "cell_type": "code",
   "execution_count": 12,
   "metadata": {},
   "outputs": [],
   "source": [
    "_, (cv_index, val_index) = list(enumerate(kf.split(pos_seq)))[0]\n",
    "seq_cv = enc_seq[cv_index]\n",
    "state_cv = enc_state[cv_index]\n",
    "label_cv = pos_label[cv_index]\n",
    "seq_val = enc_seq[val_index]\n",
    "state_val = enc_state[val_index]\n",
    "label_val = pos_label[val_index]"
   ]
  },
  {
   "cell_type": "code",
   "execution_count": 13,
   "metadata": {},
   "outputs": [],
   "source": [
    "np.save(\"processed_data/val/seq_val\", seq_val)\n",
    "np.save(\"processed_data/val/state_val\", state_val)\n",
    "np.save(\"processed_data/val/label_val\", label_val)"
   ]
  },
  {
   "cell_type": "code",
   "execution_count": 14,
   "metadata": {},
   "outputs": [],
   "source": [
    "for i, (train_index, test_index) in enumerate(kf.split(seq_cv)):\n",
    "    seq_train = seq_cv[train_index]\n",
    "    state_train = state_cv[train_index]\n",
    "    label_train = label_cv[train_index]\n",
    "    seq_test = seq_cv[test_index]\n",
    "    state_test = state_cv[test_index]\n",
    "    label_test = label_cv[test_index]\n",
    "    np.save(\"processed_data/cv/seq_train_{}\".format(i), seq_train)\n",
    "    np.save(\"processed_data/cv/state_train_{}\".format(i), state_train)\n",
    "    np.save(\"processed_data/cv/label_train_{}\".format(i), label_train)\n",
    "    np.save(\"processed_data/cv/seq_test_{}\".format(i), seq_test)\n",
    "    np.save(\"processed_data/cv/state_test_{}\".format(i), state_test)\n",
    "    np.save(\"processed_data/cv/label_test_{}\".format(i), label_test)"
   ]
  },
  {
   "cell_type": "code",
   "execution_count": null,
   "metadata": {},
   "outputs": [],
   "source": []
  }
 ],
 "metadata": {
  "kernelspec": {
   "display_name": "Python 3",
   "language": "python",
   "name": "python3"
  },
  "language_info": {
   "codemirror_mode": {
    "name": "ipython",
    "version": 3
   },
   "file_extension": ".py",
   "mimetype": "text/x-python",
   "name": "python",
   "nbconvert_exporter": "python",
   "pygments_lexer": "ipython3",
   "version": "3.8.5"
  }
 },
 "nbformat": 4,
 "nbformat_minor": 4
}
