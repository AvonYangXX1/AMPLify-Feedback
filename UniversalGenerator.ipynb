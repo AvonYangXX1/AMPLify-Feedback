{
  "nbformat": 4,
  "nbformat_minor": 0,
  "metadata": {
    "colab": {
      "provenance": [],
      "gpuType": "T4"
    },
    "kernelspec": {
      "name": "python3",
      "display_name": "Python 3"
    },
    "language_info": {
      "name": "python"
    },
    "accelerator": "GPU"
  },
  "cells": [
    {
      "cell_type": "code",
      "execution_count": null,
      "metadata": {
        "colab": {
          "base_uri": "https://localhost:8080/"
        },
        "id": "Un8Vus9RfeSa",
        "outputId": "8b173d3d-d446-47f4-a242-ca8df9e4f286"
      },
      "outputs": [
        {
          "output_type": "stream",
          "name": "stdout",
          "text": [
            "Cloning into 'AMPLify-Feedback'...\n",
            "remote: Enumerating objects: 522, done.\u001b[K\n",
            "remote: Counting objects: 100% (171/171), done.\u001b[K\n",
            "remote: Compressing objects: 100% (101/101), done.\u001b[K\n",
            "remote: Total 522 (delta 83), reused 145 (delta 70), pack-reused 351\u001b[K\n",
            "Receiving objects: 100% (522/522), 256.07 MiB | 9.75 MiB/s, done.\n",
            "Resolving deltas: 100% (250/250), done.\n",
            "Updating files: 100% (104/104), done.\n"
          ]
        }
      ],
      "source": [
        "!git clone https://github.com/AvonYangXX1/AMPLify-Feedback.git\n",
        "import tensorflow as tf\n",
        "from tensorflow.keras.optimizers import Adam\n",
        "from tensorflow.keras import layers\n",
        "import numpy as np\n",
        "import math\n",
        "import matplotlib.pyplot as plt\n",
        "import statistics\n",
        "import pandas as pd"
      ]
    },
    {
      "cell_type": "code",
      "source": [
        "from google.colab import drive\n",
        "drive.mount('/content/drive')"
      ],
      "metadata": {
        "colab": {
          "base_uri": "https://localhost:8080/"
        },
        "id": "cVlc65LQUFVV",
        "outputId": "5dd50595-ab8e-4998-c61f-f21e41f29ae8"
      },
      "execution_count": null,
      "outputs": [
        {
          "output_type": "stream",
          "name": "stdout",
          "text": [
            "Mounted at /content/drive\n"
          ]
        }
      ]
    },
    {
      "cell_type": "code",
      "source": [
        "marker = np.load(\"drive/MyDrive/MIT687/16S_Kmers/marker_gene.npy\")\n",
        "bacteria = np.load(\"drive/MyDrive/MIT687/16S_Kmers/target_species.npy\")\n",
        "bacteria = tf.one_hot(bacteria.flatten(), depth=326)"
      ],
      "metadata": {
        "id": "Om2uBGI1WcYV"
      },
      "execution_count": null,
      "outputs": []
    },
    {
      "cell_type": "code",
      "source": [
        "def create_generator():\n",
        "    ribo_classifier = tf.keras.models.load_model('drive/MyDrive/MIT687/ribo_classifier.keras')\n",
        "    ribo_classifier._name = \"RiboClassifier\"\n",
        "    origin_generator = tf.keras.models.load_model('AMPLify-Feedback/model_weights/PeptideGenerator_new.keras')\n",
        "    inputs = tf.keras.layers.Input(shape=(4096),name=\"SeqInput\")\n",
        "    x = ribo_classifier(inputs)\n",
        "    x = tf.keras.layers.Flatten(name=\"Flatten_0\")(x)\n",
        "    x = tf.keras.layers.Dense(2, activation=\"tanh\")(x)\n",
        "    x = origin_generator(x)\n",
        "    new_generator = tf.keras.models.Model(inputs, x, name=\"PeptideGenerator\")\n",
        "    return new_generator"
      ],
      "metadata": {
        "id": "6wDHyUPt2Xz6"
      },
      "execution_count": null,
      "outputs": []
    },
    {
      "cell_type": "code",
      "source": [
        "def create_oracle():\n",
        "    inputs0 = tf.keras.layers.Input((190,43),name=\"SeqInput\")\n",
        "    inputs1 = tf.keras.layers.Input((326,),name=\"StateInput\")\n",
        "    x = tf.keras.layers.Conv1D(128, 5, activation='relu', name=\"Conv1D_0\")(inputs0) # kernel_size=5 works well\n",
        "    x = tf.keras.layers.Conv1D(128, 5, activation='relu', name=\"Conv1D_1\")(x) # Just two layers work better\n",
        "    x = tf.keras.layers.Flatten(name=\"Flatten_0\")(x)\n",
        "    x = tf.keras.layers.Dense(512, activation=\"relu\", name=\"LearnSeqDense_0\")(x)\n",
        "    x = tf.keras.layers.Concatenate(axis=1, name=\"Concat\")([x, inputs1])\n",
        "    x = tf.keras.layers.Dense(1024, activation=\"relu\", name=\"LearnConcatDense_0\")(x)\n",
        "    x = tf.keras.layers.LayerNormalization(name=\"LayerNorm_0\")(x)\n",
        "    x = tf.keras.layers.Dense(512, activation=\"relu\", name=\"LearnConcatDense_1\")(x)\n",
        "    x = tf.keras.layers.LayerNormalization(name=\"LayerNorm_1\")(x)\n",
        "    x = tf.keras.layers.Dense(1, activation=\"linear\", name=\"Output\")(x)\n",
        "    model = tf.keras.models.Model([inputs0, inputs1], x, name=\"MICPredictor\")\n",
        "    return model"
      ],
      "metadata": {
        "id": "KK6BbgTkf3Nb"
      },
      "execution_count": null,
      "outputs": []
    },
    {
      "cell_type": "code",
      "source": [
        "oracle = create_oracle()\n",
        "path = \"AMPLify-Feedback/model_weights/MICPredictor\"\n",
        "for i, layer in enumerate(oracle.layers):\n",
        "    weights = np.load(f\"{path}/layer_{i}_weights.npy\", allow_pickle=True)\n",
        "    layer.set_weights(weights)"
      ],
      "metadata": {
        "id": "D977mDVFggf1"
      },
      "execution_count": null,
      "outputs": []
    },
    {
      "cell_type": "code",
      "source": [
        "aa_vocal = np.load(\"AMPLify-Feedback/model_weights/SeqTV_vocal.npy\")\n",
        "pep_decoder = tf.keras.layers.StringLookup(vocabulary=aa_vocal[1:], invert=True, oov_token='')\n",
        "species_vocal = np.load(\"AMPLify-Feedback/model_weights/SpeciesTV_vocal.npy\")\n",
        "species_decoder = tf.keras.layers.StringLookup(vocabulary=species_vocal[1:], invert=True, oov_token='')"
      ],
      "metadata": {
        "id": "TE8N74OskM7p"
      },
      "execution_count": null,
      "outputs": []
    },
    {
      "cell_type": "code",
      "source": [
        "def onehot2seq(onehot):\n",
        "  decoded_sequences = []\n",
        "  chars_array = pep_decoder(tf.math.argmax(onehot, axis=2)).numpy().astype('str')\n",
        "  decoded_sequences += [\"\".join(chars) for chars in chars_array]\n",
        "  return decoded_sequences"
      ],
      "metadata": {
        "id": "h9QYIzXEp4MF"
      },
      "execution_count": null,
      "outputs": []
    },
    {
      "cell_type": "code",
      "source": [
        "@tf.function\n",
        "def compute_gradient(oracle, marker, bacteria, generator_optimizer):\n",
        "    marker = tf.convert_to_tensor(marker, np.int64)\n",
        "    # bacteria = tf.convert_to_tensor(bacteria, np.float64)\n",
        "    with tf.GradientTape() as gen_tape:\n",
        "        gen_tape.watch(marker)\n",
        "        generated_onehot = generator(marker, training=True)\n",
        "        generator_loss = tf.reduce_mean(oracle([generated_onehot, bacteria]))\n",
        "    gradients_of_generator = gen_tape.gradient(generator_loss, generator.trainable_variables)\n",
        "    generator_optimizer.apply_gradients(zip(gradients_of_generator, generator.trainable_variables))\n",
        "    return generated_onehot"
      ],
      "metadata": {
        "id": "QdwWf9d0RMlJ"
      },
      "execution_count": null,
      "outputs": []
    },
    {
      "cell_type": "code",
      "source": [
        "def RL_loop(generator, oracle, marker, bacteria, n_iter_max):\n",
        "  average_mic_train, min_mic_train, max_mic_train, median_mic_train, levenstein  = [], [], [], [], []\n",
        "  generator_optimizer = tf.keras.optimizers.Adam(learning_rate=0.001)\n",
        "  for i in range (n_iter_max) :\n",
        "    #Sequences prediction and gradient computation\n",
        "    generated_onehot = compute_gradient(oracle, marker, bacteria, generator_optimizer)\n",
        "    generated_sequences = onehot2seq(generated_onehot)\n",
        "\n",
        "    #Oracle results and statistics\n",
        "    MIC = oracle([generated_onehot, bacteria])\n",
        "    average_mic_train += [np.mean(MIC)]\n",
        "    min_mic_train += [np.min(MIC)]\n",
        "    max_mic_train += [np.max(MIC)]\n",
        "    median_mic_train += [np.median(MIC)]\n",
        "\n",
        "    print(f\"Iter {i+1}/{n_iter_max}; Average MIC {np.mean(MIC):.4f}\")\n",
        "\n",
        "  return generator, average_mic_train, min_mic_train, max_mic_train, median_mic_train"
      ],
      "metadata": {
        "id": "wbEqlQ5xz8R4"
      },
      "execution_count": null,
      "outputs": []
    },
    {
      "cell_type": "code",
      "source": [
        "n_iter_max = 5\n",
        "generator = create_generator()\n",
        "generator, average_mic_train, min_mic_train, max_mic_train, median_mic_train = RL_loop(generator, oracle, marker, bacteria, n_iter_max)"
      ],
      "metadata": {
        "id": "P_CXFJVM3I6R",
        "colab": {
          "base_uri": "https://localhost:8080/"
        },
        "outputId": "b5da28a6-2f26-4abc-af52-3098d7b0b99c"
      },
      "execution_count": null,
      "outputs": [
        {
          "output_type": "stream",
          "name": "stderr",
          "text": [
            "WARNING:tensorflow:The dtype of the watched tensor must be floating (e.g. tf.float32), got tf.int64\n",
            "WARNING:tensorflow:The dtype of the watched tensor must be floating (e.g. tf.float32), got tf.int64\n"
          ]
        },
        {
          "output_type": "stream",
          "name": "stdout",
          "text": [
            "Iter 1/5; Average MIC 4.7560\n",
            "Iter 2/5; Average MIC 4.3673\n",
            "Iter 3/5; Average MIC 4.1461\n",
            "Iter 4/5; Average MIC 4.0494\n",
            "Iter 5/5; Average MIC 3.8327\n"
          ]
        }
      ]
    },
    {
      "cell_type": "code",
      "source": [
        "parameters = {\"Average MIC\" : average_mic_train,\n",
        "              # \"Minimum MIC\" : min_mic_train,\n",
        "              # \"Maximum MIC\" : max_mic_train,\n",
        "              # \"Median MIC\" : median_mic_train\n",
        "              }\n",
        "for p in list(parameters.keys()):\n",
        "    plt.plot(range(len(parameters[p])), parameters[p], linestyle='-', label = p)\n",
        "plt.legend(loc = \"upper right\")\n",
        "plt.ylabel(\"MIC\")\n",
        "plt.xlabel(\"Iteration index\")\n",
        "plt.title(\"Performances with the feedback loop\")\n",
        "plt.savefig(\"Average_MIC.png\")"
      ],
      "metadata": {
        "colab": {
          "base_uri": "https://localhost:8080/",
          "height": 472
        },
        "id": "b-5-WfhdCE_r",
        "outputId": "de5aea69-7088-4acc-d9e4-a646a9fe4e6d"
      },
      "execution_count": null,
      "outputs": [
        {
          "output_type": "display_data",
          "data": {
            "text/plain": [
              "<Figure size 640x480 with 1 Axes>"
            ],
            "image/png": "[encoded data removed]"
          },
          "metadata": {}
        }
      ]
    },
    {
      "cell_type": "code",
      "source": [
        "targets = marker[0:300]\n",
        "idx = tf.argmax(bacteria[0:300], axis=1).numpy()\n",
        "generated_sequences = generator.predict(targets, verbose=0)\n",
        "MIC = oracle.predict([generated_sequences, bacteria[0:300]], verbose=0).flatten()\n",
        "Seq = onehot2seq(generated_sequences)\n",
        "display_table = pd.DataFrame([species_vocal[idx], Seq, MIC]).transpose()\n",
        "print(display_table.to_string())"
      ],
      "metadata": {
        "colab": {
          "base_uri": "https://localhost:8080/"
        },
        "id": "7Lmq6Ett_wQ-",
        "outputId": "a865a246-6317-4528-a9ba-47a2c0b3ca8b"
      },
      "execution_count": null,
      "outputs": [
        {
          "output_type": "stream",
          "name": "stdout",
          "text": [
            "                                      0          1         2\n",
            "0              Burkholderia_cenocepacia   DVKKLFKF  8.578871\n",
            "1                  Campylobacter_jejuni  DVKKLFKFH  2.651843\n",
            "2            Corynebacterium_glutamicum   DVKKLFKF  2.053096\n",
            "3                     Listeria_ivanovii  DVKKLFKFH  3.927064\n",
            "4                 Klebsiella_pneumoniae  DVKKLDKFH  3.763291\n",
            "5                   Salmonella_enterica   DVKKLFKF   3.96329\n",
            "6               Acinetobacter_baumannii   DVKKLFKF  4.976504\n",
            "7               Corynebacterium_xerosis   DVKKLFKF  1.032607\n",
            "8                  Lactobacillus_brevis   DVKKLFKF  3.005815\n",
            "9                 Klebsiella_pneumoniae  DVKKLDKFH  3.763931\n",
            "10                    Histophilus_somni   DVKKLFKF  3.129093\n",
            "11                         Bacillus_sp.   DVKKLFKF  4.869762\n",
            "12                    Histophilus_somni   DVKKLFKF  3.130042\n",
            "13                     Escherichia_coli   DVKKLFKF  3.371224\n",
            "14                  Mycoplasma_mycoides   DVKKLFKF  4.701034\n",
            "15                     Escherichia_coli   DVKKLFKF   3.37123\n",
            "16                     Escherichia_coli   DVKKLFKF  3.371238\n",
            "17                     Escherichia_coli   DVKKLFKF  3.371228\n",
            "18                     Escherichia_coli   DVKKLFKF  3.371239\n",
            "19                    Bacillus_subtilis   DVKKLFKF  4.664451\n",
            "20                  Helicobacter_pylori   DVKKLFKF  5.101706\n",
            "21              Clostridium_perfringens   DVKKLFKF  4.079931\n",
            "22                    Weissella_cibaria  DVKKLDKFH  2.962637\n",
            "23                  Helicobacter_pylori   DVKKLFKF  5.107418\n",
            "24                  Salmonella_enterica   DVKKLFKF  3.963279\n",
            "25                    Proteus_mirabilis  DVKKLFKFH  6.417735\n",
            "26                 Citrobacter_freundii  DVKKLFKFH  2.841168\n",
            "27                Klebsiella_pneumoniae  DVKKLDKFH  3.763688\n",
            "28               Bacillus_licheniformis   DVKKLFKF  4.713086\n",
            "29          Yersinia_pseudotuberculosis  DVKKLFKFH   2.13973\n",
            "30                Staphylococcus_cohnii  DVKKLFKFH  3.026296\n",
            "31                  Helicobacter_pylori   DVKKLFKF  5.064681\n",
            "32             Porphyromonas_gingivalis   DVKKLFKF  3.656955\n",
            "33              Acinetobacter_baumannii   DVKKLFKF  4.975636\n",
            "34            Lactobacillus_acidophilus   DVKKLFKF  5.767578\n",
            "35           Mycobacterium_tuberculosis   DVKKLFKF  3.968884\n",
            "36                      Bacillus_cereus   DVKKLFKF  3.792833\n",
            "37                Pasteurella_multocida   DVKKLFKF  4.952393\n",
            "38               Bacillus_thuringiensis   DVKKLFKF  5.216476\n",
            "39                  Helicobacter_pylori   DVKKLFKF  5.115499\n",
            "40                  Helicobacter_pylori   DVKKLFKF   5.10919\n",
            "41               Pseudomonas_aeruginosa   DVKKLFKF  3.818945\n",
            "42                    Shigella_flexneri   DVKKLFKF  2.399846\n",
            "43                  Salmonella_enterica   DVKKLFKF   3.96329\n",
            "44           Mycobacterium_tuberculosis   DVKKLFKF  3.969057\n",
            "45                 Campylobacter_jejuni  DVKKLFKFH  2.630711\n",
            "46                   Edwardsiella_tarda   DVKKLFKF   5.02722\n",
            "47                 Campylobacter_jejuni  DVKKLFKFH  2.666543\n",
            "48                    Bacillus_subtilis   DVKKLFKF  4.664011\n",
            "49           Mycobacterium_tuberculosis   DVKKLFKF  3.969025\n",
            "50                     Escherichia_coli   DVKKLFKF  3.371258\n",
            "51          Corynebacterium_diphtheriae   DVKKLFKF  2.505933\n",
            "52                      Bacillus_cereus   DVKKLFKF  3.792536\n",
            "53                     Escherichia_coli   DVKKLFKF  3.371238\n",
            "54                Enterobacter_asburiae  DVKKLFKFH  5.971776\n",
            "55                     Escherichia_coli   DVKKLFKF  3.371237\n",
            "56               Neisseria_meningitidis   DVKKLFKF  5.271697\n",
            "57                Klebsiella_pneumoniae  DVKKLDKFH  3.764076\n",
            "58                    Proteus_mirabilis  DVKKLFKFH  6.437405\n",
            "59                 Citrobacter_freundii  DVKKLFKFH  2.782784\n",
            "60                  Salmonella_enterica   DVKKLFKF    3.9633\n",
            "61                     Bacillus_pumilus   DVKKLFKF  4.123009\n",
            "62                     Escherichia_coli   DVKKLFKF  3.371224\n",
            "63                  Salmonella_enterica   DVKKLFKF  3.963276\n",
            "64                      Bacillus_cereus   DVKKLFKF  3.791646\n",
            "65               Francisella_tularensis  DVKKLFKFH    6.4798\n",
            "66                  Salmonella_enterica   DVKKLFKF  3.963303\n",
            "67                     Escherichia_coli   DVKKLFKF  3.370217\n",
            "68               Francisella_tularensis  DVKKLFKFH   6.47973\n",
            "69               Listeria_monocytogenes  DVKKLFKFH  2.627299\n",
            "70                     Escherichia_coli   DVKKLFKF  3.371259\n",
            "71                 Burkholderia_cepacia   DVKKLFKF  5.941463\n",
            "72                   Klebsiella_oxytoca  DVKKLFKFH  5.302453\n",
            "73             Burkholderia_cenocepacia   DVKKLFKF  8.571461\n",
            "74               Mannheimia_haemolytica   DVKKLFKF  2.945314\n",
            "75                Klebsiella_pneumoniae  DVKKLDKFH  3.765547\n",
            "76                 Shigella_dysenteriae   DVKKLFKF  4.163883\n",
            "77                Klebsiella_pneumoniae  DVKKLDKFH  3.763322\n",
            "78                Klebsiella_pneumoniae  DVKKLDKFH   3.76532\n",
            "79                  Bacillus_megaterium   DVKKLFKF   3.70124\n",
            "80                   Leuconostoc_lactis  DVKKLFKFH   2.44614\n",
            "81         Stenotrophomonas_maltophilia   DVKKLFKF  6.006979\n",
            "82                     Escherichia_coli   DVKKLFKF  3.371234\n",
            "83               Ralstonia_solanacearum   DVKKLFKF   5.68699\n",
            "84                     Escherichia_coli   DVKKLFKF  3.371226\n",
            "85                 Burkholderia_cepacia   DVKKLFKF  5.947449\n",
            "86                Streptococcus_equinus  DVKKLDKFH  3.755513\n",
            "87                Neisseria_gonorrhoeae   DVKKLFKF  3.670949\n",
            "88             Streptococcus_salivarius  DVKKLDKFH  3.662492\n",
            "89                 Citrobacter_freundii  DVKKLFKFH   2.83422\n",
            "90                Klebsiella_pneumoniae  DVKKLDKFH  3.764472\n",
            "91                  Salmonella_enterica   DVKKLFKF   3.96328\n",
            "92                   Lactococcus_lactis  DVKKLDKFH  2.099268\n",
            "93              Clostridium_perfringens   DVKKLFKF  4.080809\n",
            "94                 Shigella_dysenteriae   DVKKLFKF  4.163895\n",
            "95                    Aeromonas_veronii   DVKKLFKF  2.812896\n",
            "96                      Vibrio_cholerae   DVKKLFKF  4.712492\n",
            "97                  Salmonella_enterica   DVKKLFKF  3.962798\n",
            "98                     Escherichia_coli   DVKKLFKF  3.371232\n",
            "99               Neisseria_meningitidis   DVKKLFKF  5.271152\n",
            "100                 Salmonella_enterica   DVKKLFKF  3.963288\n",
            "101                 Listeria_welshimeri  DVKKLFKFH  5.581933\n",
            "102           Clavibacter_michiganensis   DVKKLFKF   3.37447\n",
            "103                 Salmonella_enterica   DVKKLFKF  3.963304\n",
            "104            Burkholderia_cenocepacia   DVKKLFKF  8.592299\n",
            "105            Corynebacterium_jeikeium   DVKKLFKF   3.42398\n",
            "106              Pseudomonas_aeruginosa   DVKKLFKF  3.818888\n",
            "107               Klebsiella_pneumoniae  DVKKLDKFH  3.764814\n",
            "108                Campylobacter_jejuni  DVKKLFKFH  2.727011\n",
            "109               Klebsiella_pneumoniae  DVKKLDKFH  3.765025\n",
            "110            Streptococcus_pneumoniae  DVKKLDKFH  1.966519\n",
            "111               Klebsiella_pneumoniae  DVKKLDKFH  3.764378\n",
            "112              Listeria_monocytogenes  DVKKLFKFH  2.580523\n",
            "113           Clavibacter_michiganensis   DVKKLFKF  3.366773\n",
            "114                    Escherichia_coli   DVKKLFKF  3.371252\n",
            "115                   Serratia_rubidaea   DVKKLFKF  4.894394\n",
            "116        Flavobacterium_psychrophilum  DVKKLFKFH  7.798682\n",
            "117                 Salmonella_enterica   DVKKLFKF   3.96331\n",
            "118                    Escherichia_coli   DVKKLFKF  3.371224\n",
            "119                    Escherichia_coli   DVKKLFKF  3.371224\n",
            "120                    Escherichia_coli   DVKKLFKF  3.371215\n",
            "121                   Proteus_mirabilis  DVKKLFKFH  6.426466\n",
            "122                    Escherichia_coli   DVKKLFKF  3.371237\n",
            "123                 Salmonella_enterica   DVKKLFKF  3.963301\n",
            "124                 Lactobacillus_sakei  DVKKLFKFH  0.391419\n",
            "125                     Vibrio_cholerae   DVKKLFKF  4.712623\n",
            "126                     Bacillus_flexus   DVKKLFKF  4.484527\n",
            "127                 Salmonella_enterica   DVKKLFKF  3.963296\n",
            "128                 Helicobacter_pylori   DVKKLFKF  5.105802\n",
            "129          Achromobacter_xylosoxidans   DVKKLFKF  5.250549\n",
            "130                Streptococcus_oralis  DVKKLDKFH  3.563751\n",
            "131                   Serratia_rubidaea  DVKKLFKFH   4.92659\n",
            "132                Citrobacter_freundii   DVKKLFKF   4.22214\n",
            "133                 Morganella_morganii  DVKKLFKFH   5.98043\n",
            "134         Corynebacterium_diphtheriae   DVKKLFKF  2.505321\n",
            "135            Burkholderia_cenocepacia   DVKKLFKF  8.576262\n",
            "136              Pseudomonas_aeruginosa   DVKKLFKF  3.819417\n",
            "137              Paenibacillus_polymyxa  DVKKLFKFH  3.637183\n",
            "138               Staphylococcus_aureus  DVKKLFKFH  3.419542\n",
            "139                 Salmonella_enterica   DVKKLFKF  3.963298\n",
            "140            Corynebacterium_striatum   DVKKLFKF  5.913734\n",
            "141              Ralstonia_solanacearum   DVKKLFKF  5.687101\n",
            "142                 Helicobacter_pylori   DVKKLFKF  5.074908\n",
            "143               Prevotella_intermedia   DVKKLFKF  4.304942\n",
            "144     Staphylococcus_pseudintermedius  DVKKLFKFH  3.451683\n",
            "145                    Escherichia_coli   DVKKLFKF  3.371218\n",
            "146              Acholeplasma_laidlawii   DVKKLFKF  3.404804\n",
            "147                    Escherichia_coli   DVKKLFKF  3.371247\n",
            "148        Staphylococcus_saprophyticus  DVKKLFKFH  1.828697\n",
            "149               Staphylococcus_aureus  DVKKLFKFH  3.396797\n",
            "150                    Escherichia_coli   DVKKLFKF  3.371228\n",
            "151                Citrobacter_freundii  DVKKLFKFH  2.999133\n",
            "152              Neisseria_meningitidis   DVKKLFKF  5.270775\n",
            "153                    Escherichia_coli   DVKKLFKF  3.371219\n",
            "154               Staphylococcus_aureus  DVKKLFKFH  3.515068\n",
            "155                    Escherichia_coli   DVKKLFKF  3.371222\n",
            "156            Burkholderia_cenocepacia   DVKKLFKF   8.57679\n",
            "157                 Salmonella_enterica   DVKKLFKF  3.963307\n",
            "158           Leuconostoc_mesenteroides   DVKKLFKF  3.633481\n",
            "159        Stenotrophomonas_maltophilia   DVKKLFKF  6.006789\n",
            "160                    Escherichia_coli   DVKKLFKF  3.371229\n",
            "161        Stenotrophomonas_maltophilia   DVKKLFKF  6.006884\n",
            "162                Mycoplasma_hyorhinis   DVKKLFKF  5.351348\n",
            "163            Streptococcus_pneumoniae  DVKKLDKFH  1.966881\n",
            "164                 Salmonella_enterica   DVKKLFKF  3.963275\n",
            "165               Klebsiella_pneumoniae  DVKKLDKFH  3.768139\n",
            "166                    Escherichia_coli   DVKKLFKF  3.371228\n",
            "167               Enterococcus_faecalis   DVKKLFKF  5.164495\n",
            "168                    Escherichia_coli   DVKKLFKF  3.371228\n",
            "169           Clavibacter_michiganensis   DVKKLFKF  3.375613\n",
            "170                  Streptococcus_suis  DVKKLDKFH  4.063362\n",
            "171               Staphylococcus_aureus  DVKKLFKFH  3.411262\n",
            "172              Staphylococcus_xylosus  DVKKLFKFH  1.480982\n",
            "173         Corynebacterium_diphtheriae   DVKKLFKF  2.505244\n",
            "174                 Salmonella_enterica   DVKKLFKF  3.963297\n",
            "175              Listeria_monocytogenes  DVKKLFKFH  2.720982\n",
            "176              Staphylococcus_capitis  DVKKLFKFH  3.515917\n",
            "177                  Pseudomonas_putida   DVKKLFKF  4.660789\n",
            "178                Enterobacter_cloacae  DVKKLFKFH  5.390775\n",
            "179                Lactococcus_garvieae  DVKKLDKFH  4.296447\n",
            "180               Pasteurella_multocida   DVKKLFKF  4.948818\n",
            "181              Ralstonia_solanacearum   DVKKLFKF  5.713652\n",
            "182                Citrobacter_freundii  DVKKLFKFH    2.7915\n",
            "183               Staphylococcus_aureus  DVKKLFKFH  3.709323\n",
            "184                Enterobacter_cloacae   DVKKLFKF  5.157481\n",
            "185                  Citrobacter_koseri   DVKKLFKF  4.157106\n",
            "186                Enterococcus_faecium   DVKKLFKF  4.500837\n",
            "187               Pasteurella_multocida   DVKKLFKF  4.953905\n",
            "188              Haemophilus_influenzae   DVKKLFKF  2.930634\n",
            "189               Klebsiella_pneumoniae  DVKKLDKFH  3.764529\n",
            "190               Neisseria_gonorrhoeae   DVKKLFKF  3.670851\n",
            "191              Pseudomonas_aeruginosa   DVKKLFKF  3.818357\n",
            "192                 Streptococcus_iniae  DVKKLDKFH  3.366311\n",
            "193                 Salmonella_enterica   DVKKLFKF  3.963285\n",
            "194                Citrobacter_freundii  DVKKLFKFH  3.063994\n",
            "195                   Shigella_flexneri   DVKKLFKF  2.399793\n",
            "196                    Escherichia_coli   DVKKLFKF  3.371233\n",
            "197                Klebsiella_aerogenes  DVKKLDKFH  4.293712\n",
            "198                 Salmonella_enterica   DVKKLFKF  3.963307\n",
            "199               Staphylococcus_aureus  DVKKLFKFH   3.37112\n",
            "200             Lactobacillus_plantarum   DVKKLFKF  3.390474\n",
            "201                    Escherichia_coli   DVKKLFKF  3.371222\n",
            "202                   Bacillus_subtilis   DVKKLFKF  4.663935\n",
            "203                Providencia_stuartii  DVKKLFKFH   7.52807\n",
            "204                    Escherichia_coli   DVKKLFKF  3.371223\n",
            "205               Klebsiella_pneumoniae  DVKKLDKFH  3.764226\n",
            "206               Klebsiella_pneumoniae  DVKKLDKFH  3.764494\n",
            "207                 Salmonella_enterica   DVKKLFKF  3.963306\n",
            "208              Neisseria_meningitidis   DVKKLFKF  5.270935\n",
            "209     Staphylococcus_pseudintermedius  DVKKLFKFH  3.452214\n",
            "210               Staphylococcus_aureus  DVKKLFKFH  3.398293\n",
            "211                Citrobacter_freundii  DVKKLDKFH  2.744188\n",
            "212              Pseudomonas_aeruginosa   DVKKLFKF  3.818151\n",
            "213              Bifidobacterium_longum   DVKKLFKF  4.168989\n",
            "214           Clavibacter_michiganensis   DVKKLFKF   3.36524\n",
            "215                    Escherichia_coli   DVKKLFKF  3.371228\n",
            "216              Neisseria_meningitidis   DVKKLFKF  5.271602\n",
            "217            Streptococcus_pneumoniae  DVKKLDKFH  1.967379\n",
            "218              Pseudomonas_aeruginosa   DVKKLFKF  3.818791\n",
            "219             Acinetobacter_baumannii   DVKKLFKF  4.975627\n",
            "220              Neisseria_meningitidis   DVKKLFKF  5.270844\n",
            "221                  Streptococcus_suis  DVKKLDKFH  4.063288\n",
            "222        Staphylococcus_saprophyticus  DVKKLFKFH  1.836218\n",
            "223               Staphylococcus_aureus  DVKKLFKFH  3.398729\n",
            "224                   Bacillus_subtilis   DVKKLFKF   4.66462\n",
            "225  Corynebacterium_pseudotuberculosis   DVKKLFKF   4.46447\n",
            "226               Staphylococcus_aureus  DVKKLFKFH    3.4108\n",
            "227               Klebsiella_pneumoniae  DVKKLDKFH  3.774343\n",
            "228        Staphylococcus_saprophyticus  DVKKLFKFH   1.83266\n",
            "229              Pseudomonas_aeruginosa   DVKKLFKF  3.818544\n",
            "230              Bifidobacterium_longum   DVKKLFKF  4.171939\n",
            "231              Pseudomonas_aeruginosa   DVKKLFKF  3.818542\n",
            "232                Enterococcus_faecium   DVKKLFKF  4.533457\n",
            "233                     Vibrio_cholerae   DVKKLFKF  4.712431\n",
            "234               Staphylococcus_aureus  DVKKLFKFH  3.423851\n",
            "235             Acinetobacter_baumannii   DVKKLFKF  4.975705\n",
            "236                Pseudomonas_stutzeri   DVKKLFKF  3.627579\n",
            "237               Staphylococcus_aureus  DVKKLFKFH  3.402342\n",
            "238                Mycoplasma_hyorhinis   DVKKLFKF  5.350134\n",
            "239               Klebsiella_pneumoniae  DVKKLDKFH  3.762681\n",
            "240               Pasteurella_multocida   DVKKLFKF  4.949215\n",
            "241                 Salmonella_enterica   DVKKLFKF  3.963307\n",
            "242              Neisseria_meningitidis   DVKKLFKF    5.2709\n",
            "243          Staphylococcus_epidermidis  DVKKLFKFH  1.428692\n",
            "244                 Helicobacter_pylori   DVKKLFKF   5.08999\n",
            "245      Geobacillus_stearothermophilus   DVKKLFKF  4.775411\n",
            "246               Klebsiella_pneumoniae  DVKKLDKFH  3.763997\n",
            "247                    Escherichia_coli   DVKKLFKF  3.371225\n",
            "248                    Escherichia_coli   DVKKLFKF  3.371224\n",
            "249                 Salmonella_enterica   DVKKLFKF  3.963276\n",
            "250                 Salmonella_enterica   DVKKLFKF  3.963296\n",
            "251                     Vibrio_cholerae   DVKKLFKF  4.712379\n",
            "252                  Pseudomonas_putida   DVKKLFKF  4.660695\n",
            "253              Francisella_tularensis  DVKKLFKFH  6.478606\n",
            "254                  Streptococcus_equi  DVKKLDKFH  4.257754\n",
            "255                 Salmonella_enterica   DVKKLFKF  3.963301\n",
            "256              Francisella_tularensis  DVKKLFKFH  6.481164\n",
            "257                  Citrobacter_koseri   DVKKLFKF  4.157335\n",
            "258               Staphylococcus_sciuri  DVKKLFKFH  2.368418\n",
            "259              Listeria_monocytogenes  DVKKLFKFH  2.721614\n",
            "260                Paenibacillus_larvae   DVKKLFKF    3.5395\n",
            "261                    Escherichia_coli   DVKKLFKF  3.371234\n",
            "262                   Erwinia_amylovora  DVKKLFKFH  6.112835\n",
            "263                Enterococcus_faecium   DVKKLFKF  4.562865\n",
            "264            Streptococcus_agalactiae  DVKKLDKFH  2.335871\n",
            "265                   Bacillus_subtilis   DVKKLFKF  4.663907\n",
            "266               Klebsiella_pneumoniae  DVKKLDKFH  3.762799\n",
            "267              Paenibacillus_polymyxa  DVKKLFKFH  3.663409\n",
            "268                 Rothia_mucilaginosa   DVKKLFKF  3.293296\n",
            "269            Mycoplasma_gallisepticum   DVKKLFKF  3.554479\n",
            "270            Burkholderia_cenocepacia   DVKKLFKF  8.587056\n",
            "271          Bacillus_amyloliquefaciens   DVKKLFKF  4.585751\n",
            "272                Campylobacter_jejuni  DVKKLFKFH  2.810232\n",
            "273             Staphylococcus_carnosus  DVKKLFKFH  2.135837\n",
            "274                Citrobacter_freundii  DVKKLFKFH  2.771639\n",
            "275                 Salmonella_enterica   DVKKLFKF  3.963296\n",
            "276                 Salmonella_enterica   DVKKLFKF  3.963298\n",
            "277                 Salmonella_enterica   DVKKLFKF  3.963291\n",
            "278          Bacillus_amyloliquefaciens   DVKKLFKF  4.584033\n",
            "279                 Salmonella_enterica   DVKKLFKF  3.963307\n",
            "280                Enterococcus_faecium   DVKKLFKF  4.549906\n",
            "281               Neisseria_gonorrhoeae   DVKKLFKF  3.671052\n",
            "282               Pasteurella_multocida   DVKKLFKF  4.950859\n",
            "283                 Salmonella_enterica   DVKKLFKF  3.963297\n",
            "284                Pseudomonas_syringae   DVKKLFKF  2.634417\n",
            "285            Streptococcus_pneumoniae  DVKKLDKFH  1.967656\n",
            "286                    Escherichia_coli   DVKKLFKF   3.37122\n",
            "287                 Morganella_morganii  DVKKLFKFH  6.012983\n",
            "288                   Proteus_mirabilis  DVKKLFKFH  6.434632\n",
            "289         Staphylococcus_haemolyticus  DVKKLFKFH  2.343382\n",
            "290               Klebsiella_pneumoniae  DVKKLDKFH  3.763966\n",
            "291                  Bacillus_coagulans   DVKKLFKF  4.152398\n",
            "292                    Aeromonas_caviae   DVKKLFKF  3.667822\n",
            "293                Enterobacter_cloacae   DVKKLFKF  5.284667\n",
            "294                  Klebsiella_oxytoca  DVKKLFKFH  5.301865\n",
            "295                Enterococcus_faecium   DVKKLFKF  4.571429\n",
            "296             Acinetobacter_baumannii   DVKKLFKF  4.975732\n",
            "297                 Salmonella_enterica   DVKKLFKF  3.963288\n",
            "298             Yersinia_enterocolitica  DVKKLFKFH  1.401758\n",
            "299              Haemophilus_influenzae   DVKKLFKF  2.930667\n"
          ]
        }
      ]
    },
    {
      "cell_type": "code",
      "source": [
        "generator.save(\"drive/MyDrive/MIT687/marker2pep_generator.keras\")"
      ],
      "metadata": {
        "id": "8Cf21xMGK1Ch"
      },
      "execution_count": null,
      "outputs": []
    }
  ]
}