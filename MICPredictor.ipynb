{
  "cells": [
    {
      "cell_type": "code",
      "execution_count": 1,
      "metadata": {
        "colab": {
          "base_uri": "https://localhost:8080/"
        },
        "id": "oeShSnnkB-_P",
        "outputId": "2f685385-b9dc-4bfd-8f66-d584a210ef24"
      },
      "outputs": [
        {
          "name": "stdout",
          "output_type": "stream",
          "text": [
            "Cloning into 'AMPLify-Feedback'...\n",
            "remote: Enumerating objects: 289, done.\u001b[K\n",
            "remote: Counting objects: 100% (289/289), done.\u001b[K\n",
            "remote: Compressing objects: 100% (173/173), done.\u001b[K\n",
            "remote: Total 289 (delta 139), reused 259 (delta 112), pack-reused 0\u001b[K\n",
            "Receiving objects: 100% (289/289), 11.58 MiB | 3.41 MiB/s, done.\n",
            "Resolving deltas: 100% (139/139), done.\n",
            "Updating files: 100% (49/49), done.\n"
          ]
        }
      ],
      "source": [
        "!git clone https://github.com/AvonYangXX1/AMPLify-Feedback.git\n",
        "import tensorflow as tf\n",
        "import numpy as np\n",
        "import pandas as pd\n",
        "import seaborn as sns\n",
        "import matplotlib.pyplot as plt\n",
        "from sklearn.metrics import r2_score, mean_squared_error, mean_absolute_error\n",
        "from sklearn.linear_model import LinearRegression\n",
        "from sklearn.svm import SVR\n",
        "from sklearn.ensemble import RandomForestRegressor\n",
        "import warnings\n",
        "warnings.filterwarnings('ignore')"
      ]
    },
    {
      "cell_type": "code",
      "execution_count": 2,
      "metadata": {
        "id": "YpUHhfy-B_Gb"
      },
      "outputs": [],
      "source": [
        "def read_data(i):\n",
        "    seq_train = np.load(f\"AMPLify-Feedback/processed_data/cv/seq_train_{i}.npy\")\n",
        "    state_train = np.load(f\"AMPLify-Feedback/processed_data/cv/state_train_{i}.npy\")\n",
        "    label_train = np.load(f\"AMPLify-Feedback/processed_data/cv/label_train_{i}.npy\")\n",
        "    seq_val = np.load(f\"AMPLify-Feedback/processed_data/cv/seq_val_{i}.npy\")\n",
        "    state_val = np.load(f\"AMPLify-Feedback/processed_data/cv/state_val_{i}.npy\")\n",
        "    label_val = np.load(f\"AMPLify-Feedback/processed_data/cv/label_val_{i}.npy\")\n",
        "    seq_train = tf.one_hot(seq_train.squeeze(), depth=43)\n",
        "    seq_val = tf.one_hot(seq_val.squeeze(), depth=43)\n",
        "    return seq_train, state_train, label_train, seq_val, state_val, label_val"
      ]
    },
    {
      "cell_type": "code",
      "execution_count": 4,
      "metadata": {
        "id": "IdRGld4nPSwl"
      },
      "outputs": [],
      "source": [
        "class RMSE(tf.keras.losses.Loss):\n",
        "    def __init__(self):\n",
        "        super().__init__()\n",
        "        self.loss=tf.keras.losses.MeanSquaredError()\n",
        "\n",
        "    def call(self, y_true, y_pred):\n",
        "        loss0 = tf.sqrt(self.loss(y_true, y_pred))\n",
        "        return loss0\n",
        "\n",
        "class UsefulFraction(tf.keras.metrics.Metric):\n",
        "    def __init__(self, threshold=1.0, name='UsefulFraction', **kwargs):\n",
        "        super(UsefulFraction, self).__init__(name=name, **kwargs)\n",
        "        self.threshold = threshold\n",
        "        self.total_count = self.add_weight(name='total_count', initializer='zeros')\n",
        "        self.within_threshold_count = self.add_weight(name='within_threshold_count', initializer='zeros')\n",
        "\n",
        "    def update_state(self, y_true, y_pred, sample_weight=None):\n",
        "        error = tf.abs(y_true - y_pred)\n",
        "        within_threshold = tf.cast(tf.less(error, self.threshold), tf.float32)\n",
        "        self.total_count.assign_add(tf.reduce_sum(tf.ones_like(error)))\n",
        "        self.within_threshold_count.assign_add(tf.reduce_sum(within_threshold))\n",
        "\n",
        "    def result(self):\n",
        "        return self.within_threshold_count / self.total_count\n",
        "\n",
        "    def reset_states(self):\n",
        "        self.total_count.assign(0)\n",
        "        self.within_threshold_count.assign(0)"
      ]
    },
    {
      "cell_type": "code",
      "execution_count": 5,
      "metadata": {
        "id": "0nhcUqBlPSwm"
      },
      "outputs": [],
      "source": [
        "def visualize_pred(seq, state, model, label):\n",
        "    pred = model.predict((seq, state))\n",
        "    meta = LinearRegression()\n",
        "    meta.fit(pred, label)\n",
        "    line = meta.predict(pred)\n",
        "    fig, axs = plt.subplots(1,1)\n",
        "    axs.scatter(pred, label, marker=\"+\", color=\"royalblue\", alpha=0.5)\n",
        "    axs.plot(pred, line, color=\"black\")\n",
        "    axs.set_xlabel(\"Predicted\")\n",
        "    axs.set_ylabel(\"True\")"
      ]
    },
    {
      "cell_type": "code",
      "execution_count": 6,
      "metadata": {
        "id": "Fbf22DTPPSwm"
      },
      "outputs": [],
      "source": [
        "def create_model():\n",
        "    inputs0 = tf.keras.layers.Input((190,43),name=\"SeqInput\")\n",
        "    inputs1 = tf.keras.layers.Input((326,),name=\"StateInput\")\n",
        "    x = tf.keras.layers.Conv1D(128, 5, activation='relu', name=\"Conv1D_0\")(inputs0) # kernel_size=5 works well\n",
        "    x = tf.keras.layers.Conv1D(128, 5, activation='relu', name=\"Conv1D_1\")(x) # Just two layers work better\n",
        "    x = tf.keras.layers.Flatten(name=\"Flatten_0\")(x)\n",
        "    x = tf.keras.layers.Dense(512, activation=\"relu\", name=\"LearnSeqDense_0\")(x)\n",
        "    x = tf.keras.layers.Concatenate(axis=1, name=\"Concat\")([x, inputs1])\n",
        "    x = tf.keras.layers.Dense(1024, activation=\"relu\", name=\"LearnConcatDense_0\")(x)\n",
        "    x = tf.keras.layers.LayerNormalization(name=\"LayerNorm_0\")(x)\n",
        "    x = tf.keras.layers.Dense(512, activation=\"relu\", name=\"LearnConcatDense_1\")(x)\n",
        "    x = tf.keras.layers.LayerNormalization(name=\"LayerNorm_1\")(x)\n",
        "    x = tf.keras.layers.Dense(1, activation=\"linear\", name=\"Output\")(x)\n",
        "    model = tf.keras.models.Model([inputs0, inputs1], x, name=\"MICPredictor\")\n",
        "    model.compile(optimizer=tf.keras.optimizers.Adam(learning_rate=1e-3),\n",
        "                  loss=tf.keras.losses.MeanAbsoluteError(),\n",
        "                  metrics=[tf.keras.metrics.R2Score(), UsefulFraction()])\n",
        "    return model"
      ]
    },
    {
      "cell_type": "code",
      "execution_count": 7,
      "metadata": {
        "colab": {
          "base_uri": "https://localhost:8080/"
        },
        "id": "3EbpyBQNPSwn",
        "outputId": "90f1f1bc-295b-4ed8-9bc3-16ea248180fd",
        "scrolled": true
      },
      "outputs": [
        {
          "name": "stdout",
          "output_type": "stream",
          "text": [
            "Iteration 0: MAE=0.970346; R2=0.503878; UsefulFraction=0.635938\n",
            "Iteration 1: MAE=0.959980; R2=0.510081; UsefulFraction=0.649980\n",
            "Iteration 2: MAE=0.986545; R2=0.476896; UsefulFraction=0.633903\n",
            "Iteration 3: MAE=0.999669; R2=0.454921; UsefulFraction=0.633903\n",
            "Iteration 4: MAE=0.993929; R2=0.474747; UsefulFraction=0.632404\n",
            "Mean: MAE=0.982094; R2=0.484105; UsefulFraction=0.637226\n"
          ]
        }
      ],
      "source": [
        "mae = []\n",
        "r2 = []\n",
        "usefulness = []\n",
        "for i in range(5):\n",
        "    seq_train, state_train, label_train, seq_val, state_val, label_val = read_data(i)\n",
        "    model = create_model()\n",
        "    model.fit([seq_train, state_train], label_train, batch_size=100, verbose=0, epochs=30,\n",
        "              validation_data=([seq_val, state_val], label_val))\n",
        "    pred = model.predict([seq_val, state_val], verbose=0)\n",
        "    mae.append(mean_absolute_error(label_val, pred))\n",
        "    r2.append(r2_score(label_val, pred))\n",
        "    useful_metric = UsefulFraction()\n",
        "    useful_metric.update_state(label_val, pred)\n",
        "    usefulness.append(useful_metric.result())\n",
        "    print(f\"Iteration {i}: MAE={mae[i]:4f}; R2={r2[i]:4f}; UsefulFraction={usefulness[i]:4f}\")\n",
        "    del seq_train, state_train, label_train, seq_val, state_val, label_val\n",
        "print(f\"Mean: MAE={np.mean(mae):4f}; R2={np.mean(r2):4f}; UsefulFraction={np.mean(usefulness):4f}\")"
      ]
    },
    {
      "cell_type": "code",
      "execution_count": 8,
      "metadata": {
        "id": "32xwKm4GHBws"
      },
      "outputs": [],
      "source": [
        "seq_train = np.load(\"AMPLify-Feedback/processed_data/test/seq_cv.npy\")\n",
        "state_train = np.load(\"AMPLify-Feedback/processed_data/test/state_cv.npy\")\n",
        "label_train = np.load(\"AMPLify-Feedback/processed_data/test/label_cv.npy\")\n",
        "seq_val = np.load(\"AMPLify-Feedback/processed_data/test/seq_test.npy\")\n",
        "state_val = np.load(\"AMPLify-Feedback/processed_data/test/state_test.npy\")\n",
        "label_val = np.load(\"AMPLify-Feedback/processed_data/test/label_test.npy\")\n",
        "seq_train = tf.one_hot(seq_train.squeeze(), depth=43)\n",
        "seq_val = tf.one_hot(seq_val.squeeze(), depth=43)"
      ]
    },
    {
      "cell_type": "code",
      "execution_count": 9,
      "metadata": {
        "colab": {
          "base_uri": "https://localhost:8080/"
        },
        "id": "LSZ0T0AWHB4o",
        "outputId": "b38ab86f-3fca-4fc1-f355-656117367cef"
      },
      "outputs": [
        {
          "name": "stdout",
          "output_type": "stream",
          "text": [
            "MAE=0.940475; R2=0.522714; UsefulFraction=0.654078\n"
          ]
        }
      ],
      "source": [
        "model = create_model()\n",
        "model.fit([seq_train, state_train], label_train, batch_size=100, verbose=0,\n",
        "          epochs=30, validation_data=([seq_val, state_val], label_val))\n",
        "pred = model.predict([seq_val, state_val], verbose=0)\n",
        "mae = mean_absolute_error(label_val, pred)\n",
        "r2 = r2_score(label_val, pred)\n",
        "useful_metric = UsefulFraction()\n",
        "useful_metric.update_state(label_val, pred)\n",
        "usefulness = useful_metric.result()\n",
        "print(f\"MAE={mae:4f}; R2={r2:4f}; UsefulFraction={usefulness:4f}\")"
      ]
    },
    {
      "cell_type": "code",
      "execution_count": 12,
      "metadata": {
        "id": "6fqbKPaUIvsw"
      },
      "outputs": [],
      "source": [
        "seq = np.load(\"AMPLify-Feedback/processed_data/test/seq_whole.npy\")\n",
        "state = np.load(\"AMPLify-Feedback/processed_data/test/state_whole.npy\")\n",
        "label = np.load(\"AMPLify-Feedback/processed_data/test/label_whole.npy\")\n",
        "seq = tf.one_hot(seq.squeeze(), depth=43)"
      ]
    },
    {
      "cell_type": "code",
      "execution_count": 13,
      "metadata": {
        "colab": {
          "base_uri": "https://localhost:8080/"
        },
        "id": "LhhuP1WoJmcp",
        "outputId": "c7b7ae7a-a990-4037-cc5f-da135096f6b9"
      },
      "outputs": [
        {
          "data": {
            "text/plain": [
              "<keras.src.callbacks.History at 0x7b32f858f100>"
            ]
          },
          "execution_count": 13,
          "metadata": {},
          "output_type": "execute_result"
        }
      ],
      "source": [
        "model = create_model()\n",
        "model.fit([seq, state], label, batch_size=100, verbose=0, epochs=30)"
      ]
    },
    {
      "cell_type": "code",
      "execution_count": 14,
      "metadata": {
        "id": "imnbCYhmJ5uB"
      },
      "outputs": [],
      "source": [
        "model.save(\"AMPLify-Feedback/model_weights/MICPredictor.h5\")"
      ]
    },
    {
      "cell_type": "code",
      "execution_count": null,
      "metadata": {
        "id": "M84_xuQCJvex"
      },
      "outputs": [],
      "source": []
    }
  ],
  "metadata": {
    "accelerator": "GPU",
    "colab": {
      "gpuType": "T4",
      "machine_shape": "hm",
      "provenance": []
    },
    "kernelspec": {
      "display_name": "Python 3",
      "name": "python3"
    },
    "language_info": {
      "codemirror_mode": {
        "name": "ipython",
        "version": 3
      },
      "file_extension": ".py",
      "mimetype": "text/x-python",
      "name": "python",
      "nbconvert_exporter": "python",
      "pygments_lexer": "ipython3",
      "version": "3.10.9"
    }
  },
  "nbformat": 4,
  "nbformat_minor": 0
}
