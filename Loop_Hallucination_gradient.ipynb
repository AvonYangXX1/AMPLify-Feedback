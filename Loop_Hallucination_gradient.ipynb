{
  "nbformat": 4,
  "nbformat_minor": 0,
  "metadata": {
    "colab": {
      "provenance": [],
      "gpuType": "T4"
    },
    "kernelspec": {
      "name": "python3",
      "display_name": "Python 3"
    },
    "language_info": {
      "name": "python"
    },
    "accelerator": "GPU"
  },
  "cells": [
    {
      "cell_type": "code",
      "execution_count": 1,
      "metadata": {
        "colab": {
          "base_uri": "https://localhost:8080/"
        },
        "id": "Un8Vus9RfeSa",
        "outputId": "b44b5268-ab10-4ede-dbbf-0c82c38db06b"
      },
      "outputs": [
        {
          "output_type": "stream",
          "name": "stdout",
          "text": [
            "fatal: destination path 'AMPLify-Feedback' already exists and is not an empty directory.\n",
            "Requirement already satisfied: Levenshtein in /usr/local/lib/python3.10/dist-packages (0.23.0)\n",
            "Requirement already satisfied: rapidfuzz<4.0.0,>=3.1.0 in /usr/local/lib/python3.10/dist-packages (from Levenshtein) (3.5.2)\n"
          ]
        }
      ],
      "source": [
        "!git clone https://github.com/AvonYangXX1/AMPLify-Feedback.git\n",
        "!pip install Levenshtein\n",
        "import tensorflow as tf\n",
        "from tensorflow.keras.optimizers import Adam\n",
        "from tensorflow.keras import layers\n",
        "import numpy as np\n",
        "import math\n",
        "import matplotlib.pyplot as plt\n",
        "import statistics\n",
        "from Levenshtein import distance as lev\n",
        "import pandas as pd"
      ]
    },
    {
      "cell_type": "code",
      "source": [
        "generator = tf.keras.models.load_model('AMPLify-Feedback/model_weights/PeptideGenerator_new.keras')"
      ],
      "metadata": {
        "id": "0dUXRksXfmC_"
      },
      "execution_count": 2,
      "outputs": []
    },
    {
      "cell_type": "code",
      "source": [
        "generator.summary()"
      ],
      "metadata": {
        "colab": {
          "base_uri": "https://localhost:8080/"
        },
        "id": "J7tSERKUhWJI",
        "outputId": "f732a8c1-5f76-458b-d242-04088b1494a6"
      },
      "execution_count": 3,
      "outputs": [
        {
          "output_type": "stream",
          "name": "stdout",
          "text": [
            "Model: \"model\"\n",
            "_________________________________________________________________\n",
            " Layer (type)                Output Shape              Param #   \n",
            "=================================================================\n",
            " Input0 (InputLayer)         [(None, 2)]               0         \n",
            "                                                                 \n",
            " Dense0 (Dense)              (None, 256)               768       \n",
            "                                                                 \n",
            " Norm0 (BatchNormalization)  (None, 256)               1024      \n",
            "                                                                 \n",
            " Dense1 (Dense)              (None, 256)               65792     \n",
            "                                                                 \n",
            " Norm1 (BatchNormalization)  (None, 256)               1024      \n",
            "                                                                 \n",
            " Dense2 (Dense)              (None, 256)               65792     \n",
            "                                                                 \n",
            " Norm2 (BatchNormalization)  (None, 256)               1024      \n",
            "                                                                 \n",
            " Dense3 (Dense)              (None, 256)               65792     \n",
            "                                                                 \n",
            " Norm3 (BatchNormalization)  (None, 256)               1024      \n",
            "                                                                 \n",
            " Dense4 (Dense)              (None, 256)               65792     \n",
            "                                                                 \n",
            " DenseResize (Dense)         (None, 8170)              2099690   \n",
            "                                                                 \n",
            " Reshape (Reshape)           (None, 190, 43)           0         \n",
            "                                                                 \n",
            " Output (Dense)              (None, 190, 43)           1892      \n",
            "                                                                 \n",
            "=================================================================\n",
            "Total params: 2369614 (9.04 MB)\n",
            "Trainable params: 2367566 (9.03 MB)\n",
            "Non-trainable params: 2048 (8.00 KB)\n",
            "_________________________________________________________________\n"
          ]
        }
      ]
    },
    {
      "cell_type": "code",
      "source": [
        "discriminator = tf.keras.models.load_model('/content/AMPLify-Feedback/model_weights/PeptideDiscriminator_new.keras')"
      ],
      "metadata": {
        "colab": {
          "base_uri": "https://localhost:8080/"
        },
        "id": "u0uod60_0zC0",
        "outputId": "d2e913ea-eab9-4c92-d96f-fc90aa144c60"
      },
      "execution_count": 4,
      "outputs": [
        {
          "output_type": "stream",
          "name": "stderr",
          "text": [
            "WARNING:absl:Skipping variable loading for optimizer 'Adam', because it has 1 variables whereas the saved optimizer has 17 variables. \n"
          ]
        }
      ]
    },
    {
      "cell_type": "code",
      "source": [
        "discriminator.summary()"
      ],
      "metadata": {
        "id": "U-gpnXH005KM",
        "colab": {
          "base_uri": "https://localhost:8080/"
        },
        "outputId": "815abd4e-01d2-44bb-dc64-e59b0604de38"
      },
      "execution_count": 5,
      "outputs": [
        {
          "output_type": "stream",
          "name": "stdout",
          "text": [
            "Model: \"discriminator\"\n",
            "_________________________________________________________________\n",
            " Layer (type)                Output Shape              Param #   \n",
            "=================================================================\n",
            " Conv1D (Conv1D)             (None, 186, 32)           6912      \n",
            "                                                                 \n",
            " Flatten (Flatten)           (None, 5952)              0         \n",
            "                                                                 \n",
            " Dense0 (Dense)              (None, 512)               3047936   \n",
            "                                                                 \n",
            " Dropout (Dropout)           (None, 512)               0         \n",
            "                                                                 \n",
            " Dense1 (Dense)              (None, 256)               131328    \n",
            "                                                                 \n",
            " Output (Dense)              (None, 1)                 257       \n",
            "                                                                 \n",
            "=================================================================\n",
            "Total params: 3186433 (12.16 MB)\n",
            "Trainable params: 0 (0.00 Byte)\n",
            "Non-trainable params: 3186433 (12.16 MB)\n",
            "_________________________________________________________________\n"
          ]
        }
      ]
    },
    {
      "cell_type": "code",
      "source": [
        "def create_oracle():\n",
        "    inputs0 = tf.keras.layers.Input((190,43),name=\"SeqInput\")\n",
        "    inputs1 = tf.keras.layers.Input((326,),name=\"StateInput\")\n",
        "    x = tf.keras.layers.Conv1D(128, 5, activation='relu', name=\"Conv1D_0\")(inputs0) # kernel_size=5 works well\n",
        "    x = tf.keras.layers.Conv1D(128, 5, activation='relu', name=\"Conv1D_1\")(x) # Just two layers work better\n",
        "    x = tf.keras.layers.Flatten(name=\"Flatten_0\")(x)\n",
        "    x = tf.keras.layers.Dense(512, activation=\"relu\", name=\"LearnSeqDense_0\")(x)\n",
        "    x = tf.keras.layers.Concatenate(axis=1, name=\"Concat\")([x, inputs1])\n",
        "    x = tf.keras.layers.Dense(1024, activation=\"relu\", name=\"LearnConcatDense_0\")(x)\n",
        "    x = tf.keras.layers.LayerNormalization(name=\"LayerNorm_0\")(x)\n",
        "    x = tf.keras.layers.Dense(512, activation=\"relu\", name=\"LearnConcatDense_1\")(x)\n",
        "    x = tf.keras.layers.LayerNormalization(name=\"LayerNorm_1\")(x)\n",
        "    x = tf.keras.layers.Dense(1, activation=\"linear\", name=\"Output\")(x)\n",
        "    model = tf.keras.models.Model([inputs0, inputs1], x, name=\"MICPredictor\")\n",
        "    return model"
      ],
      "metadata": {
        "id": "KK6BbgTkf3Nb"
      },
      "execution_count": 6,
      "outputs": []
    },
    {
      "cell_type": "code",
      "source": [
        "oracle = create_oracle()\n",
        "path = \"AMPLify-Feedback/model_weights/MICPredictor\"\n",
        "for i, layer in enumerate(oracle.layers):\n",
        "    weights = np.load(f\"{path}/layer_{i}_weights.npy\", allow_pickle=True)\n",
        "    layer.set_weights(weights)"
      ],
      "metadata": {
        "id": "D977mDVFggf1"
      },
      "execution_count": 7,
      "outputs": []
    },
    {
      "cell_type": "code",
      "source": [
        "oracle.summary()"
      ],
      "metadata": {
        "id": "EyQM0g3330Vb",
        "colab": {
          "base_uri": "https://localhost:8080/"
        },
        "outputId": "8fe8f30c-d159-4921-dbc8-8d214261f382"
      },
      "execution_count": 8,
      "outputs": [
        {
          "output_type": "stream",
          "name": "stdout",
          "text": [
            "Model: \"MICPredictor\"\n",
            "__________________________________________________________________________________________________\n",
            " Layer (type)                Output Shape                 Param #   Connected to                  \n",
            "==================================================================================================\n",
            " SeqInput (InputLayer)       [(None, 190, 43)]            0         []                            \n",
            "                                                                                                  \n",
            " Conv1D_0 (Conv1D)           (None, 186, 128)             27648     ['SeqInput[0][0]']            \n",
            "                                                                                                  \n",
            " Conv1D_1 (Conv1D)           (None, 182, 128)             82048     ['Conv1D_0[0][0]']            \n",
            "                                                                                                  \n",
            " Flatten_0 (Flatten)         (None, 23296)                0         ['Conv1D_1[0][0]']            \n",
            "                                                                                                  \n",
            " LearnSeqDense_0 (Dense)     (None, 512)                  1192806   ['Flatten_0[0][0]']           \n",
            "                                                          4                                       \n",
            "                                                                                                  \n",
            " StateInput (InputLayer)     [(None, 326)]                0         []                            \n",
            "                                                                                                  \n",
            " Concat (Concatenate)        (None, 838)                  0         ['LearnSeqDense_0[0][0]',     \n",
            "                                                                     'StateInput[0][0]']          \n",
            "                                                                                                  \n",
            " LearnConcatDense_0 (Dense)  (None, 1024)                 859136    ['Concat[0][0]']              \n",
            "                                                                                                  \n",
            " LayerNorm_0 (LayerNormaliz  (None, 1024)                 2048      ['LearnConcatDense_0[0][0]']  \n",
            " ation)                                                                                           \n",
            "                                                                                                  \n",
            " LearnConcatDense_1 (Dense)  (None, 512)                  524800    ['LayerNorm_0[0][0]']         \n",
            "                                                                                                  \n",
            " LayerNorm_1 (LayerNormaliz  (None, 512)                  1024      ['LearnConcatDense_1[0][0]']  \n",
            " ation)                                                                                           \n",
            "                                                                                                  \n",
            " Output (Dense)              (None, 1)                    513       ['LayerNorm_1[0][0]']         \n",
            "                                                                                                  \n",
            "==================================================================================================\n",
            "Total params: 13425281 (51.21 MB)\n",
            "Trainable params: 13425281 (51.21 MB)\n",
            "Non-trainable params: 0 (0.00 Byte)\n",
            "__________________________________________________________________________________________________\n"
          ]
        }
      ]
    },
    {
      "cell_type": "code",
      "source": [
        "aa_vocal = np.load(\"AMPLify-Feedback/model_weights/SeqTV_vocal.npy\")\n",
        "pep_decoder = tf.keras.layers.StringLookup(vocabulary=aa_vocal[1:], invert=True, oov_token='')\n",
        "species_vocal = np.load(\"AMPLify-Feedback/model_weights/SpeciesTV_vocal.npy\")\n",
        "species_decoder = tf.keras.layers.StringLookup(vocabulary=species_vocal[1:], invert=True, oov_token='')"
      ],
      "metadata": {
        "id": "TE8N74OskM7p"
      },
      "execution_count": 9,
      "outputs": []
    },
    {
      "cell_type": "code",
      "source": [
        "# GAN\n",
        "def compile_gan(generator, discriminator):\n",
        "    discriminator.compile(loss='binary_crossentropy',\n",
        "                          optimizer='adam',\n",
        "                          metrics=[tf.keras.metrics.FalsePositives(),\n",
        "                                   tf.keras.metrics.FalseNegatives()])\n",
        "    discriminator.trainable = False\n",
        "    gan_input0 = layers.Input(shape=(latent_dim,))\n",
        "    gan_output = discriminator(generator(gan_input0))\n",
        "    gan = tf.keras.Model(gan_input0, gan_output)\n",
        "    gan.compile(loss='binary_crossentropy', optimizer=tf.keras.optimizers.Adam(1e-4))\n",
        "    return gan"
      ],
      "metadata": {
        "id": "ULeDwzAP0pxM"
      },
      "execution_count": 10,
      "outputs": []
    },
    {
      "cell_type": "code",
      "source": [
        "def fit_gan(generator, discriminator, gan, data, epochs, batch_size, latent_dim):\n",
        "    demo_noise = noise = (np.random.rand(1, latent_dim)-0.5)*2\n",
        "    sequences = data[\"Onehot_sequence\"].to_numpy()\n",
        "    for epoch in range(epochs):\n",
        "        total_d_loss = 0\n",
        "        total_g_loss = 0\n",
        "        num_batches = int(sequences.shape[0] / batch_size)\n",
        "        for i in range(0, sequences.shape[0], batch_size):\n",
        "            real_sequences = sequences[i:i + batch_size]\n",
        "            current_batch_size = real_sequences.shape[0]\n",
        "            labels = np.ones((current_batch_size, 1))\n",
        "            noise = (np.random.rand(current_batch_size, latent_dim)-0.5)*2\n",
        "\n",
        "            print((real_sequences.shape, labels.shape))\n",
        "\n",
        "            # Train discriminator\n",
        "            discriminator.trainable = True\n",
        "            d_loss = discriminator.train_on_batch(real_sequences, labels)\n",
        "            discriminator.trainable = False\n",
        "\n",
        "            # Train generator\n",
        "            noise = np.random.normal(0, 1, (current_batch_size, latent_dim))\n",
        "            g_loss = gan.train_on_batch(noise, np.ones((current_batch_size, 1)))\n",
        "\n",
        "            # Print the progress\n",
        "            total_d_loss += d_loss\n",
        "            total_g_loss += g_loss\n",
        "\n",
        "        #Print a sampled sequence to follow structural evolution\n",
        "        demo_seq = generator(demo_noise)\n",
        "        demo_seq = tf.math.argmax(demo_seq, axis=2)\n",
        "        demo_seq = pep_decoder(demo_seq).numpy().astype('str')\n",
        "        demo_seq = [\"\".join(chars) for chars in demo_seq]\n",
        "        print(demo_seq[0])\n",
        "        print(f\"Epoch {epoch+1}/{epochs}; FP {total_d_loss[1]/sequences.shape[0]:.4f}; FN {total_d_loss[2]/sequences.shape[0]:.4f}; G_Loss {total_g_loss/num_batches:.4f}\")\n",
        "        del seq\n",
        "        return total_d_loss, total_g_loss"
      ],
      "metadata": {
        "id": "L6ofmOCju_lt"
      },
      "execution_count": 11,
      "outputs": []
    },
    {
      "cell_type": "code",
      "source": [
        "def generate_sequences(generator, latent_dim, num_sequences):\n",
        "    noise = (np.random.rand(num_sequences, latent_dim)-0.5)*2\n",
        "    generated_sequences = generator.predict(noise, verbose=0)\n",
        "    return onehot2seq(generated_sequences)"
      ],
      "metadata": {
        "id": "2WsDGF87ZWil"
      },
      "execution_count": 12,
      "outputs": []
    },
    {
      "cell_type": "code",
      "source": [
        "def onehot2seq(onehot):\n",
        "  decoded_sequences = []\n",
        "  for s in onehot:\n",
        "    chars_array = pep_decoder(tf.math.argmax([s], axis=2)).numpy().astype('str')\n",
        "    decoded_sequences += [\"\".join(chars) for chars in chars_array]\n",
        "  return decoded_sequences\n",
        "\n",
        "def seq2onehot(seq):\n",
        "  for s in seq:\n",
        "    SeqTV = tf.keras.layers.TextVectorization(max_tokens=50, standardize=None, split=\"character\",\n",
        "                                          pad_to_max_tokens=True,\n",
        "                                          output_sequence_length=190,\n",
        "                                          output_mode=\"int\", name=\"SeqTextVectorizer\")\n",
        "    SeqTV.adapt(seq)\n",
        "  return SeqTV(seq).numpy()"
      ],
      "metadata": {
        "id": "h9QYIzXEp4MF"
      },
      "execution_count": 13,
      "outputs": []
    },
    {
      "cell_type": "code",
      "source": [
        "def coordinates_grid(num_bins) :\n",
        "  labels = np.round(np.linspace(-1, 1, num_bins), 2)\n",
        "  noise = []\n",
        "  for x in labels:\n",
        "    for y in labels:\n",
        "        noise.append([x, y])\n",
        "  noise = np.array(noise)\n",
        "  num_sequences = len(noise)\n",
        "  return noise, num_sequences, labels"
      ],
      "metadata": {
        "id": "ECs8ksUVnuUz"
      },
      "execution_count": 14,
      "outputs": []
    },
    {
      "cell_type": "code",
      "source": [
        "def hallucination_mapping(num_bins, target):\n",
        "  #Search coordinates in the noise plane\n",
        "  noise, num_sequences, labels = coordinates_grid(num_bins)\n",
        "  # Look up the index of the target bacteria\n",
        "  bacteria = np.zeros(shape=(num_sequences, 326))\n",
        "  index = np.where(species_vocal==target)[0][0]\n",
        "  bacteria[:, index] = 1\n",
        "  return noise, num_sequences, bacteria"
      ],
      "metadata": {
        "id": "lXOwW1NxniwL"
      },
      "execution_count": 15,
      "outputs": []
    },
    {
      "cell_type": "code",
      "source": [
        "def selected_data(hallucination_data, n_max, MIC_threshold) :\n",
        "  #Order by increasing MIC and select the top n_max sequences\n",
        "  hallucination_data['MIC'].sort_values(ascending=True).head(n_max)\n",
        "  #Exclude if above MIC_theshold\n",
        "  hallucination_data = hallucination_data[hallucination_data.MIC.astype(np.float64) < MIC_threshold]\n",
        "  return hallucination_data"
      ],
      "metadata": {
        "id": "b9zI79F666Hq"
      },
      "execution_count": 16,
      "outputs": []
    },
    {
      "cell_type": "code",
      "source": [
        "def RL_loop(generator, discriminator, gan, oracle, num_sequences, epochs, aa_vocal, pep_decoder, latent_dim, MIC_threshold, n_max, n_bins, target):\n",
        "  d_loss, d_accuracy, g_loss, average_mic_train, min_mic_train, max_mic_train, median_mic_train, levenstein  = [], [], [], [], [], [], [], []\n",
        "  for i in range (n_iter_max) :\n",
        "    #Sequences prediction\n",
        "    print(\"prediction\")\n",
        "    noise, num_sequences, bacteria = hallucination_mapping(n_bins, target)\n",
        "    generated_onehot = generator.predict(noise, verbose=0)\n",
        "    generated_sequences = onehot2seq(generated_onehot)\n",
        "\n",
        "    #Oracle results and statistics\n",
        "    print(\"oracle\")\n",
        "    MIC = oracle.predict([generated_onehot, bacteria], verbose=0)\n",
        "    print(\"Stats oracle\")\n",
        "    average_mic_train += [np.mean(MIC)]\n",
        "    min_mic_train += [np.min(MIC)]\n",
        "    max_mic_train += [np.max(MIC)]\n",
        "    median_mic_train += [np.median(MIC)]\n",
        "    #levenstein += [variability_metrics(generated_sequences, aa_vocal, pep_decoder)]\n",
        "\n",
        "    #Evaluatiuon of the generated sequences with the oracle results\n",
        "    print(\"eval\")\n",
        "    hallucination_data = np.concatenate([noise, np.array(generated_sequences).reshape(num_sequences, 1), np.array(generated_onehot).reshape(num_sequences, -1, 43), MIC], axis=1)\n",
        "    hallucination_data = pd.DataFrame(hallucination_data, columns=[\"Noise_1\", \"Noise_2\", \"Peptide\", \"Onehot_sequence\", \"MIC\"])\n",
        "    data_subset = selected_data(hallucination_data, n_max, MIC_threshold)\n",
        "\n",
        "    #Fitting of the generator\n",
        "    print(\"fit\")\n",
        "    d_results, g_results = fit_gan(generator, discriminator, gan, data_subset, epochs=epochs, batch_size=num_sequences, latent_dim=latent_dim)\n",
        "    d_loss += [d_results['loss']]\n",
        "    d_accuracy += [d_results['accuracy']]\n",
        "    g_loss += [g_results]\n",
        "\n",
        "  return d_loss, d_accuracy, g_loss, average_mic_train, min_mic_train, max_mic_train, median_mic_train, levenstein"
      ],
      "metadata": {
        "id": "wbEqlQ5xz8R4"
      },
      "execution_count": 23,
      "outputs": []
    },
    {
      "cell_type": "code",
      "source": [
        "def variability_metrics(sequences, aa_vocal, pep_decoder):\n",
        "  total_lev = 0\n",
        "  index = 0\n",
        "  for s1 in range(len(sequences)):\n",
        "                for s2 in range(s1+1,len(sequences)):\n",
        "                        total_lev += lev(sequences[s1],sequences[s2])\n",
        "                        index += 1\n",
        "  return total_lev/index"
      ],
      "metadata": {
        "id": "j1rS35AR-Y_2"
      },
      "execution_count": 18,
      "outputs": []
    },
    {
      "cell_type": "code",
      "source": [
        "def display(parameters):\n",
        "  for p in list(parameters.keys()):\n",
        "    plt.plot(range(len(parameters[p])), parameters[p], linestyle='-', label = p)\n",
        "  plt.legend(loc = \"upper right\")\n",
        "  plt.ylabel(\"Value\")\n",
        "  plt.xlabel(\"Iteration index\")\n",
        "  plt.title(\"Performances with the feedback loop\")\n",
        "  plt.show()"
      ],
      "metadata": {
        "id": "T9tJGh8JjX7i"
      },
      "execution_count": 19,
      "outputs": []
    },
    {
      "cell_type": "code",
      "source": [
        "latent_dim = 2\n",
        "num_sequences = 100\n",
        "n_iter_max = 1\n",
        "epochs = 2\n",
        "\n",
        "MIC_threshold = math.log(100,2)\n",
        "n_max = 10\n",
        "n_bins = 50\n",
        "target = 'Bacillus_subtilis'\n",
        "\n",
        "gan = compile_gan(generator, discriminator)\n",
        "d_loss, d_accuracy, g_loss, average_mic_train, min_mic_train, max_mic_train, median_mic_train, levenstein = RL_loop(generator, discriminator, gan, oracle, num_sequences, epochs, aa_vocal, pep_decoder, latent_dim, MIC_threshold, n_max, n_bins, target)\n",
        "display({\"Discriminator loss\" : d_loss, \"Discriminator accuracy\" : d_accuracy, \"Generator loss\" : g_loss})\n",
        "display({\"Train MIC\" : average_mic_train, \"Minimum MIC\" : min_mic_train, \"Maximum MIC\" : max_mic_train, \"Median MIC\" : median_mic_train})\n",
        "display({\"Average Levenstein distance within the prediction\" : levenstein})\n",
        "generate_sequences(generator, latent_dim, num_sequences)"
      ],
      "metadata": {
        "id": "P_CXFJVM3I6R",
        "colab": {
          "base_uri": "https://localhost:8080/",
          "height": 547
        },
        "outputId": "3b059c27-2b35-4a89-d8a6-220cee0044de"
      },
      "execution_count": 24,
      "outputs": [
        {
          "output_type": "stream",
          "name": "stdout",
          "text": [
            "prediction\n",
            "oracle\n",
            "Stats oracle\n",
            "eval\n"
          ]
        },
        {
          "output_type": "error",
          "ename": "ValueError",
          "evalue": "ignored",
          "traceback": [
            "\u001b[0;31m---------------------------------------------------------------------------\u001b[0m",
            "\u001b[0;31mValueError\u001b[0m                                Traceback (most recent call last)",
            "\u001b[0;32m<ipython-input-24-ed510aa19aa1>\u001b[0m in \u001b[0;36m<cell line: 12>\u001b[0;34m()\u001b[0m\n\u001b[1;32m     10\u001b[0m \u001b[0;34m\u001b[0m\u001b[0m\n\u001b[1;32m     11\u001b[0m \u001b[0mgan\u001b[0m \u001b[0;34m=\u001b[0m \u001b[0mcompile_gan\u001b[0m\u001b[0;34m(\u001b[0m\u001b[0mgenerator\u001b[0m\u001b[0;34m,\u001b[0m \u001b[0mdiscriminator\u001b[0m\u001b[0;34m)\u001b[0m\u001b[0;34m\u001b[0m\u001b[0;34m\u001b[0m\u001b[0m\n\u001b[0;32m---> 12\u001b[0;31m \u001b[0md_loss\u001b[0m\u001b[0;34m,\u001b[0m \u001b[0md_accuracy\u001b[0m\u001b[0;34m,\u001b[0m \u001b[0mg_loss\u001b[0m\u001b[0;34m,\u001b[0m \u001b[0maverage_mic_train\u001b[0m\u001b[0;34m,\u001b[0m \u001b[0mmin_mic_train\u001b[0m\u001b[0;34m,\u001b[0m \u001b[0mmax_mic_train\u001b[0m\u001b[0;34m,\u001b[0m \u001b[0mmedian_mic_train\u001b[0m\u001b[0;34m,\u001b[0m \u001b[0mlevenstein\u001b[0m \u001b[0;34m=\u001b[0m \u001b[0mRL_loop\u001b[0m\u001b[0;34m(\u001b[0m\u001b[0mgenerator\u001b[0m\u001b[0;34m,\u001b[0m \u001b[0mdiscriminator\u001b[0m\u001b[0;34m,\u001b[0m \u001b[0mgan\u001b[0m\u001b[0;34m,\u001b[0m \u001b[0moracle\u001b[0m\u001b[0;34m,\u001b[0m \u001b[0mnum_sequences\u001b[0m\u001b[0;34m,\u001b[0m \u001b[0mepochs\u001b[0m\u001b[0;34m,\u001b[0m \u001b[0maa_vocal\u001b[0m\u001b[0;34m,\u001b[0m \u001b[0mpep_decoder\u001b[0m\u001b[0;34m,\u001b[0m \u001b[0mlatent_dim\u001b[0m\u001b[0;34m,\u001b[0m \u001b[0mMIC_threshold\u001b[0m\u001b[0;34m,\u001b[0m \u001b[0mn_max\u001b[0m\u001b[0;34m,\u001b[0m \u001b[0mn_bins\u001b[0m\u001b[0;34m,\u001b[0m \u001b[0mtarget\u001b[0m\u001b[0;34m)\u001b[0m\u001b[0;34m\u001b[0m\u001b[0;34m\u001b[0m\u001b[0m\n\u001b[0m\u001b[1;32m     13\u001b[0m \u001b[0mdisplay\u001b[0m\u001b[0;34m(\u001b[0m\u001b[0;34m{\u001b[0m\u001b[0;34m\"Discriminator loss\"\u001b[0m \u001b[0;34m:\u001b[0m \u001b[0md_loss\u001b[0m\u001b[0;34m,\u001b[0m \u001b[0;34m\"Discriminator accuracy\"\u001b[0m \u001b[0;34m:\u001b[0m \u001b[0md_accuracy\u001b[0m\u001b[0;34m,\u001b[0m \u001b[0;34m\"Generator loss\"\u001b[0m \u001b[0;34m:\u001b[0m \u001b[0mg_loss\u001b[0m\u001b[0;34m}\u001b[0m\u001b[0;34m)\u001b[0m\u001b[0;34m\u001b[0m\u001b[0;34m\u001b[0m\u001b[0m\n\u001b[1;32m     14\u001b[0m \u001b[0mdisplay\u001b[0m\u001b[0;34m(\u001b[0m\u001b[0;34m{\u001b[0m\u001b[0;34m\"Train MIC\"\u001b[0m \u001b[0;34m:\u001b[0m \u001b[0maverage_mic_train\u001b[0m\u001b[0;34m,\u001b[0m \u001b[0;34m\"Minimum MIC\"\u001b[0m \u001b[0;34m:\u001b[0m \u001b[0mmin_mic_train\u001b[0m\u001b[0;34m,\u001b[0m \u001b[0;34m\"Maximum MIC\"\u001b[0m \u001b[0;34m:\u001b[0m \u001b[0mmax_mic_train\u001b[0m\u001b[0;34m,\u001b[0m \u001b[0;34m\"Median MIC\"\u001b[0m \u001b[0;34m:\u001b[0m \u001b[0mmedian_mic_train\u001b[0m\u001b[0;34m}\u001b[0m\u001b[0;34m)\u001b[0m\u001b[0;34m\u001b[0m\u001b[0;34m\u001b[0m\u001b[0m\n",
            "\u001b[0;32m<ipython-input-23-323b0283e3e7>\u001b[0m in \u001b[0;36mRL_loop\u001b[0;34m(generator, discriminator, gan, oracle, num_sequences, epochs, aa_vocal, pep_decoder, latent_dim, MIC_threshold, n_max, n_bins, target)\u001b[0m\n\u001b[1;32m     20\u001b[0m     \u001b[0;31m#Evaluatiuon of the generated sequences with the oracle results\u001b[0m\u001b[0;34m\u001b[0m\u001b[0;34m\u001b[0m\u001b[0m\n\u001b[1;32m     21\u001b[0m     \u001b[0mprint\u001b[0m\u001b[0;34m(\u001b[0m\u001b[0;34m\"eval\"\u001b[0m\u001b[0;34m)\u001b[0m\u001b[0;34m\u001b[0m\u001b[0;34m\u001b[0m\u001b[0m\n\u001b[0;32m---> 22\u001b[0;31m     \u001b[0mhallucination_data\u001b[0m \u001b[0;34m=\u001b[0m \u001b[0mnp\u001b[0m\u001b[0;34m.\u001b[0m\u001b[0mconcatenate\u001b[0m\u001b[0;34m(\u001b[0m\u001b[0;34m[\u001b[0m\u001b[0mnoise\u001b[0m\u001b[0;34m,\u001b[0m \u001b[0mnp\u001b[0m\u001b[0;34m.\u001b[0m\u001b[0marray\u001b[0m\u001b[0;34m(\u001b[0m\u001b[0mgenerated_sequences\u001b[0m\u001b[0;34m)\u001b[0m\u001b[0;34m.\u001b[0m\u001b[0mreshape\u001b[0m\u001b[0;34m(\u001b[0m\u001b[0mnum_sequences\u001b[0m\u001b[0;34m,\u001b[0m \u001b[0;36m1\u001b[0m\u001b[0;34m)\u001b[0m\u001b[0;34m,\u001b[0m \u001b[0mnp\u001b[0m\u001b[0;34m.\u001b[0m\u001b[0marray\u001b[0m\u001b[0;34m(\u001b[0m\u001b[0mgenerated_onehot\u001b[0m\u001b[0;34m)\u001b[0m\u001b[0;34m.\u001b[0m\u001b[0mreshape\u001b[0m\u001b[0;34m(\u001b[0m\u001b[0mnum_sequences\u001b[0m\u001b[0;34m,\u001b[0m \u001b[0;34m-\u001b[0m\u001b[0;36m1\u001b[0m\u001b[0;34m,\u001b[0m \u001b[0;36m43\u001b[0m\u001b[0;34m)\u001b[0m\u001b[0;34m,\u001b[0m \u001b[0mMIC\u001b[0m\u001b[0;34m]\u001b[0m\u001b[0;34m,\u001b[0m \u001b[0maxis\u001b[0m\u001b[0;34m=\u001b[0m\u001b[0;36m1\u001b[0m\u001b[0;34m)\u001b[0m\u001b[0;34m\u001b[0m\u001b[0;34m\u001b[0m\u001b[0m\n\u001b[0m\u001b[1;32m     23\u001b[0m     \u001b[0mhallucination_data\u001b[0m \u001b[0;34m=\u001b[0m \u001b[0mpd\u001b[0m\u001b[0;34m.\u001b[0m\u001b[0mDataFrame\u001b[0m\u001b[0;34m(\u001b[0m\u001b[0mhallucination_data\u001b[0m\u001b[0;34m,\u001b[0m \u001b[0mcolumns\u001b[0m\u001b[0;34m=\u001b[0m\u001b[0;34m[\u001b[0m\u001b[0;34m\"Noise_1\"\u001b[0m\u001b[0;34m,\u001b[0m \u001b[0;34m\"Noise_2\"\u001b[0m\u001b[0;34m,\u001b[0m \u001b[0;34m\"Peptide\"\u001b[0m\u001b[0;34m,\u001b[0m \u001b[0;34m\"Onehot_sequence\"\u001b[0m\u001b[0;34m,\u001b[0m \u001b[0;34m\"MIC\"\u001b[0m\u001b[0;34m]\u001b[0m\u001b[0;34m)\u001b[0m\u001b[0;34m\u001b[0m\u001b[0;34m\u001b[0m\u001b[0m\n\u001b[1;32m     24\u001b[0m     \u001b[0mdata_subset\u001b[0m \u001b[0;34m=\u001b[0m \u001b[0mselected_data\u001b[0m\u001b[0;34m(\u001b[0m\u001b[0mhallucination_data\u001b[0m\u001b[0;34m,\u001b[0m \u001b[0mn_max\u001b[0m\u001b[0;34m,\u001b[0m \u001b[0mMIC_threshold\u001b[0m\u001b[0;34m)\u001b[0m\u001b[0;34m\u001b[0m\u001b[0;34m\u001b[0m\u001b[0m\n",
            "\u001b[0;32m/usr/local/lib/python3.10/dist-packages/numpy/core/overrides.py\u001b[0m in \u001b[0;36mconcatenate\u001b[0;34m(*args, **kwargs)\u001b[0m\n",
            "\u001b[0;31mValueError\u001b[0m: all the input arrays must have same number of dimensions, but the array at index 0 has 2 dimension(s) and the array at index 2 has 3 dimension(s)"
          ]
        }
      ]
    }
  ]
}