{
  "nbformat": 4,
  "nbformat_minor": 0,
  "metadata": {
    "colab": {
      "provenance": [],
      "gpuType": "V100"
    },
    "kernelspec": {
      "name": "python3",
      "display_name": "Python 3"
    },
    "language_info": {
      "name": "python"
    },
    "accelerator": "GPU"
  },
  "cells": [
    {
      "cell_type": "code",
      "execution_count": 1,
      "metadata": {
        "colab": {
          "base_uri": "https://localhost:8080/"
        },
        "id": "Un8Vus9RfeSa",
        "outputId": "d42b82b4-a4a7-4771-92ca-59c0d15f5777"
      },
      "outputs": [
        {
          "output_type": "stream",
          "name": "stdout",
          "text": [
            "fatal: destination path 'AMPLify-Feedback' already exists and is not an empty directory.\n"
          ]
        }
      ],
      "source": [
        "!git clone https://github.com/AvonYangXX1/AMPLify-Feedback.git\n",
        "# !pip install Levenshtein\n",
        "import tensorflow as tf\n",
        "from tensorflow.keras.optimizers import Adam\n",
        "from tensorflow.keras import layers\n",
        "import numpy as np\n",
        "import math\n",
        "import matplotlib.pyplot as plt\n",
        "import statistics\n",
        "# from Levenshtein import distance as lev\n",
        "import pandas as pd"
      ]
    },
    {
      "cell_type": "code",
      "source": [
        "def create_generator():\n",
        "    origin_generator = tf.keras.models.load_model('AMPLify-Feedback/model_weights/PeptideGenerator_new.keras')\n",
        "    inputs = tf.keras.layers.Input(shape=(326),name=\"SeqInput\")\n",
        "    x = tf.keras.layers.Dense(2, activation=\"tanh\")(inputs)\n",
        "    x = origin_generator(x)\n",
        "    new_generator = tf.keras.models.Model(inputs, x)\n",
        "    return new_generator"
      ],
      "metadata": {
        "id": "6wDHyUPt2Xz6"
      },
      "execution_count": 2,
      "outputs": []
    },
    {
      "cell_type": "code",
      "source": [
        "def create_oracle():\n",
        "    inputs0 = tf.keras.layers.Input((190,43),name=\"SeqInput\")\n",
        "    inputs1 = tf.keras.layers.Input((326,),name=\"StateInput\")\n",
        "    x = tf.keras.layers.Conv1D(128, 5, activation='relu', name=\"Conv1D_0\")(inputs0) # kernel_size=5 works well\n",
        "    x = tf.keras.layers.Conv1D(128, 5, activation='relu', name=\"Conv1D_1\")(x) # Just two layers work better\n",
        "    x = tf.keras.layers.Flatten(name=\"Flatten_0\")(x)\n",
        "    x = tf.keras.layers.Dense(512, activation=\"relu\", name=\"LearnSeqDense_0\")(x)\n",
        "    x = tf.keras.layers.Concatenate(axis=1, name=\"Concat\")([x, inputs1])\n",
        "    x = tf.keras.layers.Dense(1024, activation=\"relu\", name=\"LearnConcatDense_0\")(x)\n",
        "    x = tf.keras.layers.LayerNormalization(name=\"LayerNorm_0\")(x)\n",
        "    x = tf.keras.layers.Dense(512, activation=\"relu\", name=\"LearnConcatDense_1\")(x)\n",
        "    x = tf.keras.layers.LayerNormalization(name=\"LayerNorm_1\")(x)\n",
        "    x = tf.keras.layers.Dense(1, activation=\"linear\", name=\"Output\")(x)\n",
        "    model = tf.keras.models.Model([inputs0, inputs1], x, name=\"MICPredictor\")\n",
        "    return model"
      ],
      "metadata": {
        "id": "KK6BbgTkf3Nb"
      },
      "execution_count": 3,
      "outputs": []
    },
    {
      "cell_type": "code",
      "source": [
        "oracle = create_oracle()\n",
        "path = \"AMPLify-Feedback/model_weights/MICPredictor\"\n",
        "for i, layer in enumerate(oracle.layers):\n",
        "    weights = np.load(f\"{path}/layer_{i}_weights.npy\", allow_pickle=True)\n",
        "    layer.set_weights(weights)"
      ],
      "metadata": {
        "id": "D977mDVFggf1"
      },
      "execution_count": 4,
      "outputs": []
    },
    {
      "cell_type": "code",
      "source": [
        "aa_vocal = np.load(\"AMPLify-Feedback/model_weights/SeqTV_vocal.npy\")\n",
        "pep_decoder = tf.keras.layers.StringLookup(vocabulary=aa_vocal[1:], invert=True, oov_token='')\n",
        "species_vocal = np.load(\"AMPLify-Feedback/model_weights/SpeciesTV_vocal.npy\")\n",
        "species_decoder = tf.keras.layers.StringLookup(vocabulary=species_vocal[1:], invert=True, oov_token='')"
      ],
      "metadata": {
        "id": "TE8N74OskM7p"
      },
      "execution_count": 5,
      "outputs": []
    },
    {
      "cell_type": "code",
      "source": [
        "def generate_sequences(generator, bacteria):\n",
        "    generated_sequences = generator.predict(bacteria, verbose=0)\n",
        "    return onehot2seq(generated_sequences)"
      ],
      "metadata": {
        "id": "2WsDGF87ZWil"
      },
      "execution_count": 6,
      "outputs": []
    },
    {
      "cell_type": "code",
      "source": [
        "def onehot2seq(onehot):\n",
        "  decoded_sequences = []\n",
        "  chars_array = pep_decoder(tf.math.argmax(onehot, axis=2)).numpy().astype('str')\n",
        "  decoded_sequences += [\"\".join(chars) for chars in chars_array]\n",
        "  return decoded_sequences"
      ],
      "metadata": {
        "id": "h9QYIzXEp4MF"
      },
      "execution_count": 7,
      "outputs": []
    },
    {
      "cell_type": "code",
      "source": [
        "@tf.function\n",
        "def compute_gradient(oracle, bacteria, generator_optimizer):\n",
        "    bacteria = tf.convert_to_tensor(bacteria, np.float64)\n",
        "    with tf.GradientTape() as gen_tape:\n",
        "        gen_tape.watch(bacteria)\n",
        "        generated_onehot = generator(bacteria, training=True)\n",
        "        generator_loss = tf.reduce_mean(oracle([generated_onehot, bacteria]))\n",
        "    gradients_of_generator = gen_tape.gradient(generator_loss, generator.trainable_variables)\n",
        "    generator_optimizer.apply_gradients(zip(gradients_of_generator, generator.trainable_variables))\n",
        "    return generated_onehot"
      ],
      "metadata": {
        "id": "QdwWf9d0RMlJ"
      },
      "execution_count": 8,
      "outputs": []
    },
    {
      "cell_type": "code",
      "source": [
        "def variability_metrics(sequences, aa_vocal, pep_decoder):\n",
        "  total_lev = 0\n",
        "  index = 0\n",
        "  for s1 in range(len(sequences)):\n",
        "                for s2 in range(s1+1,len(sequences)):\n",
        "                        total_lev += lev(sequences[s1],sequences[s2])\n",
        "                        index += 1\n",
        "  return total_lev/index"
      ],
      "metadata": {
        "id": "j1rS35AR-Y_2"
      },
      "execution_count": 9,
      "outputs": []
    },
    {
      "cell_type": "code",
      "source": [
        "def display(parameters):\n",
        "  for p in list(parameters.keys()):\n",
        "    plt.plot(range(len(parameters[p])), parameters[p], linestyle='-', label = p)\n",
        "  plt.legend(loc = \"upper right\")\n",
        "  plt.ylabel(\"Value\")\n",
        "  plt.xlabel(\"Iteration index\")\n",
        "  plt.title(\"Performances with the feedback loop\")\n",
        "  plt.show()"
      ],
      "metadata": {
        "id": "T9tJGh8JjX7i"
      },
      "execution_count": 10,
      "outputs": []
    },
    {
      "cell_type": "code",
      "source": [
        "def RL_loop(generator, oracle, aa_vocal, pep_decoder, target):\n",
        "  average_mic_train, min_mic_train, max_mic_train, median_mic_train, levenstein  = [], [], [], [], []\n",
        "  generator_optimizer = tf.keras.optimizers.Adam(learning_rate=0.001)\n",
        "  for i in range (n_iter_max) :\n",
        "    #Sequences prediction and gradient computation\n",
        "    # noise, num_sequences, bacteria = hallucination_mapping(n_bins, target)\n",
        "    generated_onehot = compute_gradient(oracle, bacteria, generator_optimizer)\n",
        "    generated_sequences = onehot2seq(generated_onehot)\n",
        "\n",
        "    #Oracle results and statistics\n",
        "    MIC = oracle([generated_onehot, bacteria])\n",
        "    average_mic_train += [np.mean(MIC)]\n",
        "    min_mic_train += [np.min(MIC)]\n",
        "    max_mic_train += [np.max(MIC)]\n",
        "    median_mic_train += [np.median(MIC)]\n",
        "\n",
        "    print(f\"Iter {i+1}/{n_iter_max}; Average MIC {np.mean(MIC):.4f}\")\n",
        "\n",
        "  return generator, average_mic_train, min_mic_train, max_mic_train, median_mic_train"
      ],
      "metadata": {
        "id": "wbEqlQ5xz8R4"
      },
      "execution_count": 11,
      "outputs": []
    },
    {
      "cell_type": "code",
      "source": [
        "latent_dim = 2\n",
        "n_iter_max = 40\n",
        "# n_bins = 101\n",
        "num_sequences = 10000\n",
        "\n",
        "np.random.seed(8701)\n",
        "bacteria = []\n",
        "for i in range(num_sequences):\n",
        "    bacterium = np.zeros(326)\n",
        "    bacterium[np.random.randint(0, 326)]=1\n",
        "    bacteria.append([bacterium])\n",
        "bacteria = np.concatenate(bacteria, axis=0)\n",
        "\n",
        "generator = create_generator()\n",
        "generator, average_mic_train, min_mic_train, max_mic_train, median_mic_train = RL_loop(generator, oracle, aa_vocal, pep_decoder, bacteria)"
      ],
      "metadata": {
        "id": "P_CXFJVM3I6R",
        "colab": {
          "base_uri": "https://localhost:8080/"
        },
        "outputId": "4faeb1d9-62b9-4ed7-937b-5c7838af51ce"
      },
      "execution_count": 12,
      "outputs": [
        {
          "output_type": "stream",
          "name": "stdout",
          "text": [
            "Iter 1/40; Average MIC 4.3450\n",
            "Iter 2/40; Average MIC 4.1503\n",
            "Iter 3/40; Average MIC 4.0123\n",
            "Iter 4/40; Average MIC 3.8658\n",
            "Iter 5/40; Average MIC 3.7520\n",
            "Iter 6/40; Average MIC 3.6892\n",
            "Iter 7/40; Average MIC 3.6097\n",
            "Iter 8/40; Average MIC 3.5436\n",
            "Iter 9/40; Average MIC 3.4598\n",
            "Iter 10/40; Average MIC 3.3980\n",
            "Iter 11/40; Average MIC 3.3413\n",
            "Iter 12/40; Average MIC 3.2938\n",
            "Iter 13/40; Average MIC 3.2521\n",
            "Iter 14/40; Average MIC 3.2156\n",
            "Iter 15/40; Average MIC 3.1682\n",
            "Iter 16/40; Average MIC 3.1219\n",
            "Iter 17/40; Average MIC 3.0848\n",
            "Iter 18/40; Average MIC 3.0369\n",
            "Iter 19/40; Average MIC 2.9879\n",
            "Iter 20/40; Average MIC 2.9504\n",
            "Iter 21/40; Average MIC 2.9145\n",
            "Iter 22/40; Average MIC 2.8965\n",
            "Iter 23/40; Average MIC 2.8667\n",
            "Iter 24/40; Average MIC 2.8258\n",
            "Iter 25/40; Average MIC 2.7969\n",
            "Iter 26/40; Average MIC 2.7604\n",
            "Iter 27/40; Average MIC 2.7325\n",
            "Iter 28/40; Average MIC 2.7019\n",
            "Iter 29/40; Average MIC 2.6642\n",
            "Iter 30/40; Average MIC 2.6264\n",
            "Iter 31/40; Average MIC 2.6056\n",
            "Iter 32/40; Average MIC 2.5873\n",
            "Iter 33/40; Average MIC 2.5695\n",
            "Iter 34/40; Average MIC 2.5459\n",
            "Iter 35/40; Average MIC 2.5237\n",
            "Iter 36/40; Average MIC 2.5028\n",
            "Iter 37/40; Average MIC 2.4873\n",
            "Iter 38/40; Average MIC 2.4757\n",
            "Iter 39/40; Average MIC 2.4556\n",
            "Iter 40/40; Average MIC 2.4346\n"
          ]
        }
      ]
    },
    {
      "cell_type": "code",
      "source": [
        "display({\"Average MIC\" : average_mic_train, \"Minimum MIC\" : min_mic_train, \"Maximum MIC\" : max_mic_train, \"Median MIC\" : median_mic_train})\n",
        "plt.savefig(\"All_MIC.png\")"
      ],
      "metadata": {
        "colab": {
          "base_uri": "https://localhost:8080/",
          "height": 490
        },
        "id": "b-5-WfhdCE_r",
        "outputId": "c92fe586-f5f5-4bd5-f926-99a79a6b84f4"
      },
      "execution_count": 17,
      "outputs": [
        {
          "output_type": "display_data",
          "data": {
            "text/plain": [
              "<Figure size 640x480 with 1 Axes>"
            ],
            "image/png": "[encoded data removed]"
          },
          "metadata": {}
        },
        {
          "output_type": "display_data",
          "data": {
            "text/plain": [
              "<Figure size 640x480 with 0 Axes>"
            ]
          },
          "metadata": {}
        }
      ]
    },
    {
      "cell_type": "code",
      "source": [
        "targets = species_vocal[1:]\n",
        "target_onehot = np.zeros(326 * len(targets)).reshape(len(targets), 326)\n",
        "for i in range(len(targets)):\n",
        "  target_onehot[i][np.where(species_vocal==targets[i])[0][0]]=1\n",
        "generated_sequences = generator.predict(target_onehot, verbose=0)\n",
        "MIC = oracle.predict([generated_sequences, target_onehot], verbose=0).flatten()\n",
        "Seq = onehot2seq(generated_sequences)\n",
        "display_table = pd.DataFrame([species_vocal[1:], Seq, MIC]).transpose()\n",
        "print(display_table.to_string())"
      ],
      "metadata": {
        "colab": {
          "base_uri": "https://localhost:8080/"
        },
        "id": "7Lmq6Ett_wQ-",
        "outputId": "8277a81e-38f6-4740-f2b9-7f32a9ed4e10"
      },
      "execution_count": 14,
      "outputs": [
        {
          "output_type": "stream",
          "name": "stdout",
          "text": [
            "                                         0                  1         2\n",
            "0                        Bacillus_subtilis    GVlKLLKKFLKFAKI  1.792013\n",
            "1                    Staphylococcus_aureus  TVyLLLKKFKKFAKDAI  2.636046\n",
            "2                         Escherichia_coli  TVyLkNKKkKKFAKDAI  0.757396\n",
            "3                   Pseudomonas_aeruginosa         TVKKLFIFLL   3.09396\n",
            "4                         Candida_albicans    TVlKLFKFFKLFAKI  4.174263\n",
            "5               Pectobacterium_carotovorum      TVKKLFIFFLLKI  4.153943\n",
            "6                Clavibacter_michiganensis    GVlKLLKKFKKFAKI  1.170207\n",
            "7                    Pseudomonas_corrugata    TVlLkDKKFKLFAKI  0.619942\n",
            "8                     Pseudomonas_syringae  TVyLkNKKkKKFAKDAI  0.552468\n",
            "9                  Xanthomonas_vesicatoria  TVyLkNKKkKLFAKDAI  0.337618\n",
            "10                   Klebsiella_pneumoniae    GVlKLLKKFKKFAKI  1.488182\n",
            "11              Staphylococcus_epidermidis   GVyKLLKKFKKFAKAI  1.383802\n",
            "12                    Candida_parapsilosis  TVyLLLKKFKKFAKDAI   3.32924\n",
            "13                      Micrococcus_luteus  TVyLkNKKkKLFAKDAI  0.960051\n",
            "14                    Enterococcus_faecium      TVKKLFIFFLLKI  2.299216\n",
            "15                    Enterobacter_cloacae    GVlKLLKKFLKFAKI    2.8938\n",
            "16                 Acinetobacter_baumannii      TVlKLFKFFKLKI   2.88055\n",
            "17                      Bacillus_anthracis    TVyLkNKKkKLFAKI  2.829751\n",
            "18            Staphylococcus_saprophyticus  TVyLkNKKkKLFAKDAI  0.674839\n",
            "19                       Proteus_mirabilis  TVyLkNKKkKLFAKDAI   3.65534\n",
            "20                        Proteus_vulgaris         TVLKLFIFLL  3.661169\n",
            "21                  Salmonella_typhimurium    TVlKLLKKFKKFAKI  1.165585\n",
            "22                Saccharomyces_cerevisiae    TVlKkDKKFKLFAKI  2.582406\n",
            "23                  Listonella_anguillarum  TVyLkNKKkKLFAKDAI  2.462797\n",
            "24                  Enterobacter_aerogenes    GVlKLLKKFKKFAKI  3.022955\n",
            "25                    Providencia_stuartii  TVyLkNKKkKLFAKDAI  2.838508\n",
            "26                      Candida_tropicalis    GVlKLLKKFLKFAKI   2.27649\n",
            "27                          Candida_krusei  TVlKLLKKQKKFAKDAI   3.16875\n",
            "28                     Salmonella_enterica    TVlKkDKKFKLFAKI  2.608783\n",
            "29                Streptococcus_pneumoniae  TVyLkNKKkKLFAKDAI  0.846362\n",
            "30                         Shigella_sonnei    TVlKLDKKFKLFAKI  0.821834\n",
            "31                   Enterococcus_faecalis     GVKKLFKFFLKAKI   4.14188\n",
            "32                   Neisseria_gonorrhoeae    GVyKLLKKFKKFAKI  1.768542\n",
            "33                Streptococcus_agalactiae           TVLKFIFL  2.987612\n",
            "34                       Malassezia_furfur    TVlKLFKKFKLFAKI  2.174927\n",
            "35             Trichophyton_mentagrophytes     GVlKLLKKFLKAKI  4.147307\n",
            "36                  Salmonella_enteritidis  TVyLkNKKkKLFAKDAI  1.574544\n",
            "37                        Listeria_innocua    TVlLkDKKFKLFAKI  0.904284\n",
            "38                    Shigella_dysenteriae      TVlKLFKFFLLKI  2.616451\n",
            "39                  Streptococcus_pyogenes     GVKKTTKKFLKAKI   1.64672\n",
            "40                   Aspergillus_fumigatus     GVKKTTKKFLKAKI  5.652123\n",
            "41                         Bacillus_cereus    TVlKLDKKFKKFAKI  1.963132\n",
            "42                           Candida_kefyr  TVyLkNKKkKLFAKDAI  1.713886\n",
            "43                      Klebsiella_oxytoca          TVLKTFIFL  4.310383\n",
            "44                 Staphylococcus_simulans    TVyLkNKKkKLFAKI   1.05851\n",
            "45                    Streptococcus_mutans      TVlKLFKFFKLKI   2.79718\n",
            "46                     Serratia_marcescens      TVKKLFIFFLLKI  4.783181\n",
            "47                      Pseudomonas_putida    GVyLLLKKFKKFAKI  1.523568\n",
            "48                 Cryptococcus_neoformans      TVKKLFIFFLLKI  2.124448\n",
            "49                      Vibrio_anguillarum  TVyLkNKKkKLFAKDAI   1.19035\n",
            "50                   Aeromonas_salmonicida     GVKKTFKFFLKAKI   2.97249\n",
            "51                      Fusarium_oxysporum    GVlKLLKKQKKFAKI  1.609457\n",
            "52                       Aspergillus_niger  TVyLkNKKkKLFAKDAI  2.745129\n",
            "53                  Acholeplasma_laidlawii     GVKKLLKKFLKAKI  1.859757\n",
            "54                       Neurospora_crassa    GVlKLLKKQLKFAKI  1.692621\n",
            "55                       Fusarium_culmorum    GVlKLLKKFKKFAKI  1.225928\n",
            "56                     Bacillus_megaterium  TVyLkNKKkKLFAKDAI  0.567806\n",
            "57                 Xanthomonas_maltophilia   TVyLkNKKkKKFAKAI  1.148269\n",
            "58                 Clostridium_perfringens  TVyLkNKKkKKFAKDAI  0.983756\n",
            "59                 Propionibacterium_acnes  TVyLkNKKkKLFAKDAI  0.500446\n",
            "60                    Bacillus_dysenteriae    TVlKLFKKFKLFAKI  1.830979\n",
            "61                      Lactococcus_lactis    TVyLkNKKkKLFAKI  1.426977\n",
            "62                       Listeria_ivanovii      TVlKLFIFFLLKI  2.561527\n",
            "63                  Trichoderma_asperellum         TVKKTFIFLL  5.079376\n",
            "64                         Fusarium_solani   TVyLkNKKkKLFAKAI  1.748408\n",
            "65                      Erwinia_carotovora  TVyLkNKKkKLFAKDAI  0.759284\n",
            "66                  Xanthomonas_campestris    GVlKLLKKFKKFAKI  1.716462\n",
            "67                      Rhizoctonia_solani  TVyLkNKKkKLFAKDAI  1.437512\n",
            "68              Mycobacterium_tuberculosis     GVKKTTKKFLKAKI   4.89995\n",
            "69                      Streptococcus_suis         TVKKLFIFLL  3.522427\n",
            "70                  Staphylococcus_capitis    TVlKLFKKFKLFAKI   1.76336\n",
            "71             Yersinia_pseudotuberculosis    TVlLkDKKkKLFAKI  1.215398\n",
            "72                     Acinetobacter_junii  TVyLLLKKQKKFAKDAI  2.477909\n",
            "73               Schizosaccharomyces_pombe  TVyLkNKKkKLFAKDAI  1.145318\n",
            "74                       Erwinia_amylovora  TVyLkNKKkKKFAKDAI  1.549556\n",
            "75                  Xanthomonas_axonopodis  TVyLkNKKkKLFAKDAI   1.30325\n",
            "76                    Burkholderia_cepacia  TVyLkNKKkKLFAKDAI  6.490147\n",
            "77                 Acinetobacter_johnsonii  TVyLkNKKkKLFAKDAI   0.74775\n",
            "78                  Listeria_monocytogenes  TVyLkNKKkKLFAKDAI  0.483879\n",
            "79                     Bacillus_pyocyaneus     GVKKTTKKFLKAKI  2.795117\n",
            "80                Carnobacterium_divergens  TVyLkNKKkKLFAKDAI  0.547123\n",
            "81                     Enterococcus_durans  TVyLkNKKkKLFAKDAI  1.242443\n",
            "82                      Listeria_seeligeri    TVlKLDKKFKLFAKI  1.961014\n",
            "83           Carnobacterium_maltaromaticum  TVyLkNKKkKKFAKDAI   0.50256\n",
            "84                         Pythium_ultimum     GVKKLLKKFLKAKI  4.194877\n",
            "85                        Botrytis_cinerea   GVyKLLKKFKKFAKAI  3.466839\n",
            "86                Sclerotinia_sclerotiorum  TVyLkNKKkKLFAKDAI  2.636991\n",
            "87                    Aeromonas_hydrophila  TVyLkNKKkKLFAKDAI  1.022958\n",
            "88                      Bacillus_coagulans           TVLKFIFL  2.459812\n",
            "89                         Vibrio_cholerae    GVlKLLKKFKKFAKI  2.332777\n",
            "90                    Streptococcus_lactis  TVyLkNKKkKKFAKDAI  1.699563\n",
            "91                 Pseudomonas_maltophilia  TVyLkNKKkKLFAKDAI  0.768163\n",
            "92                     Aerococcus_viridans    TVyLkNKKkKLFAKI  0.684113\n",
            "93                             Stemphylium  TVyLkNKKkKLFAKDAI  1.669561\n",
            "94      Corynebacterium_pseudotuberculosis    TVlKLFKKFKLFAKI  4.434212\n",
            "95                   Pasteurella_trehalosi    GVlKLLKKQKKFAKI  2.193869\n",
            "96                   Pasteurella_multocida     TVlKLFKFFKLAKI  2.169726\n",
            "97                  Mannheimia_haemolytica    TVyLkNKKkKLFAKI  0.740942\n",
            "98               Micrococcus_lysodeikticus     GVKKLLKKFLKAKI  1.419273\n",
            "99            Stenotrophomonas_maltophilia  TVyLkNKKkKLFAKDAI  0.658302\n",
            "100            Acinetobacter_calcoaceticus          TVLKLFIFL  2.596727\n",
            "101                 Bacillus_thuringiensis    GVyLLLKKFKKFAKI  2.552962\n",
            "102              Bordetella_bronchiseptica      TVlKLFKFFLLKI  1.918482\n",
            "103                 Streptococcus_faecalis  TVyLkNKKkKLFAKDAI    0.9424\n",
            "104                      Bacillus_globigii    GVlKLLKKFKKFAKI  2.356116\n",
            "105                 Bacillus_licheniformis  GVlKLLKKQKKFAKDAI  3.248677\n",
            "106                      Shigella_flexneri   GVlKLLKKQKKFAKAI  1.446971\n",
            "107                        Yersinia_pestis         TVLKLFIFLL  6.512583\n",
            "108                 Francisella_tularensis  TVyLkNKKkKLFAKDAI  3.619432\n",
            "109                  Clostridium_difficile  TVyLkNKKkKLFAKDAI  0.789207\n",
            "110                  Penicillium_digitatum    GVlKLLKKFKKFAKI  2.295741\n",
            "111                     Rhizobium_meliloti  TVyLkNKKkKLFAKDAI    0.4293\n",
            "112                     Salmonella_newport  TVyLkNKKkKLFAKDAI  0.222567\n",
            "113             Corynebacterium_insidiosum  TVyLkNKKkKLFAKDAI  3.487756\n",
            "114                 Ureaplasma_urealyticum    TVyLkNKKkKLFAKI  6.398161\n",
            "115                       Candida_glabrata    TVyLkNKKkKLFAKI  5.439491\n",
            "116                   Mycoplasma_hyorhinis  TVyLkNKKkKLFAKDAI  1.575826\n",
            "117                 Sinorhizobium_meliloti  TVyLkNKKkKLFAKDAI  1.577198\n",
            "118                Fusobacterium_nucleatum    GVlKLLKKQKKFAKI   1.70339\n",
            "119             Corynebacterium_glutamicum         TVLKLFIFLL  1.258555\n",
            "120                  Mycoplasma_fermentans    TVlLkDKKkKLFAKI   3.47141\n",
            "121                     Leuconostoc_lactis       TVKKLFIFFLLI  2.233036\n",
            "122                   Streptococcus_uberis     GVKKLLKKFLKAKI  0.639327\n",
            "123                    Salmonella_pullorum           TVLKFIFL  2.164181\n",
            "124                     Beauveria_bassiana   GVlKLLKKQKKFAKAI  4.180784\n",
            "125             Tetragenococcus_halophilus    GVlKLLKKQLKFAKI  1.882515\n",
            "126                       Proteus_rettgeri       TVKKLFIFFLLI  3.178344\n",
            "127                     Aspergillus_flavus     GVKKLLKKFLKAKI  5.620685\n",
            "128                   Alcaligenes_faecalis  TVyLkNKKkKLFAKDAI  6.080121\n",
            "129             Achromobacter_xylosoxidans  TVyLLLKKFKKFAKDAI  4.950165\n",
            "130                   Pseudomonas_stutzeri     TVKKLFKFFKLAKI  2.584728\n",
            "131                Pseudomonas_fluorescens    GVlKLLKKQKKFAKI  1.834841\n",
            "132                Streptococcus_sanguinis    TVyLkNKKkKLFAKI  1.041773\n",
            "133                    Streptococcus_mitis    TVlKLDKKFKLFAKI  0.688548\n",
            "134                 Streptococcus_gordonii    GVlKLLKKFKKFAKI  2.185046\n",
            "135            Staphylococcus_haemolyticus    GVyLLLKKFKKFAKI  1.568221\n",
            "136                   Citrobacter_freundii    TVlKLDKKFKLFAKI  1.427011\n",
            "137                   Fusarium_graminearum    TVyLkNKKkKLFAKI  1.338918\n",
            "138               Corynebacterium_jeikeium    TVlKLDKKFKLFAKI  1.220394\n",
            "139                       Bacillus_pumilus  TVyLkNKKkKLFAKDAI  0.615733\n",
            "140                Salmonella_choleraesuis    GVlKLLKKFKKFAKI  2.126383\n",
            "141                 Metarhizium_anisopliae    GVlKLLKKFKKFAKI  3.433111\n",
            "142         Colletotrichum_gloeosporioides  TVyLkNKKkKLFAKDAI  4.252538\n",
            "143                    Helicobacter_pylori    TVlLkNKKkKLFAKI  2.212735\n",
            "144               Pediococcus_acidilactici    TVlLkNKKkKLFAKI  0.874727\n",
            "145                       Aeromonas_caviae  TVyLkNKKkKLFAKDAI  0.930285\n",
            "146                  Nocardia_brasiliensis  TVyLkNKKkKLFAKDAI  2.573872\n",
            "147                      Microsporum_canis  TVyLkNKKkKLFAKDAI  0.882518\n",
            "148                    Trichophyton_rubrum    TVlLkNKKkKLFAKI  4.710318\n",
            "149                Corynebacterium_xerosis      TVlKLFIFFLLKI  0.872485\n",
            "150                         Staphylococcus       TVKKLFIFFLLI  2.215657\n",
            "151                       Salmonella_typhi    TVyLkNKKkKLFAKI  0.836715\n",
            "152                   Mycobacterium_vaccae  TVyLkNKKkKLFAKDAI  7.204556\n",
            "153                   Campylobacter_jejuni  TVyLkNKKkKLFAKDAI  0.637779\n",
            "154                      Vibrio_vulnificus      TVlKLFKFFLLKI  2.933938\n",
            "155                        Bacillus_flexus  TVyLkNKKkKKFAKDAI  2.372118\n",
            "156                Lactobacillus_plantarum    GVlKLLKKFKKFAKI  2.088716\n",
            "157                   Haemophilus_parasuis    GVyKLLKKFKKFAKI  2.524038\n",
            "158                Mycobacterium_smegmatis  TVyLkNKKkKLFAKDAI  0.900641\n",
            "159                    Streptococcus_iniae     TVKKLFKFFKLAKI  4.417206\n",
            "160                   Lactococcus_garvieae  TVyLkNKKkKLFAKDAI  1.058417\n",
            "161                 Streptococcus_sobrinus    TVyLkNKKkKLFAKI  1.139452\n",
            "162                    Streptococcus_bovis    GVlKLLKKFLKFAKI   1.87881\n",
            "163                Pasteurella_haemolytica    TVlKkDKKFKLFAKI  1.747552\n",
            "164              Leuconostoc_mesenteroides          TVLKTFIFL  3.008878\n",
            "165                   Salmonella_paratyphi  TVyLkNKKkKLFAKDAI  1.148591\n",
            "166                       Yersinia_ruckeri     GVlKLLKKFLKAKI  3.106771\n",
            "167              Lactobacillus_acidophilus  TVlLLLKKQKKFAKDAI  1.940313\n",
            "168                    Lactobacillus_casei  TVyLkNKKkKLFAKDAI  2.122414\n",
            "169                Lactobacillus_fermentum  TVyLkNKKkKKFAKDAI  1.282167\n",
            "170                 Actinomyces_naeslundii        TVKKTFIFFLL  2.369183\n",
            "171                 Staphylococcus_xylosus    TVlLkDKKFKLFAKI  0.757209\n",
            "172                           Arthrobacter    GVlKLLKKFLKFAKI  2.861412\n",
            "173                   Aspergillus_nidulans     GVKKLLKKFLKAKI  3.309869\n",
            "174                     Aeromonas_punctata      GVKKTFKFFLKTK  5.345813\n",
            "175                       Spiroplasma_apis    GVlKLLKKFLKFAKI  1.051704\n",
            "176                      Spiroplasma_citri    TVyLLLKKFKKFAKI  2.638892\n",
            "177                  Spiroplasma_floricola  TVyLkNKKkKLFAKDAI    1.4962\n",
            "178                  Cronobacter_sakazakii      TVlKLFKFFLLKI   6.27107\n",
            "179                    Pseudomonas_cepacia    TVyLkNKKkKLFAKI   2.80695\n",
            "180                Enterococcus_gallinarum  TVlKLLKKQKKFAKDAI  1.288094\n",
            "181               Plesiomonas_shigelloides    TVlKkDKKFKLFAKI   2.27391\n",
            "182                     Edwardsiella_tarda  TVyLkNKKkKLFAKDAI  2.074037\n",
            "183                    Salmonella_arizonae    TVyLkNKKkKLFAKI  4.103167\n",
            "184                 Haemophilus_influenzae  TVyLkNKKkKKFAKDAI  1.632612\n",
            "185                    Brucella_melitensis     GVKKLFKKFLKAKI  8.548939\n",
            "186                Vibrio_nigripulchritudo    GVlKLLKKFLKFAKI  3.781686\n",
            "187               Mycoplasma_gallisepticum      TVlKLFKFFLLKI  4.124212\n",
            "188                  Mycoplasma_genitalium           TVLKFIFL  3.593943\n",
            "189                    Mycoplasma_mycoides      TVKKLFIFFLLKI  4.255569\n",
            "190              Peptostreptococcus_micros   GVlKLLKKQKKFAKAI  5.323235\n",
            "191                  Streptococcus_sanguis     GVKKTTKKFLKAKI  3.442559\n",
            "192               Porphyromonas_gingivalis          TVLKTFIFL  4.888929\n",
            "193   Actinobacillus_actinomycetemcomitans    TVlKkDKKFKLFAKI  4.084654\n",
            "194                     Candida_lusitaniae  TVyLkNKKkKLFAKDAI  2.355628\n",
            "195                         Candida_utilis    TVyLkNKKkKLFAKI  1.578147\n",
            "196                 Malassezia_sympodialis  TVyLkNKKkKLFAKDAI   1.76464\n",
            "197                Staphylococcus_carnosus  TVyLkNKKkKLFAKDAI  0.474432\n",
            "198             Streptococcus_dysgalactiae  TVyLkNKKkKLFAKDAI  1.139822\n",
            "199                   Bacteroides_fragilis   GVlKLLKKQKKFAKAI  1.918767\n",
            "200                   Clostridium_septicum   TVyLkNKKkKKFAKAI   2.83854\n",
            "201              Prevotella_melaninogenica    TVlLkDKKFKLFAKI  2.222832\n",
            "202                   Fusobacterium_varium    TVlKLDKKFKLFAKI  6.374848\n",
            "203                    Veillonella_atypica    GVlKLLKKFKKFAKI  1.554662\n",
            "204                    Rothia_mucilaginosa    TVlLkNKKkKLFAKI  1.121867\n",
            "205                    Rothia_dentocariosa    GVlKLLKKFKKFAKI  2.514971\n",
            "206        Staphylococcus_pseudintermedius  TVyLkNKKkKLFAKDAI  1.096833\n",
            "207                    Leishmania_mexicana      TVKKLFIFFLLKI  3.135083\n",
            "208                       Leishmania_major  TVyLkNKKkKLFAKDAI  1.597094\n",
            "209                Lactobacillus_rhamnosus    GVlKLLKKFKKFAKI  1.823565\n",
            "210                     Citrobacter_koseri    TVlLkNKKkKLFAKI  1.205336\n",
            "211               Pseudomonas_solanacearum    GVlKLLKKQKKFAKI   2.89298\n",
            "212                     Sporosarcina_ureae        TVKKLFIFFLL  7.556482\n",
            "213                 Enterobacter_amnigenus     TVKKLFKFFLLAKI  5.094583\n",
            "214                  Burkholderia_stabilis  TVyLkNKKkKLFAKDAI  1.380386\n",
            "215                 Staphylococcus_warneri  TVyLkNKKkKLFAKDAI  0.951958\n",
            "216                     Streptococcus_equi      TVlKLFIFFLLKI  4.338006\n",
            "217              Streptococcus_lutetiensis    TVlKkDKKFKLFAKI  2.294721\n",
            "218                   Streptococcus_oralis    TVyLkNKKkKLFAKI  1.009922\n",
            "219                Streptococcus_anginosus    TVyLkNKKkKLFAKI  0.611335\n",
            "220               Streptococcus_salivarius  TVyLLLKKQKKFAKDAI  3.045907\n",
            "221             Enterococcus_casseliflavus          TVLKLFIFL  1.395523\n",
            "222                   Salmonella_minnesota  TVyLkNKKkKLFAKDAI  2.630568\n",
            "223                      Aeromonas_veronii    TVlLkNKKkKLFAKI   1.48876\n",
            "224               Brevibacterium_stationis    TVlKLDKKFKLFAKI  1.136082\n",
            "225                       Septoria_nodorum  TVyLkNKKkKLFAKDAI  0.851766\n",
            "226            Streptococcus_parasanguinis     GVKKLLKKFLKAKI  1.781703\n",
            "227                Shewanella_putrefaciens     TVKKLFKFFKLAKI  2.201988\n",
            "228                    Lactobacillus_sakei    GVyKLLKKFKKFAKI  0.786858\n",
            "229                     Enterococcus_hirae    GVlKLLKKQKKFAKI  1.491905\n",
            "230                     Bacillus_circulans  TVyLkNKKkKLFAKDAI  0.712051\n",
            "231                 Candida_guilliermondii   TVyLkNKKkKLFAKDI  1.581013\n",
            "232                 Bifidobacterium_longum  TVyLkNKKkKLFAKDAI  1.030167\n",
            "233                  Lactobacillus_reuteri  TVyLkNKKkKLFAKDAI  1.498264\n",
            "234                    Mycobacterium_avium  TVlLLLKKQKKFAKDAI  1.361403\n",
            "235                       Parvimonas_micra      TVlKLFKFFLLKI  4.925168\n",
            "236                  Prevotella_intermedia    GVlKLLKKFKKFAKI  2.380563\n",
            "237                  Staphylococcus_sciuri     GVKKTTKKFLKAKI  1.662071\n",
            "238               Burkholderia_cenocepacia          TVLKTFIFL  8.612524\n",
            "239                       Rhodococcus_equi  TVyLkNKKkKLFAKDAI  0.967232\n",
            "240                     Kocuria_rhizophila    TVlLkDKKkKLFAKI  1.846226\n",
            "241                Pediococcus_pentosaceus  TVyLkNKKkKLFAKDAI  1.128121\n",
            "242               Corynebacterium_striatum  TVyLLLKKFKKFAKDAI  3.435021\n",
            "243                       Bacillus_simplex           TVLKFIFL  2.316234\n",
            "244            Corynebacterium_diphtheriae  TVyLkNKKkKLFAKDAI  1.054834\n",
            "245                       Corynebacterium_     TVlKLFKFFKLAKI  4.756999\n",
            "246                    Morganella_morganii  TVyLkNKKkKLFAKDAI  1.070806\n",
            "247              Filobasidiella_neoformans    TVyLkNKKkKLFAKI  4.306273\n",
            "248                   Salmonella_Paratyphi  TVyLkNKKkKLFAKDAI  1.483485\n",
            "249                Yersinia_enterocolitica  TVyLkNKKkKKFAKDAI   0.72426\n",
            "250                   Verticillium_dahliae  TVyLkNKKkKLFAKDAI  1.402032\n",
            "251                      Rhodotorula_rubra     GVKKTFKFFLKTKI  4.853192\n",
            "252                  Enterobacter_asburiae       TVKKLFIFFLLI  5.638067\n",
            "253                 Haemophilus_Influenzae      TVlKLFKFFKLKI  4.866192\n",
            "254                    Legionella_micdadei    GVyKLLKKFKKFAKI  2.701114\n",
            "255                 Legionella_longbeachae           TVLKFIFL  4.433125\n",
            "256                 Legionella_pneumophila    TVlKLFKKFKLFAKI  4.725131\n",
            "257                Legionella_oakridgensis         TVKKLFIFLL  4.561265\n",
            "258                   Lactobacillus_brevis    GVyKLLKKFKKFAKI   2.15121\n",
            "259             Lactobacillus_coryniformis   GVyLLLKKFKKFAKAI  2.005804\n",
            "260             Lactobacillus_alimentarius    GVlKLLKKQKKFAKI  1.007578\n",
            "261                   Enterococcus_mundtii  TVyLkNKKkKKFAKDAI  0.312566\n",
            "262           Flavobacterium_psychrophilum  TVyLkNKKkKLFAKDAI  8.303917\n",
            "263                Photobacterium_damselae           TVLKFIFL  2.229149\n",
            "264                      Zymomonas_mobilis      TVlKLFKFFKLKI  3.154354\n",
            "265       Propionibacterium_freudenreichii  TVyLkNKKkKKFAKDAI  0.306255\n",
            "266      Propionibacterium_acidipropionici  TVyLkNKKkKLFAKDAI  0.353156\n",
            "267                   Klebsiella_aerogenes      TVKKLFIFFLLKI  3.767917\n",
            "268                      Serratia_rubidaea  TVyLkNKKkKLFAKDAI  1.085641\n",
            "269             Bacillus_amyloliquefaciens     TVKKLFKFFKLAKI  4.652776\n",
            "270                    Veillonella_parvula          TVLKTFIFL   3.16125\n",
            "271           Bacteroides_thetaiotaomicron  TVyLkNKKkKLFAKDAI  0.773813\n",
            "272                     Aspergillus_oryzae          TVLKTFIFL  3.536839\n",
            "273                    Candida_viswanathii    GVyKLLKKFKKFAKI   2.28826\n",
            "274                   Bordetella_pertussis         TVLKLFIFLL  2.376308\n",
            "275                    Mycobacterium_bovis           TVLKFIFL  2.619035\n",
            "276                   Sporothrix_schenckii    TVlKLDKKFKLFAKI  3.679724\n",
            "277               Carnobacterium_piscicola     GVKKLFKKFLKAKI  3.569239\n",
            "278                 Clostridium_sporogenes        TVKKLFIFFLL  2.574889\n",
            "279              Clostridium_tyrobutyricum    GVyKLLKKFKKFAKI  1.718101\n",
            "280                  Staphylococcus_cohnii     GVKKLLKKFLKAKI   2.24519\n",
            "281                 Staphylococcus_hominis     GVKKTFKKFLKAKI  2.050352\n",
            "282                     Candida_lipolytica  TVyLkNKKkKLFAKDAI  1.286327\n",
            "283                      Histophilus_somni    GVlKLLKKFKKFAKI  2.243574\n",
            "284                          Sarcina_lutea    TVlKLDKKFKLFAKI   2.10594\n",
            "285                 Neisseria_meningitidis      TVlKLFKFFLLKI  5.371241\n",
            "286                   Fusarium_moniliforme  TVyLkNKKkKLFAKDAI  2.249973\n",
            "287                      Salmonella_anatum    TVlKLFKKFKLFAKI    4.4361\n",
            "288                            Listonella_  TVyLkNKKkKLFAKDAI  0.968466\n",
            "289                    Listeria_welshimeri    TVlKLDKKFKLFAKI  4.965358\n",
            "290            Bacillus_stearothermophilus  TVyLkNKKkKLFAKDAI  1.455519\n",
            "291                Colletotrichum_acutatum    GVlKLLKKFLKFAKI   2.20316\n",
            "292                      Weissella_cibaria  TVyLkNKKkKKFAKDAI  2.210332\n",
            "293            Weissella_paramesenteroides    GVlKLLKKQLKFAKI  1.121143\n",
            "294         Geobacillus_stearothermophilus         TVKKLFIFLL  4.066413\n",
            "295                 Paenibacillus_polymyxa     GVKKLLKKFLKAKI  2.280764\n",
            "296                  Moraxella_catarrhalis          TVLKLFIFL  2.450249\n",
            "297                   Paenibacillus_larvae    TVlLkDKKFKLFAKI  1.808122\n",
            "298              Lactococcus_raffinolactis  TVyLkNKKkKLFAKDAI  1.332986\n",
            "299                 Listeria_denitrificans    GVlKLLKKFKKFAKI  4.168992\n",
            "300                Mycobacterium_fortuitum       TVKKLFIFFLLI  5.432986\n",
            "301                     Vibrio_salmonicida    GVlKLLKKFLKFAKI  4.170491\n",
            "302                  Streptococcus_equinus     GVKKTTKKFLKAKI  2.877721\n",
            "303  Aggregatibacter_actinomycetemcomitans  TVyLkNKKkKLFAKDAI  2.057552\n",
            "304                Micrococcus_scarlatinae           TVLKFIFL   4.13591\n",
            "305                    Haemophilus_ducreyi   GVlKLLKKQKKFAKAI  3.391674\n",
            "306       Chryseobacterium_meningosepticum     GVKKLLKKFLKAKI  5.206566\n",
            "307                  Edwardsiella_ictaluri    TVyLkNKKkKLFAKI  3.389896\n",
            "308               Citrobacter_amalonaticus  TVyLLLKKFKKFAKDAI  3.000379\n",
            "309                     Xanthomonas_oryzae      TVlKLFIFFLLKI  3.732882\n",
            "310              Streptococcus_intermedius  TVyLkNKKkKKFAKDAI  0.631227\n",
            "311                           Bacillus_sp.  TVyLkNKKkKLFAKDAI   1.50751\n",
            "312                 Lactobacillus_curvatus         TVLKLFIFLL  1.210359\n",
            "313             Klebsiella_ornithinolytica    GVlKLLKKFLKFAKI   2.22061\n",
            "314            Zygosaccharomyces_marxianus        TVKKLFIFFLL  4.254131\n",
            "315                 Penicillium_roqueforti          TVLKTFIFL  4.033016\n",
            "316                Phytophthora_nicotianae  TVyLkNKKkKLFAKDAI  1.016896\n",
            "317           Micrococcus_nishinomiyaensis  TVyLkNKKkKLFAKDAI  0.877148\n",
            "318              Streptococcus_equisimilis      GVKKTFKFFLKTK  2.694033\n",
            "319                     Klebsiella_ozaenae        TVKKLFIFFLL  3.912912\n",
            "320                 Ralstonia_solanacearum    GVlKLLKKFLKFAKI   2.70038\n",
            "321           Corynebacterium_michiganense     GVKKLFKKFLKAKI    2.8016\n",
            "322                Cytophaga_drobachiensis  TVyLkNKKkKLFAKDAI  2.330757\n",
            "323                Pseudomonas_acidovorans      TVlKLFKFFLLKI  1.947692\n",
            "324                    Bacillus_sphaericus    TVyLkNKKkKLFAKI  1.447208\n"
          ]
        }
      ]
    },
    {
      "cell_type": "code",
      "source": [
        "display_table.to_csv(\"bacteria2peptide.csv\")"
      ],
      "metadata": {
        "id": "2J_ipaUVLBtu"
      },
      "execution_count": 19,
      "outputs": []
    },
    {
      "cell_type": "code",
      "source": [
        "generator.save(\"bact2seq_generator.keras\")"
      ],
      "metadata": {
        "id": "8Cf21xMGK1Ch"
      },
      "execution_count": 20,
      "outputs": []
    }
  ]
}