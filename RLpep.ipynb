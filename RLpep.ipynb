{
  "nbformat": 4,
  "nbformat_minor": 0,
  "metadata": {
    "colab": {
      "provenance": []
    },
    "kernelspec": {
      "name": "python3",
      "display_name": "Python 3"
    },
    "language_info": {
      "name": "python"
    }
  },
  "cells": [
    {
      "cell_type": "code",
      "execution_count": 1,
      "metadata": {
        "colab": {
          "base_uri": "https://localhost:8080/"
        },
        "id": "mAAJPccHgcbA",
        "outputId": "395ecb2e-9fc6-43db-8136-fbae777278d3"
      },
      "outputs": [
        {
          "output_type": "stream",
          "name": "stdout",
          "text": [
            "Cloning into 'AMPlify'...\n",
            "remote: Enumerating objects: 247, done.\u001b[K\n",
            "remote: Counting objects: 100% (60/60), done.\u001b[K\n",
            "remote: Compressing objects: 100% (46/46), done.\u001b[K\n",
            "remote: Total 247 (delta 23), reused 46 (delta 14), pack-reused 187\u001b[K\n",
            "Receiving objects: 100% (247/247), 274.23 MiB | 20.80 MiB/s, done.\n",
            "Resolving deltas: 100% (103/103), done.\n",
            "Updating files: 100% (31/31), done.\n"
          ]
        }
      ],
      "source": [
        "!git clone https://github.com/bcgsc/AMPlify.git\n",
        "import tensorflow as tf\n",
        "import numpy as np\n",
        "import pandas as pd\n",
        "pip install Bio\n",
        "!cp -r AMPlify/src/* `pwd`\n",
        "import AMPlify as ActivityPredictor"
      ]
    },
    {
      "cell_type": "code",
      "source": [
        "anti_model = ActivityPredictor.build_amplify()\n",
        "anti_model.load_weights(\"AMPlify/models/balanced/AMPlify_balanced_model_weights_1.h5\", by_name=True)"
      ],
      "metadata": {
        "colab": {
          "base_uri": "https://localhost:8080/"
        },
        "id": "nbiS9NojlGmS",
        "outputId": "640ea447-5e32-4d87-a316-d63be4642805"
      },
      "execution_count": 7,
      "outputs": [
        {
          "output_type": "stream",
          "name": "stderr",
          "text": [
            "/usr/local/lib/python3.10/dist-packages/keras/src/initializers/initializers.py:120: UserWarning: The initializer GlorotNormal is unseeded and being called multiple times, which will return identical values each time (even if the initializer is unseeded). Please update your code to provide a seed to the initializer, or avoid using the same initializer instance more than once.\n",
            "  warnings.warn(\n",
            "/usr/local/lib/python3.10/dist-packages/keras/src/initializers/initializers.py:120: UserWarning: The initializer GlorotUniform is unseeded and being called multiple times, which will return identical values each time (even if the initializer is unseeded). Please update your code to provide a seed to the initializer, or avoid using the same initializer instance more than once.\n",
            "  warnings.warn(\n"
          ]
        }
      ]
    },
    {
      "cell_type": "code",
      "source": [
        "class GRUDecoder(tf.keras.Model):\n",
        "    def __init__(self, hidden_dim):\n",
        "        super().__init__()\n",
        "        self.RepeatVector = tf.keras.layers.RepeatVector(200, name=\"RepeatVector\")\n",
        "        self.GRU = tf.keras.layers.GRU(hidden_dim, name=\"GRU_0\", return_sequences=True)\n",
        "        self.dense = tf.keras.layers.Dense(20, activation=\"softmax\", name=\"Output\")\n",
        "\n",
        "    def call(self, inputs):\n",
        "        x = self.RepeatVector(inputs)\n",
        "        x = self.GRU(x)\n",
        "        x = self.dense(x)\n",
        "        return x\n",
        "\n",
        "class Agent(tf.keras.Model):\n",
        "    def __init__(self):\n",
        "        super().__init__()\n",
        "        self.decoder = GRUDecoder(hidden_dim=10)\n",
        "        self.encoder = tf.keras.layers.Dense(20, activation=\"relu\", name=\"encoder\")\n",
        "\n",
        "    def call(self, state):\n",
        "        x = self.encoder(state)\n",
        "        return self.decoder(x)\n",
        "\n",
        "def compute_reward(generated_sequence):\n",
        "    pred = anti_model(generated_sequence)\n",
        "    return pred\n",
        "\n",
        "def train_step(agent, optimizer, state):\n",
        "    with tf.GradientTape() as tape:\n",
        "        generated_sequence = agent(state)\n",
        "        reward = compute_reward(generated_sequence)\n",
        "        loss = 1-reward  # We want to maximize the reward\n",
        "\n",
        "    gradients = tape.gradient(loss, agent.trainable_variables)\n",
        "    optimizer.apply_gradients(zip(gradients, agent.trainable_variables))\n",
        "\n",
        "agent = Agent()\n",
        "optimizer = tf.keras.optimizers.Adam()"
      ],
      "metadata": {
        "id": "NU5x-cPVhX3W"
      },
      "execution_count": 49,
      "outputs": []
    },
    {
      "cell_type": "code",
      "source": [
        "# Assume some initial state for the dialogue\n",
        "initial_state = np.array([[1,0,0,0,0]])\n",
        "\n",
        "# Train the agent\n",
        "for epoch in range(10):  # Assume 10 training epochs\n",
        "    train_step(agent, optimizer, initial_state)"
      ],
      "metadata": {
        "id": "RIhT0t_Rwiu6"
      },
      "execution_count": 78,
      "outputs": []
    },
    {
      "cell_type": "code",
      "source": [
        "pred = agent(initial_state)"
      ],
      "metadata": {
        "id": "A0n3Vtaaz3Yf"
      },
      "execution_count": 52,
      "outputs": []
    },
    {
      "cell_type": "code",
      "source": [
        "anti_model(pred)"
      ],
      "metadata": {
        "colab": {
          "base_uri": "https://localhost:8080/"
        },
        "id": "sKJ8qCfL0hyC",
        "outputId": "788b163a-9f68-43e2-f0e6-33412c9e4fe7"
      },
      "execution_count": 77,
      "outputs": [
        {
          "output_type": "execute_result",
          "data": {
            "text/plain": [
              "<tf.Tensor: shape=(1, 1), dtype=float32, numpy=array([[0.99883604]], dtype=float32)>"
            ]
          },
          "metadata": {},
          "execution_count": 77
        }
      ]
    },
    {
      "cell_type": "code",
      "source": [
        "from sklearn.preprocessing import LabelEncoder"
      ],
      "metadata": {
        "id": "CBsgJpTd2dUp"
      },
      "execution_count": 70,
      "outputs": []
    },
    {
      "cell_type": "code",
      "source": [
        "aa = ['A','C','D','E','F','G','H','I','K','L','M','N','P','Q','R','S','T','V','W','Y']\n",
        "labelencoder = LabelEncoder.fit(aa)"
      ],
      "metadata": {
        "colab": {
          "base_uri": "https://localhost:8080/",
          "height": 214
        },
        "id": "kejosTbp2eNI",
        "outputId": "bbb45a44-bddc-4206-963a-0ce3b9fb16e5"
      },
      "execution_count": 72,
      "outputs": [
        {
          "output_type": "error",
          "ename": "TypeError",
          "evalue": "ignored",
          "traceback": [
            "\u001b[0;31m---------------------------------------------------------------------------\u001b[0m",
            "\u001b[0;31mTypeError\u001b[0m                                 Traceback (most recent call last)",
            "\u001b[0;32m<ipython-input-72-da3288b9a4c9>\u001b[0m in \u001b[0;36m<cell line: 3>\u001b[0;34m()\u001b[0m\n\u001b[1;32m      1\u001b[0m \u001b[0maa\u001b[0m \u001b[0;34m=\u001b[0m \u001b[0;34m[\u001b[0m\u001b[0;34m\"A\"\u001b[0m\u001b[0;34m,\u001b[0m\u001b[0;34m\"C\"\u001b[0m\u001b[0;34m]\u001b[0m\u001b[0;34m\u001b[0m\u001b[0;34m\u001b[0m\u001b[0m\n\u001b[1;32m      2\u001b[0m \u001b[0;31m# ,'D','E','F','G','H','I','K','L','M','N','P','Q','R','S','T','V','W','Y']\u001b[0m\u001b[0;34m\u001b[0m\u001b[0;34m\u001b[0m\u001b[0m\n\u001b[0;32m----> 3\u001b[0;31m \u001b[0mlabelencoder\u001b[0m \u001b[0;34m=\u001b[0m \u001b[0mLabelEncoder\u001b[0m\u001b[0;34m.\u001b[0m\u001b[0mfit\u001b[0m\u001b[0;34m(\u001b[0m\u001b[0maa\u001b[0m\u001b[0;34m)\u001b[0m\u001b[0;34m\u001b[0m\u001b[0;34m\u001b[0m\u001b[0m\n\u001b[0m",
            "\u001b[0;31mTypeError\u001b[0m: LabelEncoder.fit() missing 1 required positional argument: 'y'"
          ]
        }
      ]
    },
    {
      "cell_type": "code",
      "source": [
        "tf.math.argmax(pred, axis=2)[0]"
      ],
      "metadata": {
        "colab": {
          "base_uri": "https://localhost:8080/"
        },
        "id": "I8DHhC6G0B-3",
        "outputId": "26d4322d-b56a-468f-e873-f3a1f2bacc09"
      },
      "execution_count": 79,
      "outputs": [
        {
          "output_type": "execute_result",
          "data": {
            "text/plain": [
              "<tf.Tensor: shape=(200,), dtype=int64, numpy=\n",
              "array([18, 18, 18, 18,  7,  7,  7,  7,  7,  7,  7,  7,  7,  7,  7,  7,  7,\n",
              "        7,  7,  7,  7,  7,  7,  7,  7,  7,  7,  7,  7,  7,  7,  7,  7,  7,\n",
              "        7,  7,  7,  7,  7,  7,  7,  7,  7,  7,  7,  7,  7,  7,  7,  7,  7,\n",
              "        7,  7,  7,  7,  7,  7,  7,  7,  7,  7,  7,  7,  7,  7,  7,  7,  7,\n",
              "        7,  7,  7,  7,  7,  7,  7,  7,  7,  7,  7,  7,  7,  7,  7,  7,  7,\n",
              "        7,  7,  7,  7,  7,  7,  7,  7,  7,  7,  7,  7,  7,  7,  7,  7,  7,\n",
              "        7,  7,  7,  7,  7,  7,  7,  7,  7,  7,  7,  7,  7,  7,  7,  7,  7,\n",
              "        7,  7,  7,  7,  7,  7,  7,  7,  7,  7,  7,  7,  7,  7,  7,  7,  7,\n",
              "        7,  7,  7,  7,  7,  7,  7,  7,  7,  7,  7,  7,  7,  7,  7,  7,  7,\n",
              "        7,  7,  7,  7,  7,  7,  7,  7,  7,  7,  7,  7,  7,  7,  7,  7,  7,\n",
              "        7,  7,  7,  7,  7,  7,  7,  7,  7,  7,  7,  7,  7,  7,  7,  7,  7,\n",
              "        7,  7,  7,  7,  7,  7,  7,  7,  7,  7,  7,  7,  7])>"
            ]
          },
          "metadata": {},
          "execution_count": 79
        }
      ]
    },
    {
      "cell_type": "code",
      "source": [
        "aa = ['A','C','D','E','F','G','H','I','K','L','M','N','P','Q','R','S','T','V','W','Y']"
      ],
      "metadata": {
        "id": "Jp75-D1x60YP"
      },
      "execution_count": 74,
      "outputs": []
    },
    {
      "cell_type": "code",
      "source": [
        "aa[7]"
      ],
      "metadata": {
        "colab": {
          "base_uri": "https://localhost:8080/",
          "height": 37
        },
        "id": "v-Ua0NLG656k",
        "outputId": "ca8ba397-9533-40ba-f9e3-cd1f3e24147f"
      },
      "execution_count": 76,
      "outputs": [
        {
          "output_type": "execute_result",
          "data": {
            "text/plain": [
              "'I'"
            ],
            "application/vnd.google.colaboratory.intrinsic+json": {
              "type": "string"
            }
          },
          "metadata": {},
          "execution_count": 76
        }
      ]
    }
  ]
}