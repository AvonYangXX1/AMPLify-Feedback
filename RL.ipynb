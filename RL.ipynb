{
  "nbformat": 4,
  "nbformat_minor": 0,
  "metadata": {
    "colab": {
      "provenance": [],
      "gpuType": "T4"
    },
    "kernelspec": {
      "name": "python3",
      "display_name": "Python 3"
    },
    "language_info": {
      "name": "python"
    },
    "accelerator": "GPU"
  },
  "cells": [
    {
      "cell_type": "code",
      "execution_count": 80,
      "metadata": {
        "id": "mAAJPccHgcbA"
      },
      "outputs": [],
      "source": [
        "import tensorflow as tf\n",
        "import numpy as np\n",
        "import pandas as pd\n",
        "import pickle"
      ]
    },
    {
      "cell_type": "code",
      "source": [
        "evaluator = tf.keras.models.load_model(\"drive/MyDrive/MIT687/MICPredictor.h5\",\n",
        "                                       custom_objects={\"UsefulFraction\":UsefulFraction()})\n",
        "aa_vocal = np.load(\"drive/MyDrive/MIT687/SeqTV_vocal.npy\")\n",
        "labelencoder = tf.keras.layers.StringLookup(vocabulary=aa_vocal[1:], invert=True, oov_token='')"
      ],
      "metadata": {
        "id": "nbiS9NojlGmS"
      },
      "execution_count": 8,
      "outputs": []
    },
    {
      "cell_type": "code",
      "source": [
        "class UsefulFraction(tf.keras.metrics.Metric):\n",
        "    def __init__(self, threshold=1.0, name='UsefulFraction', **kwargs):\n",
        "        super(UsefulFraction, self).__init__(name=name, **kwargs)\n",
        "        self.threshold = threshold\n",
        "        self.total_count = self.add_weight(name='total_count', initializer='zeros')\n",
        "        self.within_threshold_count = self.add_weight(name='within_threshold_count',\n",
        "                                                      initializer='zeros')\n",
        "\n",
        "    def update_state(self, y_true, y_pred, sample_weight=None):\n",
        "        error = tf.abs(y_true - y_pred)\n",
        "        within_threshold = tf.cast(tf.less(error, self.threshold), tf.float32)\n",
        "        self.total_count.assign_add(tf.reduce_sum(tf.ones_like(error)))\n",
        "        self.within_threshold_count.assign_add(tf.reduce_sum(within_threshold))\n",
        "\n",
        "    def result(self):\n",
        "        return self.within_threshold_count / self.total_count\n",
        "\n",
        "    def reset_states(self):\n",
        "        self.total_count.assign(0)\n",
        "        self.within_threshold_count.assign(0)\n",
        "\n",
        "class Evaluator(tf.keras.losses.Loss):\n",
        "    def __init__(self):\n",
        "        super().__init__()\n",
        "        self.loss=evaluator\n",
        "\n",
        "    def call(self, y_true, y_pred):\n",
        "        loss0 = self.loss([y_pred, y_true])\n",
        "        return loss0"
      ],
      "metadata": {
        "id": "G2z4xMCU4pRZ"
      },
      "execution_count": 65,
      "outputs": []
    },
    {
      "cell_type": "code",
      "source": [
        "def create_model():\n",
        "    inputs = tf.keras.layers.Input((326,),name=\"StateInput\")\n",
        "    x = tf.keras.layers.Dense(512, activation=\"relu\", name=\"Dense_0\")(inputs)\n",
        "    x = tf.keras.layers.Dense(190, activation=\"relu\", name=\"Dense_1\")(x)\n",
        "    x = tf.keras.layers.Reshape((190, 1), name=\"Reshape\")(x)\n",
        "    x = tf.keras.layers.LSTM(256, return_sequences=True, name=\"GRU_0\")(x)\n",
        "    x = tf.keras.layers.LSTM(256, return_sequences=True, name=\"GRU_1\")(x)\n",
        "    x = tf.keras.layers.Dense(256, activation=\"relu\", name=\"Dense_2\")(x)\n",
        "    x = tf.keras.layers.Dense(43, activation=\"softmax\", name=\"Output\")(x)\n",
        "    model = tf.keras.models.Model(inputs, x, name=\"Generator\")\n",
        "    model.compile(optimizer=tf.keras.optimizers.Adam(learning_rate=1e-3),\n",
        "                  loss=Evaluator())\n",
        "    return model"
      ],
      "metadata": {
        "id": "O58zPWfmB_CZ"
      },
      "execution_count": 154,
      "outputs": []
    },
    {
      "cell_type": "code",
      "source": [
        "model = create_model()\n",
        "for epoch in range(10):\n",
        "  np.random.seed(8701)\n",
        "  zeros = np.zeros(326)\n",
        "  states = []\n",
        "  for i in range(10240):\n",
        "      state = np.zeros(326)\n",
        "      state[np.random.randint(0, 326)]=1\n",
        "      states.append([state])\n",
        "  states = np.concatenate(states, axis=0)\n",
        "  model.fit(states, states, epochs=1, batch_size=32)"
      ],
      "metadata": {
        "id": "RIhT0t_Rwiu6",
        "colab": {
          "base_uri": "https://localhost:8080/"
        },
        "outputId": "20ca3172-d051-4efc-a407-5257766e862c"
      },
      "execution_count": 176,
      "outputs": [
        {
          "output_type": "stream",
          "name": "stdout",
          "text": [
            "320/320 [==============================] - 13s 26ms/step - loss: 4.2149\n",
            "320/320 [==============================] - 8s 24ms/step - loss: 4.2149\n",
            "320/320 [==============================] - 8s 25ms/step - loss: 4.2149\n",
            "320/320 [==============================] - 10s 32ms/step - loss: 4.2149\n",
            "320/320 [==============================] - 8s 25ms/step - loss: 4.2149\n",
            "320/320 [==============================] - 8s 25ms/step - loss: 4.2149\n",
            "320/320 [==============================] - 8s 25ms/step - loss: 4.2149\n",
            "320/320 [==============================] - 8s 24ms/step - loss: 4.2149\n",
            "320/320 [==============================] - 8s 24ms/step - loss: 4.2149\n",
            "320/320 [==============================] - 8s 24ms/step - loss: 4.2149\n"
          ]
        }
      ]
    },
    {
      "cell_type": "code",
      "source": [
        "pred = model.predict(states[0:1])\n",
        "labelencoder(tf.math.argmax(pred, axis=2)).numpy().astype('str')"
      ],
      "metadata": {
        "colab": {
          "base_uri": "https://localhost:8080/"
        },
        "id": "I8DHhC6G0B-3",
        "outputId": "4061db25-a453-47fe-e7e5-2a9b1e8ba262"
      },
      "execution_count": 177,
      "outputs": [
        {
          "output_type": "stream",
          "name": "stdout",
          "text": [
            "1/1 [==============================] - 1s 1s/step\n"
          ]
        },
        {
          "output_type": "execute_result",
          "data": {
            "text/plain": [
              "array([['s', 's', 's', 's', 's', 's', 's', 's', 's', 's', 'L', 's', 's',\n",
              "        's', 's', 's', 's', 's', 's', 's', 's', 's', 's', 'L', 's', 'k',\n",
              "        'L', 'k', 'k', 'k', 'k', 'k', 'k', 'k', 'k', 'k', 's', 's', 's',\n",
              "        's', 's', 'L', 'k', 'k', 'k', 'k', 'k', 'k', 'k', 'k', 'k', 'L',\n",
              "        'k', 'k', 'k', 'k', 'k', 'k', 'k', 'k', 'k', 'k', 'k', 'k', 'L',\n",
              "        'k', 'k', 'k', 'k', 'k', 'k', 'k', 'k', 'L', 'k', 'k', 'k', 'k',\n",
              "        'k', 'k', 'k', 'k', 'k', 'k', 'k', 'k', 's', 's', 's', 's', 's',\n",
              "        's', 'L', 's', 's', 's', 'L', 'L', 'L', 'k', 'k', 'k', 'k', 'k',\n",
              "        'k', 'k', 'k', 'k', 'k', 'k', 'k', 'k', 'L', 'k', 'k', 'k', 'k',\n",
              "        'k', 'k', 'k', 'k', 'k', 'k', 'k', 'k', 's', 's', 's', 's', 's',\n",
              "        's', 'L', 'L', 'L', 's', 's', 's', 's', 's', 's', 'L', 'L', 'L',\n",
              "        'L', 'L', 'L', 'k', 'k', 'k', 'k', 'k', 'k', 'k', 'k', 'k', 'k',\n",
              "        'k', 'k', 's', 's', 'L', 'L', 'k', 's', 's', 's', 'L', 'k', 's',\n",
              "        's', 's', 's', 's', 's', 's', 's', 's', 'L', 'L', 'k', 'k', 'k',\n",
              "        'k', 'k', 'k', 'k', 'k', 'k', 'k', 'k']], dtype='<U1')"
            ]
          },
          "metadata": {},
          "execution_count": 177
        }
      ]
    }
  ]
}