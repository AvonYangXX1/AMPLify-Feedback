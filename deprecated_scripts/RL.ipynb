{
 "cells": [
  {
   "cell_type": "code",
   "execution_count": null,
   "metadata": {
    "id": "mAAJPccHgcbA"
   },
   "outputs": [],
   "source": [
    "import tensorflow as tf\n",
    "import numpy as np\n",
    "import pandas as pd\n",
    "import pickle"
   ]
  },
  {
   "cell_type": "code",
   "execution_count": null,
   "metadata": {
    "id": "nbiS9NojlGmS"
   },
   "outputs": [],
   "source": [
    "evaluator = tf.keras.models.load_model(\"drive/MyDrive/MIT687/MICPredictor.h5\",\n",
    "                                       custom_objects={\"UsefulFraction\":UsefulFraction()})\n",
    "aa_vocal = np.load(\"drive/MyDrive/MIT687/SeqTV_vocal.npy\")\n",
    "labelencoder = tf.keras.layers.StringLookup(vocabulary=aa_vocal[1:], invert=True, oov_token='')"
   ]
  },
  {
   "cell_type": "code",
   "execution_count": null,
   "metadata": {
    "id": "G2z4xMCU4pRZ"
   },
   "outputs": [],
   "source": [
    "class UsefulFraction(tf.keras.metrics.Metric):\n",
    "    def __init__(self, threshold=1.0, name='UsefulFraction', **kwargs):\n",
    "        super(UsefulFraction, self).__init__(name=name, **kwargs)\n",
    "        self.threshold = threshold\n",
    "        self.total_count = self.add_weight(name='total_count', initializer='zeros')\n",
    "        self.within_threshold_count = self.add_weight(name='within_threshold_count',\n",
    "                                                      initializer='zeros')\n",
    "\n",
    "    def update_state(self, y_true, y_pred, sample_weight=None):\n",
    "        error = tf.abs(y_true - y_pred)\n",
    "        within_threshold = tf.cast(tf.less(error, self.threshold), tf.float32)\n",
    "        self.total_count.assign_add(tf.reduce_sum(tf.ones_like(error)))\n",
    "        self.within_threshold_count.assign_add(tf.reduce_sum(within_threshold))\n",
    "\n",
    "    def result(self):\n",
    "        return self.within_threshold_count / self.total_count\n",
    "\n",
    "    def reset_states(self):\n",
    "        self.total_count.assign(0)\n",
    "        self.within_threshold_count.assign(0)\n",
    "\n",
    "class Evaluator(tf.keras.losses.Loss):\n",
    "    def __init__(self):\n",
    "        super().__init__()\n",
    "        self.loss=evaluator\n",
    "\n",
    "    def call(self, y_true, y_pred):\n",
    "        loss0 = self.loss([y_pred, y_true])\n",
    "        return loss0"
   ]
  },
  {
   "cell_type": "code",
   "execution_count": null,
   "metadata": {
    "id": "O58zPWfmB_CZ"
   },
   "outputs": [],
   "source": [
    "def create_model():\n",
    "    inputs = tf.keras.layers.Input((326,),name=\"StateInput\")\n",
    "    x = tf.keras.layers.Dense(512, activation=\"relu\", name=\"Dense_0\")(inputs)\n",
    "    x = tf.keras.layers.Dense(190, activation=\"relu\", name=\"Dense_1\")(x)\n",
    "    x = tf.keras.layers.Reshape((190, 1), name=\"Reshape\")(x)\n",
    "    x = tf.keras.layers.LSTM(256, return_sequences=True, name=\"GRU_0\")(x)\n",
    "    x = tf.keras.layers.LSTM(256, return_sequences=True, name=\"GRU_1\")(x)\n",
    "    x = tf.keras.layers.Dense(256, activation=\"relu\", name=\"Dense_2\")(x)\n",
    "    x = tf.keras.layers.Dense(43, activation=\"softmax\", name=\"Output\")(x)\n",
    "    model = tf.keras.models.Model(inputs, x, name=\"Generator\")\n",
    "    model.compile(optimizer=tf.keras.optimizers.Adam(learning_rate=1e-3),\n",
    "                  loss=Evaluator())\n",
    "    return model"
   ]
  },
  {
   "cell_type": "code",
   "execution_count": null,
   "metadata": {
    "colab": {
     "base_uri": "https://localhost:8080/"
    },
    "id": "RIhT0t_Rwiu6",
    "outputId": "20ca3172-d051-4efc-a407-5257766e862c"
   },
   "outputs": [
    {
     "name": "stdout",
     "output_type": "stream",
     "text": [
      "320/320 [==============================] - 13s 26ms/step - loss: 4.2149\n",
      "320/320 [==============================] - 8s 24ms/step - loss: 4.2149\n",
      "320/320 [==============================] - 8s 25ms/step - loss: 4.2149\n",
      "320/320 [==============================] - 10s 32ms/step - loss: 4.2149\n",
      "320/320 [==============================] - 8s 25ms/step - loss: 4.2149\n",
      "320/320 [==============================] - 8s 25ms/step - loss: 4.2149\n",
      "320/320 [==============================] - 8s 25ms/step - loss: 4.2149\n",
      "320/320 [==============================] - 8s 24ms/step - loss: 4.2149\n",
      "320/320 [==============================] - 8s 24ms/step - loss: 4.2149\n",
      "320/320 [==============================] - 8s 24ms/step - loss: 4.2149\n"
     ]
    }
   ],
   "source": [
    "model = create_model()\n",
    "for epoch in range(10):\n",
    "  np.random.seed(8701)\n",
    "  zeros = np.zeros(326)\n",
    "  states = []\n",
    "  for i in range(10240):\n",
    "      state = np.zeros(326)\n",
    "      state[np.random.randint(0, 326)]=1\n",
    "      states.append([state])\n",
    "  states = np.concatenate(states, axis=0)\n",
    "  model.fit(states, states, epochs=1, batch_size=32)"
   ]
  },
  {
   "cell_type": "code",
   "execution_count": null,
   "metadata": {
    "colab": {
     "base_uri": "https://localhost:8080/"
    },
    "id": "I8DHhC6G0B-3",
    "outputId": "f8d0e391-fb59-4744-84ff-02bd986737a6"
   },
   "outputs": [
    {
     "name": "stdout",
     "output_type": "stream",
     "text": [
      "[[5.0515614]\n",
      " [3.7133615]]\n"
     ]
    },
    {
     "data": {
      "text/plain": [
       "['ssssssssssLssssssssssssLskLkkkkkkkkksssssLkkkkkkkkkLkkkkkkkkkkkkLkkkkkkkkLkkkkkkkkkkkkssssssLsssLLLkkkkkkkkkkkkkLkkkkkkkkkkkkssssssLLLssssssLLLLLLkkkkkkkkkkkkssLLksssLksssssssssLLkkkkkkkkkkk',\n",
       " 'ssssssssssssssssssssssssssLsssssssssssLLLLkkkkkkkkkkkkkkkkkkkkkkkssssLLLLLkkkssssssssssLLsssssskkLLLLkkkkkkkkkkkkkkkkkkkkkssssssLLsskssssLLLLLkkkkkkkkkkkkkkkkLLLLLkssssLLLksskssssssskkss']"
      ]
     },
     "execution_count": 181,
     "metadata": {},
     "output_type": "execute_result"
    }
   ],
   "source": [
    "pred = model.predict(states[0:2], verbose=0)\n",
    "print(evaluator.predict([pred, states[0:2]], verbose=0))\n",
    "chars_array = labelencoder(tf.math.argmax(pred, axis=2)).numpy().astype('str')\n",
    "[\"\".join(chars) for chars in chars_array]"
   ]
  }
 ],
 "metadata": {
  "accelerator": "GPU",
  "colab": {
   "gpuType": "T4",
   "provenance": []
  },
  "kernelspec": {
   "display_name": "Python 3",
   "language": "python",
   "name": "python3"
  },
  "language_info": {
   "codemirror_mode": {
    "name": "ipython",
    "version": 3
   },
   "file_extension": ".py",
   "mimetype": "text/x-python",
   "name": "python",
   "nbconvert_exporter": "python",
   "pygments_lexer": "ipython3",
   "version": "3.8.5"
  }
 },
 "nbformat": 4,
 "nbformat_minor": 1
}
