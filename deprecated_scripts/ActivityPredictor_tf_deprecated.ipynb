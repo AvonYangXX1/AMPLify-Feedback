{
  "nbformat": 4,
  "nbformat_minor": 0,
  "metadata": {
    "colab": {
      "provenance": [],
      "gpuType": "T4"
    },
    "kernelspec": {
      "name": "python3",
      "display_name": "Python 3"
    },
    "language_info": {
      "name": "python"
    },
    "accelerator": "GPU"
  },
  "cells": [
    {
      "cell_type": "code",
      "source": [
        "!git clone https://github.com/AvonYangXX1/AMPLify-Feedback.git\n",
        "import tensorflow as tf\n",
        "import numpy as np\n",
        "import pandas as pd\n",
        "import seaborn as sns\n",
        "import matplotlib.pyplot as plt"
      ],
      "metadata": {
        "colab": {
          "base_uri": "https://localhost:8080/"
        },
        "id": "oeShSnnkB-_P",
        "outputId": "677435cf-1d4a-428b-bf64-3bd7c504f7e0"
      },
      "execution_count": 15,
      "outputs": [
        {
          "output_type": "stream",
          "name": "stdout",
          "text": [
            "fatal: destination path 'AMPLify-Feedback' already exists and is not an empty directory.\n"
          ]
        }
      ]
    },
    {
      "cell_type": "code",
      "source": [
        "tf.config.run_functions_eagerly(True)\n",
        "\n",
        "seq_train = np.load(\"AMPLify-Feedback/processed_data/cv/seq_train_1.npy\")\n",
        "state_train = np.load(\"AMPLify-Feedback/processed_data/cv/state_train_1.npy\")\n",
        "label_train = np.load(\"AMPLify-Feedback/processed_data/cv/label_train_1.npy\")\n",
        "seq_test = np.load(\"AMPLify-Feedback/processed_data/cv/seq_test_1.npy\")\n",
        "state_test = np.load(\"AMPLify-Feedback/processed_data/cv/state_test_1.npy\")\n",
        "label_test = np.load(\"AMPLify-Feedback/processed_data/cv/label_test_1.npy\")\n",
        "seq_train = np.expand_dims(seq_train, 2).astype(\"float32\")\n",
        "seq_test = np.expand_dims(seq_test, 2).astype(\"float32\")\n",
        "state_train = np.expand_dims(state_train, 2).astype(\"float32\")\n",
        "state_test = np.expand_dims(state_test, 2).astype(\"float32\")\n",
        "\n",
        "train_dataset = tf.data.Dataset.from_tensor_slices(((seq_train, state_train), label_train))\n",
        "train_dataset = train_dataset.shuffle(buffer_size=len(seq_train))\n",
        "train_dataset = train_dataset.batch(100)\n",
        "train_dataset = train_dataset.prefetch(tf.data.experimental.AUTOTUNE)\n",
        "test_dataset = tf.data.Dataset.from_tensor_slices(((seq_test, state_test), label_test))\n",
        "test_dataset = test_dataset.batch(100)\n",
        "test_dataset = test_dataset.prefetch(tf.data.experimental.AUTOTUNE)"
      ],
      "metadata": {
        "id": "YpUHhfy-B_Gb"
      },
      "execution_count": 2,
      "outputs": []
    },
    {
      "cell_type": "code",
      "source": [
        "@tf.function\n",
        "def train_step(seqs, states, labels):\n",
        "    with tf.GradientTape() as tape:\n",
        "        predictions = model((seqs, states))\n",
        "        loss = loss_function(labels, predictions)\n",
        "    gradients = tape.gradient(loss, model.trainable_variables)\n",
        "    optimizer.apply_gradients(zip(gradients, model.trainable_variables))\n",
        "    # train_accuracy_metric.update_state(labels, predictions)\n",
        "    return loss\n",
        "\n",
        "@tf.function\n",
        "def val_step(seqs, states, labels):\n",
        "    predictions = model((seqs, states))\n",
        "    loss = loss_function(labels, predictions)\n",
        "    # val_accuracy_metric.update_state(labels, predictions)\n",
        "    return loss"
      ],
      "metadata": {
        "id": "_qWWsywqB_Ji"
      },
      "execution_count": 24,
      "outputs": []
    },
    {
      "cell_type": "code",
      "execution_count": 46,
      "metadata": {
        "id": "9IJgawk8B14C"
      },
      "outputs": [],
      "source": [
        "class ActivityPredictor(tf.keras.Model):\n",
        "    def __init__(self):\n",
        "        super().__init__()\n",
        "        self.Embed = tf.keras.models.Sequential([\n",
        "            tf.keras.layers.Conv1D(64, 3, activation='relu', name=\"Conv1D_0\"),\n",
        "            tf.keras.layers.MaxPooling1D(3, name=\"MaxPool_0\"),\n",
        "            tf.keras.layers.Conv1D(64, 3, activation='relu', name=\"Conv1D_1\"),\n",
        "            tf.keras.layers.MaxPooling1D(3, name=\"MaxPool_1\"),\n",
        "            tf.keras.layers.Conv1D(64, 3, activation='relu', name=\"Conv1D_2\"),\n",
        "            tf.keras.layers.MaxPooling1D(3, name=\"MaxPool_2\"),\n",
        "            # tf.keras.layers.Conv1D(64, 3, activation='relu', name=\"Conv1D_3\"),\n",
        "            # tf.keras.layers.MaxPooling1D(3, name=\"MaxPool_3\"),\n",
        "            # tf.keras.layers.Conv1D(1, 1, activation='relu', name=\"Conv1D_Fusion\"),\n",
        "            # tf.keras.layers.Flatten(name=\"Flatten\"),\n",
        "            # tf.keras.layers.Dense(128, activation=\"relu\", name=\"EmbedState\"),\n",
        "            # tf.keras.layers.LayerNormalization(name=\"LayerNorm_0\"),\n",
        "        ], name=\"EmbedState\")\n",
        "\n",
        "        self.cnn = tf.keras.models.Sequential([\n",
        "            tf.keras.layers.Conv1D(64, 3, activation='relu', name=\"Conv1D_0\"),\n",
        "            tf.keras.layers.MaxPooling1D(3, name=\"MaxPool_0\"),\n",
        "            tf.keras.layers.Conv1D(64, 3, activation='relu', name=\"Conv1D_1\"),\n",
        "            tf.keras.layers.MaxPooling1D(3, name=\"MaxPool_1\"),\n",
        "            tf.keras.layers.Conv1D(64, 3, activation='relu', name=\"Conv1D_2\"),\n",
        "            tf.keras.layers.MaxPooling1D(3, name=\"MaxPool_2\"),\n",
        "            tf.keras.layers.Conv1D(64, 3, activation='relu', name=\"Conv1D_3\"),\n",
        "            tf.keras.layers.MaxPooling1D(3, name=\"MaxPool_3\"),\n",
        "            # tf.keras.layers.Conv1D(64, 3, activation='relu', name=\"Conv1D_4\"),\n",
        "            # tf.keras.layers.Conv1D(64, 3, activation='relu', name=\"Conv1D_5\"),\n",
        "            # tf.keras.layers.Conv1D(64, 3, activation='relu', name=\"Conv1D_6\"),\n",
        "            # tf.keras.layers.Conv1D(1, 1, activation='relu', name=\"Conv1D_Fusion\"),\n",
        "            # tf.keras.layers.Flatten(name=\"Flatten\"),\n",
        "            # tf.keras.layers.LSTM(1024, name=\"GRU_0\", return_sequences=True),\n",
        "            # tf.keras.layers.GRU(1024, name=\"GRU_1\", return_sequences=True),\n",
        "            # tf.keras.layers.GRU(128, name=\"GRU_2\", return_sequences=True),\n",
        "            # tf.keras.layers.GRU(128, name=\"GRU_3\", return_sequences=True),\n",
        "            # tf.keras.layers.LSTM(1024, name=\"GRU_4\", return_sequences=False),\n",
        "            # tf.keras.layers.Dense(512, activation=\"relu\", name=\"CNN_Out\"),\n",
        "            # tf.keras.layers.LayerNormalization(name=\"LayerNorm_1\"),\n",
        "        ], name=\"cnn\")\n",
        "\n",
        "        self.fcn = tf.keras.models.Sequential([\n",
        "            tf.keras.layers.Conv1D(64, 3, activation='relu', name=\"Conv1D_0\"),\n",
        "            # tf.keras.layers.MaxPooling1D(3, name=\"MaxPool_0\"),\n",
        "            # tf.keras.layers.Conv1D(64, 3, activation='relu', name=\"Conv1D_1\"),\n",
        "            # tf.keras.layers.MaxPooling1D(3, name=\"MaxPool_1\"),\n",
        "            # tf.keras.layers.Conv1D(64, 3, activation='relu', name=\"Conv1D_2\", padding=\"same\"),\n",
        "            # tf.keras.layers.MaxPooling1D(3, name=\"MaxPool_2\"),\n",
        "            # tf.keras.layers.Conv1D(64, 3, activation='relu', name=\"Conv1D_3\", padding=\"same\"),\n",
        "            # tf.keras.layers.MaxPooling1D(3, name=\"MaxPool_3\"),\n",
        "            tf.keras.layers.Conv1D(1, 1, activation='relu', name=\"Conv1D_Fusion\"),\n",
        "            tf.keras.layers.Flatten(name=\"Flatten\"),\n",
        "            tf.keras.layers.Dense(1024, activation=\"relu\", name=\"Dense_0\"),\n",
        "            # tf.keras.layers.Dense(1024, activation=\"relu\", name=\"Dense_1\"),\n",
        "            # tf.keras.layers.Dense(1024, activation=\"relu\", name=\"Dense_2\"),\n",
        "            # tf.keras.layers.Dense(1024, activation=\"relu\", name=\"Dense_3\"),\n",
        "            tf.keras.layers.Dense(64, activation=\"relu\", name=\"Dense_4\"),\n",
        "            # tf.keras.layers.LayerNormalization(name=\"LayerNorm_3\"),\n",
        "        ], name=\"fcn\")\n",
        "        self.Output = tf.keras.layers.Dense(1, activation=\"linear\", name=\"Output\")\n",
        "        # self.call_layernorm = tf.keras.layers.LayerNormalization(name=\"LayerNorm_2\")\n",
        "\n",
        "    def call(self, data):\n",
        "        [seq, state] = data\n",
        "        x0 = self.cnn(seq)\n",
        "        x1 = self.Embed(state)\n",
        "        x = tf.keras.layers.Concatenate(axis=1)([x0, x1])\n",
        "        # x = self.call_layernorm(x)\n",
        "        x = self.fcn(x)\n",
        "        x = self.Output(x)\n",
        "        return x\n",
        "\n",
        "model = ActivityPredictor()\n",
        "optimizer = tf.keras.optimizers.Adam(learning_rate=1e-4)\n",
        "loss_function = tf.keras.losses.MeanSquaredError()\n",
        "# train_accuracy_metric = tf.keras.metrics.BinaryAccuracy()\n",
        "# val_accuracy_metric = tf.keras.metrics.BinaryAccuracy()\n",
        "model.compile(optimizer=optimizer, loss=loss_function, metrics=[\"accuracy\"])"
      ]
    },
    {
      "cell_type": "code",
      "source": [
        "EPOCHS = 20\n",
        "\n",
        "for epoch in range(EPOCHS):\n",
        "    print(f\"\\nEpoch {epoch + 1}/{EPOCHS}\")\n",
        "    print('-' * 40)\n",
        "\n",
        "    # Training Loop\n",
        "    total_loss = 0\n",
        "    num_batches = 0\n",
        "    for (batch_seqs, batch_states), batch_labels in train_dataset:\n",
        "        total_loss += train_step(batch_seqs, batch_states, batch_labels)\n",
        "        num_batches += 1\n",
        "    train_loss = total_loss / num_batches\n",
        "    # train_accuracy = train_accuracy_metric.result()\n",
        "\n",
        "    # Test Loop\n",
        "    total_test_loss = 0\n",
        "    num_test_batches = 0\n",
        "    for (batch_seqs, batch_states), batch_labels in test_dataset:\n",
        "        total_test_loss += val_step(batch_seqs, batch_states, batch_labels)\n",
        "        num_test_batches += 1\n",
        "    test_loss = total_test_loss / num_test_batches\n",
        "    # val_accuracy = val_accuracy_metric.result()\n",
        "\n",
        "    # Logging Results\n",
        "    print(f\"Train Loss: {train_loss:.4f}\")\n",
        "    print(f\"Test Loss: {test_loss:.4f}\")\n",
        "\n",
        "    # Resetting Metrics\n",
        "    # train_accuracy_metric.reset_states()\n",
        "    # val_accuracy_metric.reset_states()"
      ],
      "metadata": {
        "colab": {
          "base_uri": "https://localhost:8080/"
        },
        "id": "F31H0L07CITN",
        "outputId": "bbcc7ad1-9439-4e7a-a895-8b9c1ca906ce"
      },
      "execution_count": 47,
      "outputs": [
        {
          "output_type": "stream",
          "name": "stdout",
          "text": [
            "\n",
            "Epoch 1/20\n",
            "----------------------------------------\n",
            "Train Loss: 0.7542\n",
            "Validation Loss: 0.4394\n",
            "\n",
            "Epoch 2/20\n",
            "----------------------------------------\n",
            "Train Loss: 0.4390\n",
            "Validation Loss: 0.4290\n",
            "\n",
            "Epoch 3/20\n",
            "----------------------------------------\n",
            "Train Loss: 0.4267\n",
            "Validation Loss: 0.4169\n",
            "\n",
            "Epoch 4/20\n",
            "----------------------------------------\n",
            "Train Loss: 0.4101\n",
            "Validation Loss: 0.4047\n",
            "\n",
            "Epoch 5/20\n",
            "----------------------------------------\n",
            "Train Loss: 0.3955\n",
            "Validation Loss: 0.3965\n",
            "\n",
            "Epoch 6/20\n",
            "----------------------------------------\n",
            "Train Loss: 0.3826\n",
            "Validation Loss: 0.3822\n",
            "\n",
            "Epoch 7/20\n",
            "----------------------------------------\n",
            "Train Loss: 0.3726\n",
            "Validation Loss: 0.3754\n",
            "\n",
            "Epoch 8/20\n",
            "----------------------------------------\n",
            "Train Loss: 0.3631\n",
            "Validation Loss: 0.3750\n",
            "\n",
            "Epoch 9/20\n",
            "----------------------------------------\n",
            "Train Loss: 0.3556\n",
            "Validation Loss: 0.3622\n",
            "\n",
            "Epoch 10/20\n",
            "----------------------------------------\n",
            "Train Loss: 0.3481\n",
            "Validation Loss: 0.3736\n",
            "\n",
            "Epoch 11/20\n",
            "----------------------------------------\n",
            "Train Loss: 0.3417\n",
            "Validation Loss: 0.3581\n",
            "\n",
            "Epoch 12/20\n",
            "----------------------------------------\n",
            "Train Loss: 0.3356\n",
            "Validation Loss: 0.3526\n",
            "\n",
            "Epoch 13/20\n",
            "----------------------------------------\n",
            "Train Loss: 0.3295\n",
            "Validation Loss: 0.3470\n",
            "\n",
            "Epoch 14/20\n",
            "----------------------------------------\n",
            "Train Loss: 0.3240\n",
            "Validation Loss: 0.3430\n",
            "\n",
            "Epoch 15/20\n",
            "----------------------------------------\n",
            "Train Loss: 0.3207\n",
            "Validation Loss: 0.3410\n",
            "\n",
            "Epoch 16/20\n",
            "----------------------------------------\n",
            "Train Loss: 0.3162\n",
            "Validation Loss: 0.3393\n",
            "\n",
            "Epoch 17/20\n",
            "----------------------------------------\n",
            "Train Loss: 0.3114\n",
            "Validation Loss: 0.3353\n",
            "\n",
            "Epoch 18/20\n",
            "----------------------------------------\n",
            "Train Loss: 0.3080\n",
            "Validation Loss: 0.3491\n",
            "\n",
            "Epoch 19/20\n",
            "----------------------------------------\n",
            "Train Loss: 0.3060\n",
            "Validation Loss: 0.3365\n",
            "\n",
            "Epoch 20/20\n",
            "----------------------------------------\n",
            "Train Loss: 0.3023\n",
            "Validation Loss: 0.3301\n"
          ]
        }
      ]
    },
    {
      "cell_type": "code",
      "source": [
        "pred = model.predict((seq_test, state_test))"
      ],
      "metadata": {
        "id": "m673nzAOCIVm",
        "colab": {
          "base_uri": "https://localhost:8080/"
        },
        "outputId": "1407a5ff-26a1-4947-f984-5d00dd59c493"
      },
      "execution_count": 50,
      "outputs": [
        {
          "output_type": "stream",
          "name": "stdout",
          "text": [
            "  7/154 [>.............................] - ETA: 2s"
          ]
        },
        {
          "output_type": "stream",
          "name": "stderr",
          "text": [
            "/usr/local/lib/python3.10/dist-packages/tensorflow/python/data/ops/structured_function.py:258: UserWarning: Even though the `tf.config.experimental_run_functions_eagerly` option is set, this option does not apply to tf.data functions. To force eager execution of tf.data functions, please use `tf.data.experimental.enable_debug_mode()`.\n",
            "  warnings.warn(\n"
          ]
        },
        {
          "output_type": "stream",
          "name": "stdout",
          "text": [
            "154/154 [==============================] - 3s 19ms/step\n"
          ]
        }
      ]
    },
    {
      "cell_type": "code",
      "source": [
        "plt.scatter(label_test, pred)\n",
        "plt.xlabel(\"True\")\n",
        "plt.ylabel(\"Predicted\")"
      ],
      "metadata": {
        "colab": {
          "base_uri": "https://localhost:8080/",
          "height": 467
        },
        "id": "CBkO8JM5k2IN",
        "outputId": "3228983b-bcf1-4875-e713-3d93daf00390"
      },
      "execution_count": 55,
      "outputs": [
        {
          "output_type": "execute_result",
          "data": {
            "text/plain": [
              "Text(0, 0.5, 'Predicted')"
            ]
          },
          "metadata": {},
          "execution_count": 55
        },
        {
          "output_type": "display_data",
          "data": {
            "text/plain": [
              "<Figure size 640x480 with 1 Axes>"
            ],
            "image/png": "[encoded data removed]"
          },
          "metadata": {}
        }
      ]
    }
  ]
}