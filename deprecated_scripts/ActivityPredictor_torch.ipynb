{
  "nbformat": 4,
  "nbformat_minor": 0,
  "metadata": {
    "colab": {
      "provenance": [],
      "gpuType": "T4"
    },
    "kernelspec": {
      "name": "python3",
      "display_name": "Python 3"
    },
    "language_info": {
      "name": "python"
    },
    "accelerator": "GPU"
  },
  "cells": [
    {
      "cell_type": "code",
      "execution_count": null,
      "metadata": {
        "colab": {
          "base_uri": "https://localhost:8080/"
        },
        "id": "GPN6WKvDRUz7",
        "outputId": "00708225-bb1f-413f-b1e8-73898451e93c"
      },
      "outputs": [
        {
          "output_type": "stream",
          "name": "stdout",
          "text": [
            "Cloning into 'AMPLify-Feedback'...\n",
            "remote: Enumerating objects: 106, done.\u001b[K\n",
            "remote: Counting objects: 100% (106/106), done.\u001b[K\n",
            "remote: Compressing objects: 100% (41/41), done.\u001b[K\n",
            "remote: Total 106 (delta 66), reused 98 (delta 61), pack-reused 0\u001b[K\n",
            "Receiving objects: 100% (106/106), 6.40 MiB | 4.28 MiB/s, done.\n",
            "Resolving deltas: 100% (66/66), done.\n",
            "Updating files: 100% (41/41), done.\n"
          ]
        }
      ],
      "source": [
        "!git clone https://github.com/AvonYangXX1/AMPLify-Feedback.git\n",
        "import torch\n",
        "import torch.nn as nn\n",
        "import torch.optim as optim\n",
        "from torch.utils.data import DataLoader, TensorDataset\n",
        "import numpy as np"
      ]
    },
    {
      "cell_type": "code",
      "source": [
        "# Load data\n",
        "seq_train = np.load(\"AMPLify-Feedback/processed_data/cv/seq_train_0.npy\")\n",
        "state_train = np.load(\"AMPLify-Feedback/processed_data/cv/state_train_0.npy\")\n",
        "label_train = np.load(\"AMPLify-Feedback/processed_data/cv/label_train_0.npy\")\n",
        "seq_test = np.load(\"AMPLify-Feedback/processed_data/cv/seq_test_0.npy\")\n",
        "state_test = np.load(\"AMPLify-Feedback/processed_data/cv/state_test_0.npy\")\n",
        "label_test = np.load(\"AMPLify-Feedback/processed_data/cv/label_test_0.npy\")\n",
        "seq_train = np.expand_dims(seq_train, 2)\n",
        "seq_test = np.expand_dims(seq_test, 2)\n",
        "\n",
        "# Convert to torch tensors\n",
        "seq_train_tensor = torch.from_numpy(seq_train).float()\n",
        "state_train_tensor = torch.from_numpy(state_train).float()\n",
        "label_train_tensor = torch.from_numpy(label_train).float()\n",
        "seq_test_tensor = torch.from_numpy(seq_test).float()\n",
        "state_test_tensor = torch.from_numpy(state_test).float()\n",
        "label_test_tensor = torch.from_numpy(label_test).float()\n",
        "\n",
        "# Create dataloaders\n",
        "train_dataset = TensorDataset(seq_train_tensor, state_train_tensor, label_train_tensor)\n",
        "train_loader = DataLoader(train_dataset, batch_size=32, shuffle=True)\n",
        "test_dataset = TensorDataset(seq_test_tensor, state_test_tensor, label_test_tensor)\n",
        "test_loader = DataLoader(test_dataset, batch_size=32)"
      ],
      "metadata": {
        "id": "Hc6sLqMl4FCS"
      },
      "execution_count": null,
      "outputs": []
    },
    {
      "cell_type": "code",
      "source": [
        "class ActivityPredictor(nn.Module):\n",
        "    def __init__(self):\n",
        "        super(ActivityPredictor, self).__init__()\n",
        "        # RNN\n",
        "        self.gru_0 = nn.LSTM(1, 1024, batch_first=True)\n",
        "        # self.gru_1 = nn.LSTM(512, 512)\n",
        "        # self.gru_2 = nn.GRU(512, 512)\n",
        "        self.gru_3 = nn.LSTM(1024, 128)\n",
        "        self.linear_rnn_0 = nn.Linear(128, 128)\n",
        "        # self.layernorm_rnn = nn.LayerNorm(128)\n",
        "        # Embedding\n",
        "        self.linear_embed = nn.Linear(326, 128)\n",
        "        self.layernorm_embed = nn.LayerNorm(128)\n",
        "        # FCN\n",
        "        self.linear_fcn_0 = nn.Linear(256, 1024)\n",
        "        self.linear_fcn_1 = nn.Linear(1024, 1024)\n",
        "        self.linear_fcn_2 = nn.Linear(1024, 64)\n",
        "        self.layernorm_fcn = nn.LayerNorm(64)\n",
        "        # forward\n",
        "        self.layernorm_fwd = nn.LayerNorm(256)\n",
        "        # output\n",
        "        self.linear_output = nn.Linear(64, 1)\n",
        "\n",
        "    def forward(self, seq, state):\n",
        "        x0 = self.rnn(seq)\n",
        "        x1 = self.embed(state)\n",
        "        x = torch.cat((x0, x1), dim=1)\n",
        "        x = self.layernorm_fwd(x)\n",
        "        x = nn.ReLU()(x)\n",
        "        x = self.fcn(x)\n",
        "        x = self.output(x)\n",
        "        return x\n",
        "\n",
        "    def embed(self, x):\n",
        "        x = self.linear_embed(x)\n",
        "        x = nn.ReLU()(x)\n",
        "        x = self.layernorm_embed(x)\n",
        "        x = nn.ReLU()(x)\n",
        "        return x\n",
        "\n",
        "    def rnn(self, x):\n",
        "        x, _ = self.gru_0(x)\n",
        "        # x, _ = self.gru_1(x)\n",
        "        # x, _ = self.gru_2(x)\n",
        "        x, _ = self.gru_3(x)\n",
        "        x = x[:, -1, :]\n",
        "        x = self.linear_rnn_0(x)\n",
        "        x = nn.ReLU()(x)\n",
        "        # x = self.layernorm_rnn(x)\n",
        "        return x\n",
        "\n",
        "    def fcn(self, x):\n",
        "        x = self.linear_fcn_0(x)\n",
        "        x = nn.ReLU()(x)\n",
        "        x = self.linear_fcn_1(x)\n",
        "        x = nn.ReLU()(x)\n",
        "        x = self.linear_fcn_2(x)\n",
        "        x = nn.ReLU()(x)\n",
        "        x = self.layernorm_fcn(x)\n",
        "        x = nn.ReLU()(x)\n",
        "        return x\n",
        "\n",
        "    def output(self, x):\n",
        "        x = self.linear_output(x)\n",
        "        # x = nn.Sigmoid()(x)\n",
        "        return x\n",
        "\n"
      ],
      "metadata": {
        "id": "_6JKSefJ3_NX"
      },
      "execution_count": null,
      "outputs": []
    },
    {
      "cell_type": "code",
      "source": [
        "device = torch.device(\"cuda\" if torch.cuda.is_available() else \"cpu\")\n",
        "model = ActivityPredictor().to(device)\n",
        "optimizer = optim.Adam(model.parameters(), lr=0.0001)\n",
        "criterion = nn.BCEWithLogitsLoss()\n",
        "\n",
        "EPOCHS = 10\n",
        "\n",
        "for epoch in range(EPOCHS):\n",
        "    # Training Loop\n",
        "    model.train()\n",
        "    total_loss = 0\n",
        "    correct_train = 0\n",
        "    for batch_seqs, batch_states, batch_labels in train_loader:\n",
        "        batch_seqs, batch_states, batch_labels = batch_seqs.to(device), batch_states.to(device), batch_labels.to(device)\n",
        "        optimizer.zero_grad()\n",
        "        outputs = model(seq=batch_seqs, state=batch_states)\n",
        "        loss = criterion(outputs, batch_labels.float())\n",
        "        loss.backward()\n",
        "        optimizer.step()\n",
        "        total_loss += loss.item()\n",
        "        correct_train += ((outputs.squeeze() > 0.5) == batch_labels).sum().item()\n",
        "\n",
        "    train_accuracy = correct_train / len(seq_train)\n",
        "\n",
        "    # Validation Loop\n",
        "    model.eval()\n",
        "    total_val_loss = 0\n",
        "    correct_val = 0\n",
        "    with torch.no_grad():\n",
        "        for batch_seqs, batch_states, batch_labels in test_loader:\n",
        "            batch_seqs, batch_states, batch_labels = batch_seqs.to(device), batch_states.to(device), batch_labels.to(device)\n",
        "            outputs = model(batch_seqs, batch_states)\n",
        "            loss = criterion(outputs, batch_labels.float())\n",
        "            total_val_loss += loss.item()\n",
        "            correct_val += ((outputs.squeeze() > 0.5) == batch_labels).sum().item()\n",
        "\n",
        "    val_accuracy = correct_val / len(seq_test)\n",
        "\n",
        "    # Logging Results\n",
        "    print(f\"Epoch {epoch + 1}/{EPOCHS}\")\n",
        "    print('-' * 40)\n",
        "    print(f\"Train Loss: {total_loss / len(train_loader):.4f}, Train Accuracy: {train_accuracy:.4f}\")\n",
        "    print(f\"Validation Loss: {total_val_loss / len(test_loader):.4f}, Validation Accuracy: {val_accuracy:.4f}\")\n"
      ],
      "metadata": {
        "colab": {
          "base_uri": "https://localhost:8080/",
          "height": 536
        },
        "id": "6zHMci9-4NIP",
        "outputId": "15c39d55-6250-4ab0-c508-e9750f4f970b"
      },
      "execution_count": null,
      "outputs": [
        {
          "output_type": "stream",
          "name": "stdout",
          "text": [
            "Epoch 1/10\n",
            "----------------------------------------\n",
            "Train Loss: 0.6928, Train Accuracy: 15.9550\n",
            "Validation Loss: 0.6918, Validation Accuracy: 15.9430\n",
            "Epoch 2/10\n",
            "----------------------------------------\n",
            "Train Loss: 0.6913, Train Accuracy: 15.9966\n",
            "Validation Loss: 0.6912, Validation Accuracy: 15.9430\n",
            "Epoch 3/10\n",
            "----------------------------------------\n",
            "Train Loss: 0.6909, Train Accuracy: 15.9970\n",
            "Validation Loss: 0.6918, Validation Accuracy: 15.9430\n",
            "Epoch 4/10\n",
            "----------------------------------------\n",
            "Train Loss: 0.6906, Train Accuracy: 15.9948\n",
            "Validation Loss: 0.6920, Validation Accuracy: 15.9430\n"
          ]
        },
        {
          "output_type": "error",
          "ename": "KeyboardInterrupt",
          "evalue": "ignored",
          "traceback": [
            "\u001b[0;31m---------------------------------------------------------------------------\u001b[0m",
            "\u001b[0;31mKeyboardInterrupt\u001b[0m                         Traceback (most recent call last)",
            "\u001b[0;32m<ipython-input-5-09e9527aa79e>\u001b[0m in \u001b[0;36m<cell line: 8>\u001b[0;34m()\u001b[0m\n\u001b[1;32m     18\u001b[0m         \u001b[0mloss\u001b[0m\u001b[0;34m.\u001b[0m\u001b[0mbackward\u001b[0m\u001b[0;34m(\u001b[0m\u001b[0;34m)\u001b[0m\u001b[0;34m\u001b[0m\u001b[0;34m\u001b[0m\u001b[0m\n\u001b[1;32m     19\u001b[0m         \u001b[0moptimizer\u001b[0m\u001b[0;34m.\u001b[0m\u001b[0mstep\u001b[0m\u001b[0;34m(\u001b[0m\u001b[0;34m)\u001b[0m\u001b[0;34m\u001b[0m\u001b[0;34m\u001b[0m\u001b[0m\n\u001b[0;32m---> 20\u001b[0;31m         \u001b[0mtotal_loss\u001b[0m \u001b[0;34m+=\u001b[0m \u001b[0mloss\u001b[0m\u001b[0;34m.\u001b[0m\u001b[0mitem\u001b[0m\u001b[0;34m(\u001b[0m\u001b[0;34m)\u001b[0m\u001b[0;34m\u001b[0m\u001b[0;34m\u001b[0m\u001b[0m\n\u001b[0m\u001b[1;32m     21\u001b[0m         \u001b[0mcorrect_train\u001b[0m \u001b[0;34m+=\u001b[0m \u001b[0;34m(\u001b[0m\u001b[0;34m(\u001b[0m\u001b[0moutputs\u001b[0m\u001b[0;34m.\u001b[0m\u001b[0msqueeze\u001b[0m\u001b[0;34m(\u001b[0m\u001b[0;34m)\u001b[0m \u001b[0;34m>\u001b[0m \u001b[0;36m0.5\u001b[0m\u001b[0;34m)\u001b[0m \u001b[0;34m==\u001b[0m \u001b[0mbatch_labels\u001b[0m\u001b[0;34m)\u001b[0m\u001b[0;34m.\u001b[0m\u001b[0msum\u001b[0m\u001b[0;34m(\u001b[0m\u001b[0;34m)\u001b[0m\u001b[0;34m.\u001b[0m\u001b[0mitem\u001b[0m\u001b[0;34m(\u001b[0m\u001b[0;34m)\u001b[0m\u001b[0;34m\u001b[0m\u001b[0;34m\u001b[0m\u001b[0m\n\u001b[1;32m     22\u001b[0m \u001b[0;34m\u001b[0m\u001b[0m\n",
            "\u001b[0;31mKeyboardInterrupt\u001b[0m: "
          ]
        }
      ]
    },
    {
      "cell_type": "code",
      "source": [
        "nn.Sigmoid()(model(seq=batch_seqs, state=batch_states))"
      ],
      "metadata": {
        "colab": {
          "base_uri": "https://localhost:8080/"
        },
        "id": "jOgfhs9zDR6H",
        "outputId": "49019ed7-3af5-492f-b1b6-3e6cc4f1d48e"
      },
      "execution_count": null,
      "outputs": [
        {
          "output_type": "execute_result",
          "data": {
            "text/plain": [
              "tensor([[0.5176],\n",
              "        [0.4882],\n",
              "        [0.4895],\n",
              "        [0.4895],\n",
              "        [0.4962],\n",
              "        [0.4896],\n",
              "        [0.5176],\n",
              "        [0.4769],\n",
              "        [0.4774],\n",
              "        [0.4925],\n",
              "        [0.4929],\n",
              "        [0.4979],\n",
              "        [0.4979],\n",
              "        [0.4799],\n",
              "        [0.4896],\n",
              "        [0.4916],\n",
              "        [0.4799],\n",
              "        [0.4896],\n",
              "        [0.4850],\n",
              "        [0.4769],\n",
              "        [0.4896],\n",
              "        [0.4799],\n",
              "        [0.4799],\n",
              "        [0.4850],\n",
              "        [0.4836],\n",
              "        [0.4775],\n",
              "        [0.4506],\n",
              "        [0.4881],\n",
              "        [0.4979],\n",
              "        [0.4895],\n",
              "        [0.4896],\n",
              "        [0.4772]], device='cuda:0', grad_fn=<SigmoidBackward0>)"
            ]
          },
          "metadata": {},
          "execution_count": 6
        }
      ]
    },
    {
      "cell_type": "code",
      "source": [
        "batch_labels"
      ],
      "metadata": {
        "colab": {
          "base_uri": "https://localhost:8080/"
        },
        "id": "99vYX5jrCQGr",
        "outputId": "215fd606-94e9-4e20-f5d2-7374966f2cd8"
      },
      "execution_count": null,
      "outputs": [
        {
          "output_type": "execute_result",
          "data": {
            "text/plain": [
              "tensor([[0.0000],\n",
              "        [0.0000],\n",
              "        [0.9971],\n",
              "        [0.0000],\n",
              "        [0.9430],\n",
              "        [0.0000],\n",
              "        [0.0000],\n",
              "        [0.0000],\n",
              "        [0.9971],\n",
              "        [0.9942],\n",
              "        [0.0000],\n",
              "        [0.9968],\n",
              "        [0.0000],\n",
              "        [0.0000],\n",
              "        [0.0000],\n",
              "        [0.0000],\n",
              "        [0.9932],\n",
              "        [0.9873],\n",
              "        [0.9845],\n",
              "        [0.9955],\n",
              "        [0.9910],\n",
              "        [0.7811],\n",
              "        [0.0000],\n",
              "        [0.0000],\n",
              "        [0.0000],\n",
              "        [0.0000],\n",
              "        [0.5458],\n",
              "        [0.9965],\n",
              "        [0.0000],\n",
              "        [0.9973],\n",
              "        [0.9968],\n",
              "        [0.7699]], device='cuda:0')"
            ]
          },
          "metadata": {},
          "execution_count": 7
        }
      ]
    }
  ]
}