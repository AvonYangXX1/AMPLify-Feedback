{
  "nbformat": 4,
  "nbformat_minor": 0,
  "metadata": {
    "colab": {
      "provenance": []
    },
    "kernelspec": {
      "name": "python3",
      "display_name": "Python 3"
    },
    "language_info": {
      "name": "python"
    }
  },
  "cells": [
    {
      "cell_type": "code",
      "execution_count": 94,
      "metadata": {
        "colab": {
          "base_uri": "https://localhost:8080/"
        },
        "id": "Un8Vus9RfeSa",
        "outputId": "f9d5d3da-880e-424d-ee78-98e2f1e59cb3"
      },
      "outputs": [
        {
          "output_type": "stream",
          "name": "stdout",
          "text": [
            "fatal: destination path 'AMPLify-Feedback' already exists and is not an empty directory.\n"
          ]
        }
      ],
      "source": [
        "!git clone https://github.com/AvonYangXX1/AMPLify-Feedback.git\n",
        "import tensorflow as tf\n",
        "from tensorflow.keras.optimizers import Adam\n",
        "from tensorflow.keras import layers\n",
        "import numpy as np\n",
        "import math\n",
        "import matplotlib.pyplot as plt"
      ]
    },
    {
      "cell_type": "code",
      "source": [
        "generator = tf.keras.models.load_model('AMPLify-Feedback/model_weights/PeptideGenerator.keras')"
      ],
      "metadata": {
        "id": "0dUXRksXfmC_"
      },
      "execution_count": 95,
      "outputs": []
    },
    {
      "cell_type": "code",
      "source": [
        "generator.summary()"
      ],
      "metadata": {
        "colab": {
          "base_uri": "https://localhost:8080/"
        },
        "id": "J7tSERKUhWJI",
        "outputId": "5ae3a771-3b32-4a3d-9e10-cb5c8857e816"
      },
      "execution_count": 96,
      "outputs": [
        {
          "output_type": "stream",
          "name": "stdout",
          "text": [
            "Model: \"model_17\"\n",
            "__________________________________________________________________________________________________\n",
            " Layer (type)                Output Shape                 Param #   Connected to                  \n",
            "==================================================================================================\n",
            " Input1 (InputLayer)         [(None, 326)]                0         []                            \n",
            "                                                                                                  \n",
            " Input0 (InputLayer)         [(None, 10)]                 0         []                            \n",
            "                                                                                                  \n",
            " Input1Transform (Dense)     (None, 10)                   3270      ['Input1[0][0]']              \n",
            "                                                                                                  \n",
            " Concat (Concatenate)        (None, 20)                   0         ['Input0[0][0]',              \n",
            "                                                                     'Input1Transform[0][0]']     \n",
            "                                                                                                  \n",
            " Dense0 (Dense)              (None, 256)                  5376      ['Concat[0][0]']              \n",
            "                                                                                                  \n",
            " BatchNorm0 (BatchNormaliza  (None, 256)                  1024      ['Dense0[0][0]']              \n",
            " tion)                                                                                            \n",
            "                                                                                                  \n",
            " DenseResize (Dense)         (None, 1900)                 488300    ['BatchNorm0[0][0]']          \n",
            "                                                                                                  \n",
            " Reshape (Reshape)           (None, 190, 10)              0         ['DenseResize[0][0]']         \n",
            "                                                                                                  \n",
            " GRU0 (GRU)                  (None, 190, 256)             205824    ['Reshape[0][0]']             \n",
            "                                                                                                  \n",
            " Output (Dense)              (None, 190, 43)              11051     ['GRU0[0][0]']                \n",
            "                                                                                                  \n",
            "==================================================================================================\n",
            "Total params: 714845 (2.73 MB)\n",
            "Trainable params: 714333 (2.72 MB)\n",
            "Non-trainable params: 512 (2.00 KB)\n",
            "__________________________________________________________________________________________________\n"
          ]
        }
      ]
    },
    {
      "cell_type": "code",
      "source": [
        "discriminator = tf.keras.models.load_model('AMPLify-Feedback/model_weights/PeptideDiscriminator.keras')"
      ],
      "metadata": {
        "colab": {
          "base_uri": "https://localhost:8080/"
        },
        "id": "u0uod60_0zC0",
        "outputId": "7bd51f6d-2aa9-4d21-b4d6-183805a2481e"
      },
      "execution_count": 97,
      "outputs": [
        {
          "output_type": "stream",
          "name": "stderr",
          "text": [
            "WARNING:absl:Skipping variable loading for optimizer 'Adam', because it has 1 variables whereas the saved optimizer has 13 variables. \n"
          ]
        }
      ]
    },
    {
      "cell_type": "code",
      "source": [
        "discriminator.summary()"
      ],
      "metadata": {
        "id": "U-gpnXH005KM",
        "colab": {
          "base_uri": "https://localhost:8080/"
        },
        "outputId": "81f5c3eb-8e75-4fe7-a71d-037ad75ff486"
      },
      "execution_count": 98,
      "outputs": [
        {
          "output_type": "stream",
          "name": "stdout",
          "text": [
            "Model: \"discriminator\"\n",
            "_________________________________________________________________\n",
            " Layer (type)                Output Shape              Param #   \n",
            "=================================================================\n",
            " Flatten (Flatten)           (None, 8170)              0         \n",
            "                                                                 \n",
            " Dense0 (Dense)              (None, 512)               4183552   \n",
            "                                                                 \n",
            " Dropout (Dropout)           (None, 512)               0         \n",
            "                                                                 \n",
            " Dense1 (Dense)              (None, 256)               131328    \n",
            "                                                                 \n",
            " Output (Dense)              (None, 1)                 257       \n",
            "                                                                 \n",
            "=================================================================\n",
            "Total params: 4315137 (16.46 MB)\n",
            "Trainable params: 0 (0.00 Byte)\n",
            "Non-trainable params: 4315137 (16.46 MB)\n",
            "_________________________________________________________________\n"
          ]
        }
      ]
    },
    {
      "cell_type": "code",
      "source": [
        "def create_oracle():\n",
        "    inputs0 = tf.keras.layers.Input((190,43),name=\"SeqInput\")\n",
        "    inputs1 = tf.keras.layers.Input((326,),name=\"StateInput\")\n",
        "    x = tf.keras.layers.Conv1D(128, 5, activation='relu', name=\"Conv1D_0\")(inputs0) # kernel_size=5 works well\n",
        "    x = tf.keras.layers.Conv1D(128, 5, activation='relu', name=\"Conv1D_1\")(x) # Just two layers work better\n",
        "    x = tf.keras.layers.Flatten(name=\"Flatten_0\")(x)\n",
        "    x = tf.keras.layers.Dense(512, activation=\"relu\", name=\"LearnSeqDense_0\")(x)\n",
        "    x = tf.keras.layers.Concatenate(axis=1, name=\"Concat\")([x, inputs1])\n",
        "    x = tf.keras.layers.Dense(1024, activation=\"relu\", name=\"LearnConcatDense_0\")(x)\n",
        "    x = tf.keras.layers.LayerNormalization(name=\"LayerNorm_0\")(x)\n",
        "    x = tf.keras.layers.Dense(512, activation=\"relu\", name=\"LearnConcatDense_1\")(x)\n",
        "    x = tf.keras.layers.LayerNormalization(name=\"LayerNorm_1\")(x)\n",
        "    x = tf.keras.layers.Dense(1, activation=\"linear\", name=\"Output\")(x)\n",
        "    model = tf.keras.models.Model([inputs0, inputs1], x, name=\"MICPredictor\")\n",
        "    return model"
      ],
      "metadata": {
        "id": "KK6BbgTkf3Nb"
      },
      "execution_count": 99,
      "outputs": []
    },
    {
      "cell_type": "code",
      "source": [
        "oracle = create_oracle()\n",
        "path = \"AMPLify-Feedback/model_weights/MICPredictor\"\n",
        "for i, layer in enumerate(oracle.layers):\n",
        "    weights = np.load(f\"{path}/layer_{i}_weights.npy\", allow_pickle=True)\n",
        "    layer.set_weights(weights)"
      ],
      "metadata": {
        "id": "D977mDVFggf1"
      },
      "execution_count": 100,
      "outputs": []
    },
    {
      "cell_type": "code",
      "source": [
        "oracle.summary()"
      ],
      "metadata": {
        "id": "EyQM0g3330Vb",
        "colab": {
          "base_uri": "https://localhost:8080/"
        },
        "outputId": "d5d7183e-0d7e-412d-f29c-08bfb032ef0b"
      },
      "execution_count": 101,
      "outputs": [
        {
          "output_type": "stream",
          "name": "stdout",
          "text": [
            "Model: \"MICPredictor\"\n",
            "__________________________________________________________________________________________________\n",
            " Layer (type)                Output Shape                 Param #   Connected to                  \n",
            "==================================================================================================\n",
            " SeqInput (InputLayer)       [(None, 190, 43)]            0         []                            \n",
            "                                                                                                  \n",
            " Conv1D_0 (Conv1D)           (None, 186, 128)             27648     ['SeqInput[0][0]']            \n",
            "                                                                                                  \n",
            " Conv1D_1 (Conv1D)           (None, 182, 128)             82048     ['Conv1D_0[0][0]']            \n",
            "                                                                                                  \n",
            " Flatten_0 (Flatten)         (None, 23296)                0         ['Conv1D_1[0][0]']            \n",
            "                                                                                                  \n",
            " LearnSeqDense_0 (Dense)     (None, 512)                  1192806   ['Flatten_0[0][0]']           \n",
            "                                                          4                                       \n",
            "                                                                                                  \n",
            " StateInput (InputLayer)     [(None, 326)]                0         []                            \n",
            "                                                                                                  \n",
            " Concat (Concatenate)        (None, 838)                  0         ['LearnSeqDense_0[0][0]',     \n",
            "                                                                     'StateInput[0][0]']          \n",
            "                                                                                                  \n",
            " LearnConcatDense_0 (Dense)  (None, 1024)                 859136    ['Concat[0][0]']              \n",
            "                                                                                                  \n",
            " LayerNorm_0 (LayerNormaliz  (None, 1024)                 2048      ['LearnConcatDense_0[0][0]']  \n",
            " ation)                                                                                           \n",
            "                                                                                                  \n",
            " LearnConcatDense_1 (Dense)  (None, 512)                  524800    ['LayerNorm_0[0][0]']         \n",
            "                                                                                                  \n",
            " LayerNorm_1 (LayerNormaliz  (None, 512)                  1024      ['LearnConcatDense_1[0][0]']  \n",
            " ation)                                                                                           \n",
            "                                                                                                  \n",
            " Output (Dense)              (None, 1)                    513       ['LayerNorm_1[0][0]']         \n",
            "                                                                                                  \n",
            "==================================================================================================\n",
            "Total params: 13425281 (51.21 MB)\n",
            "Trainable params: 13425281 (51.21 MB)\n",
            "Non-trainable params: 0 (0.00 Byte)\n",
            "__________________________________________________________________________________________________\n"
          ]
        }
      ]
    },
    {
      "cell_type": "code",
      "source": [
        "# GAN\n",
        "def compile_gan(generator, discriminator):\n",
        "    discriminator.compile(loss='binary_crossentropy', optimizer='adam', metrics=['accuracy'])\n",
        "    discriminator.trainable = False\n",
        "    gan_input0 = layers.Input(shape=(latent_dim,))\n",
        "    gan_input1 = layers.Input(shape=(326,))\n",
        "    gan_output = discriminator(generator([gan_input0, gan_input1]))\n",
        "    gan = tf.keras.Model([gan_input0, gan_input1], gan_output)\n",
        "    gan.compile(loss='binary_crossentropy', optimizer='adam')\n",
        "    return gan"
      ],
      "metadata": {
        "id": "ULeDwzAP0pxM"
      },
      "execution_count": 102,
      "outputs": []
    },
    {
      "cell_type": "code",
      "source": [
        "def generate_sequences(generator, latent_dim, num_sequences):\n",
        "    noise = np.random.normal(0, 1, (num_sequences, latent_dim))\n",
        "    bacteria = []\n",
        "    for i in range(num_sequences):\n",
        "      bacterium = np.zeros(326)\n",
        "      bacterium[np.random.randint(0, 326)]=1\n",
        "      bacteria.append([bacterium])\n",
        "    bacteria = np.concatenate(bacteria, axis=0)\n",
        "    generated_sequences = generator.predict([noise, bacteria])\n",
        "    return generated_sequences, bacteria"
      ],
      "metadata": {
        "id": "Fo2d1_s9hSs0"
      },
      "execution_count": 103,
      "outputs": []
    },
    {
      "cell_type": "code",
      "source": [
        "def fit_gan(generator, discriminator, gan, seq_train, state_train, labels, epochs, batch_size, latent_dim):\n",
        "    for epoch in range(epochs):\n",
        "        for i in range(0, seq_train.shape[0], batch_size):\n",
        "            sequences = seq_train[i:i + batch_size]\n",
        "            state_train_batch = state_train[i:i + batch_size]\n",
        "            current_batch_size = sequences.shape[0]\n",
        "\n",
        "            # Train discriminator\n",
        "            discriminator.trainable = True\n",
        "            d_loss = discriminator.train_on_batch(sequences, labels, return_dict=True)\n",
        "            discriminator.trainable = False\n",
        "\n",
        "            # Train generator\n",
        "            noise = np.random.normal(0, 1, (current_batch_size, latent_dim))\n",
        "            g_loss = gan.train_on_batch([noise, state_train_batch], labels)\n",
        "\n",
        "            # Print the progress\n",
        "            print(f\"Epoch {epoch+1}/{epochs}, Batch {i//batch_size+1}, Discriminator Loss: {d_loss}, Generator Loss: {g_loss}\")\n",
        "            return d_loss, g_loss"
      ],
      "metadata": {
        "id": "L6ofmOCju_lt"
      },
      "execution_count": 104,
      "outputs": []
    },
    {
      "cell_type": "code",
      "source": [
        "def feedback_loop_prediction(prediction, threshold):\n",
        "  loop_prediction = np.zeros((prediction.shape[0], 1))\n",
        "  for i in range (prediction.shape[0]):\n",
        "    if prediction[i] < threshold:\n",
        "      loop_prediction[i] = 1\n",
        "  return loop_prediction"
      ],
      "metadata": {
        "id": "c8wwXH4zzdNT"
      },
      "execution_count": 105,
      "outputs": []
    },
    {
      "cell_type": "code",
      "source": [
        "def RL_loop(generator, discriminator, gan, oracle, num_sequences, epochs):\n",
        "  d_loss = []\n",
        "  d_accuracy = []\n",
        "  g_loss = []\n",
        "  for i in range (n_iter_max) :\n",
        "    sequences, bacteria = generate_sequences(generator, latent_dim, num_sequences)\n",
        "    prediction = oracle.predict([sequences, bacteria])\n",
        "    loop_prediction = feedback_loop_prediction(prediction, math.log(100,2))\n",
        "    d_results, g_results = fit_gan(generator, discriminator, gan, sequences, bacteria, loop_prediction, epochs=epochs, batch_size=num_sequences, latent_dim=latent_dim)\n",
        "    d_loss += [d_results['loss']]\n",
        "    d_accuracy += [d_results['accuracy']]\n",
        "    g_loss += [g_results]\n",
        "  return d_loss, d_accuracy, g_loss"
      ],
      "metadata": {
        "id": "wbEqlQ5xz8R4"
      },
      "execution_count": 106,
      "outputs": []
    },
    {
      "cell_type": "code",
      "source": [
        "def display(parameters):\n",
        "  for p in list(parameters.keys()):\n",
        "    plt.plot(range(len(parameters[p])), parameters[p], linestyle='-', label = p)\n",
        "  plt.legend(loc = \"upper right\")\n",
        "  plt.ylabel(\"Value\")\n",
        "  plt.xlabel(\"Iteration index\")\n",
        "  plt.title(\"Performances with the feedback loop\")\n",
        "  plt.show()"
      ],
      "metadata": {
        "id": "T9tJGh8JjX7i"
      },
      "execution_count": 107,
      "outputs": []
    },
    {
      "cell_type": "code",
      "source": [
        "latent_dim = 10\n",
        "num_sequences = 200\n",
        "n_iter_max = 50\n",
        "epochs = 5\n",
        "\n",
        "gan = compile_gan(generator, discriminator) #build the model\n",
        "d_loss, d_accuracy, g_loss = RL_loop(generator, discriminator, gan, oracle, num_sequences, epochs) #train the loop\n",
        "display({\"Discriminator loss\" : d_loss, \"Discriminator accuracy\" : d_accuracy, \"Generator loss\" : g_loss})"
      ],
      "metadata": {
        "id": "P_CXFJVM3I6R",
        "colab": {
          "base_uri": "https://localhost:8080/",
          "height": 1000
        },
        "outputId": "6e06b605-50df-46a6-8819-c3255668c177"
      },
      "execution_count": 108,
      "outputs": [
        {
          "output_type": "stream",
          "name": "stdout",
          "text": [
            "7/7 [==============================] - 1s 81ms/step\n",
            "7/7 [==============================] - 0s 33ms/step\n",
            "Epoch 1/5, Batch 1, Discriminator Loss: {'loss': 1.2059205770492554, 'accuracy': 0.33500000834465027}, Generator Loss: 1.1831183433532715\n",
            "7/7 [==============================] - 1s 87ms/step\n",
            "7/7 [==============================] - 0s 34ms/step\n",
            "Epoch 1/5, Batch 1, Discriminator Loss: {'loss': 1.0443035364151, 'accuracy': 0.4699999988079071}, Generator Loss: 1.0216264724731445\n",
            "7/7 [==============================] - 1s 80ms/step\n",
            "7/7 [==============================] - 0s 35ms/step\n",
            "Epoch 1/5, Batch 1, Discriminator Loss: {'loss': 0.9682623147964478, 'accuracy': 0.4749999940395355}, Generator Loss: 0.8452352285385132\n",
            "7/7 [==============================] - 1s 104ms/step\n",
            "7/7 [==============================] - 0s 56ms/step\n",
            "Epoch 1/5, Batch 1, Discriminator Loss: {'loss': 0.6753681302070618, 'accuracy': 0.6399999856948853}, Generator Loss: 0.6385031938552856\n",
            "7/7 [==============================] - 1s 170ms/step\n",
            "7/7 [==============================] - 1s 78ms/step\n",
            "Epoch 1/5, Batch 1, Discriminator Loss: {'loss': 0.6818841695785522, 'accuracy': 0.6700000166893005}, Generator Loss: 0.7894639372825623\n",
            "7/7 [==============================] - 1s 145ms/step\n",
            "7/7 [==============================] - 0s 33ms/step\n",
            "Epoch 1/5, Batch 1, Discriminator Loss: {'loss': 0.4852036237716675, 'accuracy': 0.7649999856948853}, Generator Loss: 0.47998350858688354\n",
            "7/7 [==============================] - 1s 75ms/step\n",
            "7/7 [==============================] - 0s 31ms/step\n",
            "Epoch 1/5, Batch 1, Discriminator Loss: {'loss': 0.7219682931900024, 'accuracy': 0.7799999713897705}, Generator Loss: 0.6657902598381042\n",
            "7/7 [==============================] - 1s 78ms/step\n",
            "7/7 [==============================] - 0s 33ms/step\n",
            "Epoch 1/5, Batch 1, Discriminator Loss: {'loss': 0.6796092391014099, 'accuracy': 0.7699999809265137}, Generator Loss: 0.6977157592773438\n",
            "7/7 [==============================] - 1s 79ms/step\n",
            "7/7 [==============================] - 0s 32ms/step\n",
            "Epoch 1/5, Batch 1, Discriminator Loss: {'loss': 0.7612159252166748, 'accuracy': 0.8450000286102295}, Generator Loss: 0.7403164505958557\n",
            "7/7 [==============================] - 1s 112ms/step\n",
            "7/7 [==============================] - 0s 52ms/step\n",
            "Epoch 1/5, Batch 1, Discriminator Loss: {'loss': 0.7317096590995789, 'accuracy': 0.8399999737739563}, Generator Loss: 0.8588265776634216\n",
            "7/7 [==============================] - 1s 79ms/step\n",
            "7/7 [==============================] - 0s 33ms/step\n",
            "Epoch 1/5, Batch 1, Discriminator Loss: {'loss': 0.4586150348186493, 'accuracy': 0.8849999904632568}, Generator Loss: 0.6155686378479004\n",
            "7/7 [==============================] - 1s 77ms/step\n",
            "7/7 [==============================] - 0s 32ms/step\n",
            "Epoch 1/5, Batch 1, Discriminator Loss: {'loss': 0.6224461793899536, 'accuracy': 0.8299999833106995}, Generator Loss: 0.5897310376167297\n",
            "7/7 [==============================] - 1s 77ms/step\n",
            "7/7 [==============================] - 0s 32ms/step\n",
            "Epoch 1/5, Batch 1, Discriminator Loss: {'loss': 0.5068128108978271, 'accuracy': 0.8399999737739563}, Generator Loss: 0.4827042520046234\n",
            "7/7 [==============================] - 1s 77ms/step\n",
            "7/7 [==============================] - 0s 32ms/step\n",
            "Epoch 1/5, Batch 1, Discriminator Loss: {'loss': 0.6298654079437256, 'accuracy': 0.824999988079071}, Generator Loss: 0.5453385710716248\n",
            "7/7 [==============================] - 1s 82ms/step\n",
            "7/7 [==============================] - 0s 34ms/step\n",
            "Epoch 1/5, Batch 1, Discriminator Loss: {'loss': 0.701641857624054, 'accuracy': 0.7799999713897705}, Generator Loss: 0.5666956305503845\n",
            "7/7 [==============================] - 1s 85ms/step\n",
            "7/7 [==============================] - 0s 34ms/step\n",
            "Epoch 1/5, Batch 1, Discriminator Loss: {'loss': 0.37856119871139526, 'accuracy': 0.8450000286102295}, Generator Loss: 0.4781739413738251\n",
            "7/7 [==============================] - 1s 84ms/step\n",
            "7/7 [==============================] - 0s 33ms/step\n",
            "Epoch 1/5, Batch 1, Discriminator Loss: {'loss': 0.3849608898162842, 'accuracy': 0.8349999785423279}, Generator Loss: 0.4422684907913208\n",
            "7/7 [==============================] - 1s 76ms/step\n",
            "7/7 [==============================] - 0s 32ms/step\n",
            "Epoch 1/5, Batch 1, Discriminator Loss: {'loss': 0.5871925354003906, 'accuracy': 0.7799999713897705}, Generator Loss: 0.4593990743160248\n",
            "7/7 [==============================] - 1s 85ms/step\n",
            "7/7 [==============================] - 0s 32ms/step\n",
            "Epoch 1/5, Batch 1, Discriminator Loss: {'loss': 0.45908355712890625, 'accuracy': 0.8700000047683716}, Generator Loss: 0.44903841614723206\n",
            "7/7 [==============================] - 1s 75ms/step\n",
            "7/7 [==============================] - 0s 33ms/step\n",
            "Epoch 1/5, Batch 1, Discriminator Loss: {'loss': 0.5648191571235657, 'accuracy': 0.8450000286102295}, Generator Loss: 0.499004065990448\n",
            "7/7 [==============================] - 1s 119ms/step\n",
            "7/7 [==============================] - 0s 33ms/step\n",
            "Epoch 1/5, Batch 1, Discriminator Loss: {'loss': 0.5505897402763367, 'accuracy': 0.824999988079071}, Generator Loss: 0.5647767782211304\n",
            "7/7 [==============================] - 1s 82ms/step\n",
            "7/7 [==============================] - 0s 32ms/step\n",
            "Epoch 1/5, Batch 1, Discriminator Loss: {'loss': 0.6450841426849365, 'accuracy': 0.8399999737739563}, Generator Loss: 0.7213259935379028\n",
            "7/7 [==============================] - 1s 81ms/step\n",
            "7/7 [==============================] - 0s 35ms/step\n",
            "Epoch 1/5, Batch 1, Discriminator Loss: {'loss': 0.558854341506958, 'accuracy': 0.8450000286102295}, Generator Loss: 0.5592350959777832\n",
            "7/7 [==============================] - 1s 77ms/step\n",
            "7/7 [==============================] - 0s 33ms/step\n",
            "Epoch 1/5, Batch 1, Discriminator Loss: {'loss': 0.7064900994300842, 'accuracy': 0.8100000023841858}, Generator Loss: 0.6480105519294739\n",
            "7/7 [==============================] - 1s 80ms/step\n",
            "7/7 [==============================] - 0s 34ms/step\n",
            "Epoch 1/5, Batch 1, Discriminator Loss: {'loss': 0.5490365028381348, 'accuracy': 0.8500000238418579}, Generator Loss: 0.5584539771080017\n",
            "7/7 [==============================] - 1s 79ms/step\n",
            "7/7 [==============================] - 0s 49ms/step\n",
            "Epoch 1/5, Batch 1, Discriminator Loss: {'loss': 0.49341851472854614, 'accuracy': 0.8349999785423279}, Generator Loss: 0.471407026052475\n",
            "7/7 [==============================] - 1s 77ms/step\n",
            "7/7 [==============================] - 0s 33ms/step\n",
            "Epoch 1/5, Batch 1, Discriminator Loss: {'loss': 0.42028409242630005, 'accuracy': 0.8650000095367432}, Generator Loss: 0.4373495876789093\n",
            "7/7 [==============================] - 1s 80ms/step\n",
            "7/7 [==============================] - 0s 33ms/step\n",
            "Epoch 1/5, Batch 1, Discriminator Loss: {'loss': 0.46873170137405396, 'accuracy': 0.8149999976158142}, Generator Loss: 0.5447490811347961\n",
            "7/7 [==============================] - 1s 82ms/step\n",
            "7/7 [==============================] - 0s 35ms/step\n",
            "Epoch 1/5, Batch 1, Discriminator Loss: {'loss': 0.4636557102203369, 'accuracy': 0.8450000286102295}, Generator Loss: 0.4188314378261566\n",
            "7/7 [==============================] - 1s 83ms/step\n",
            "7/7 [==============================] - 0s 34ms/step\n",
            "Epoch 1/5, Batch 1, Discriminator Loss: {'loss': 0.48241645097732544, 'accuracy': 0.8349999785423279}, Generator Loss: 0.397060364484787\n",
            "7/7 [==============================] - 1s 74ms/step\n",
            "7/7 [==============================] - 0s 36ms/step\n",
            "Epoch 1/5, Batch 1, Discriminator Loss: {'loss': 0.538222074508667, 'accuracy': 0.7900000214576721}, Generator Loss: 0.5344663858413696\n",
            "7/7 [==============================] - 1s 87ms/step\n",
            "7/7 [==============================] - 0s 35ms/step\n",
            "Epoch 1/5, Batch 1, Discriminator Loss: {'loss': 0.3956861197948456, 'accuracy': 0.8500000238418579}, Generator Loss: 0.47247597575187683\n",
            "7/7 [==============================] - 1s 80ms/step\n",
            "7/7 [==============================] - 0s 34ms/step\n",
            "Epoch 1/5, Batch 1, Discriminator Loss: {'loss': 0.6441806554794312, 'accuracy': 0.7850000262260437}, Generator Loss: 0.48960837721824646\n",
            "7/7 [==============================] - 1s 77ms/step\n",
            "7/7 [==============================] - 0s 35ms/step\n",
            "Epoch 1/5, Batch 1, Discriminator Loss: {'loss': 0.4273773431777954, 'accuracy': 0.8500000238418579}, Generator Loss: 0.4172300696372986\n",
            "7/7 [==============================] - 1s 77ms/step\n",
            "7/7 [==============================] - 0s 34ms/step\n",
            "Epoch 1/5, Batch 1, Discriminator Loss: {'loss': 0.394934743642807, 'accuracy': 0.8700000047683716}, Generator Loss: 0.3246327340602875\n",
            "7/7 [==============================] - 1s 77ms/step\n",
            "7/7 [==============================] - 0s 34ms/step\n",
            "Epoch 1/5, Batch 1, Discriminator Loss: {'loss': 0.34571877121925354, 'accuracy': 0.8700000047683716}, Generator Loss: 0.41369569301605225\n",
            "7/7 [==============================] - 1s 110ms/step\n",
            "7/7 [==============================] - 0s 32ms/step\n",
            "Epoch 1/5, Batch 1, Discriminator Loss: {'loss': 0.4315858781337738, 'accuracy': 0.8399999737739563}, Generator Loss: 0.46574684977531433\n",
            "7/7 [==============================] - 1s 80ms/step\n",
            "7/7 [==============================] - 0s 33ms/step\n",
            "Epoch 1/5, Batch 1, Discriminator Loss: {'loss': 0.34775295853614807, 'accuracy': 0.8500000238418579}, Generator Loss: 0.34884920716285706\n",
            "7/7 [==============================] - 1s 77ms/step\n",
            "7/7 [==============================] - 0s 32ms/step\n",
            "Epoch 1/5, Batch 1, Discriminator Loss: {'loss': 0.27912411093711853, 'accuracy': 0.925000011920929}, Generator Loss: 0.35409748554229736\n",
            "7/7 [==============================] - 1s 77ms/step\n",
            "7/7 [==============================] - 0s 33ms/step\n",
            "Epoch 1/5, Batch 1, Discriminator Loss: {'loss': 0.36760810017585754, 'accuracy': 0.8899999856948853}, Generator Loss: 0.3503586947917938\n",
            "7/7 [==============================] - 1s 75ms/step\n",
            "7/7 [==============================] - 0s 33ms/step\n",
            "Epoch 1/5, Batch 1, Discriminator Loss: {'loss': 0.6875802874565125, 'accuracy': 0.8349999785423279}, Generator Loss: 0.697145402431488\n",
            "7/7 [==============================] - 1s 110ms/step\n",
            "7/7 [==============================] - 0s 33ms/step\n",
            "Epoch 1/5, Batch 1, Discriminator Loss: {'loss': 0.43463799357414246, 'accuracy': 0.8949999809265137}, Generator Loss: 0.4405047297477722\n",
            "7/7 [==============================] - 1s 75ms/step\n",
            "7/7 [==============================] - 0s 35ms/step\n",
            "Epoch 1/5, Batch 1, Discriminator Loss: {'loss': 0.33453941345214844, 'accuracy': 0.9200000166893005}, Generator Loss: 0.39331039786338806\n",
            "7/7 [==============================] - 1s 110ms/step\n",
            "7/7 [==============================] - 0s 72ms/step\n",
            "Epoch 1/5, Batch 1, Discriminator Loss: {'loss': 0.4531252384185791, 'accuracy': 0.8849999904632568}, Generator Loss: 0.4459764361381531\n",
            "7/7 [==============================] - 1s 84ms/step\n",
            "7/7 [==============================] - 0s 32ms/step\n",
            "Epoch 1/5, Batch 1, Discriminator Loss: {'loss': 0.4467215836048126, 'accuracy': 0.8849999904632568}, Generator Loss: 0.4550548493862152\n",
            "7/7 [==============================] - 1s 81ms/step\n",
            "7/7 [==============================] - 0s 33ms/step\n",
            "Epoch 1/5, Batch 1, Discriminator Loss: {'loss': 0.36035507917404175, 'accuracy': 0.8849999904632568}, Generator Loss: 0.3852979242801666\n",
            "7/7 [==============================] - 1s 87ms/step\n",
            "7/7 [==============================] - 0s 34ms/step\n",
            "Epoch 1/5, Batch 1, Discriminator Loss: {'loss': 0.4198986291885376, 'accuracy': 0.8949999809265137}, Generator Loss: 0.39501839876174927\n",
            "7/7 [==============================] - 1s 80ms/step\n",
            "7/7 [==============================] - 0s 33ms/step\n",
            "Epoch 1/5, Batch 1, Discriminator Loss: {'loss': 0.4423518776893616, 'accuracy': 0.8700000047683716}, Generator Loss: 0.4701159596443176\n",
            "7/7 [==============================] - 1s 79ms/step\n",
            "7/7 [==============================] - 0s 33ms/step\n",
            "Epoch 1/5, Batch 1, Discriminator Loss: {'loss': 0.45050758123397827, 'accuracy': 0.8999999761581421}, Generator Loss: 0.34832486510276794\n",
            "7/7 [==============================] - 1s 82ms/step\n",
            "7/7 [==============================] - 0s 33ms/step\n",
            "Epoch 1/5, Batch 1, Discriminator Loss: {'loss': 0.5339270830154419, 'accuracy': 0.8700000047683716}, Generator Loss: 0.4694448709487915\n"
          ]
        },
        {
          "output_type": "display_data",
          "data": {
            "text/plain": [
              "<Figure size 640x480 with 1 Axes>"
            ],
            "image/png": "[encoded data removed]"
          },
          "metadata": {}
        }
      ]
    }
  ]
}
